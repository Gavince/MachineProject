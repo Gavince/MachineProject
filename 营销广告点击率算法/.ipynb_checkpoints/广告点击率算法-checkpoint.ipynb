{
 "cells": [
  {
   "cell_type": "markdown",
   "metadata": {
    "slideshow": {
     "slide_type": "slide"
    }
   },
   "source": [
    "## 赛题背景"
   ]
  },
  {
   "cell_type": "markdown",
   "metadata": {
    "slideshow": {
     "slide_type": "slide"
    }
   },
   "source": [
    "　　讯飞AI营销云在高速发展的同时，积累了海量的广告数据和用户数据，如何有效利用这些数据去预测用户的广告点击概率，是大数据应用在精准营销中的关键问题，也是所有智能营销平台必须具备的核心技术。\n",
    "\n",
    "本次大赛提供了讯飞AI营销云的海量广告投放数据，参赛选手通过人工智能技术构建预测模型预估用户的广告点击概率，**即给定广告点击相关的广告、媒体、用户、上下文内容等信息的条件下预测广告点击概率**。希望通过本次大赛挖掘AI营销算法领域的顶尖人才，共同推动AI营销的技术革新。"
   ]
  },
  {
   "cell_type": "markdown",
   "metadata": {},
   "source": [
    "## EDA"
   ]
  },
  {
   "cell_type": "code",
   "execution_count": 1,
   "metadata": {},
   "outputs": [],
   "source": [
    "import numpy as np\n",
    "import pandas as pd\n",
    "import seaborn as sns\n",
    "import matplotlib.pylab as plt\n",
    "import gc\n",
    "from time import time\n",
    "import datetime\n",
    "sns.set_context(\"paper\")\n",
    "sns.set_style(\"whitegrid\")\n",
    "pd.set_option('display.max_columns', None)\n",
    "%matplotlib inline"
   ]
  },
  {
   "cell_type": "code",
   "execution_count": 91,
   "metadata": {},
   "outputs": [
    {
     "name": "stdout",
     "output_type": "stream",
     "text": [
      "<class 'pandas.core.frame.DataFrame'>\n",
      "RangeIndex: 1001650 entries, 0 to 1001649\n",
      "Data columns (total 35 columns):\n",
      " #   Column                 Non-Null Count    Dtype  \n",
      "---  ------                 --------------    -----  \n",
      " 0   instance_id            1001650 non-null  int64  \n",
      " 1   time                   1001650 non-null  int64  \n",
      " 2   city                   1001650 non-null  int64  \n",
      " 3   province               1001650 non-null  int64  \n",
      " 4   user_tags              691880 non-null   object \n",
      " 5   carrier                1001650 non-null  int64  \n",
      " 6   devtype                1001650 non-null  int64  \n",
      " 7   make                   902733 non-null   object \n",
      " 8   model                  994248 non-null   object \n",
      " 9   nnt                    1001650 non-null  int64  \n",
      " 10  os                     1001650 non-null  int64  \n",
      " 11  osv                    993878 non-null   object \n",
      " 12  os_name                1001650 non-null  object \n",
      " 13  adid                   1001650 non-null  int64  \n",
      " 14  advert_id              1001650 non-null  int64  \n",
      " 15  orderid                1001650 non-null  int64  \n",
      " 16  advert_industry_inner  1001650 non-null  object \n",
      " 17  campaign_id            1001650 non-null  int64  \n",
      " 18  creative_id            1001650 non-null  int64  \n",
      " 19  creative_tp_dnf        1001650 non-null  int64  \n",
      " 20  app_cate_id            999383 non-null   float64\n",
      " 21  f_channel              76390 non-null    object \n",
      " 22  app_id                 999383 non-null   float64\n",
      " 23  inner_slot_id          1001650 non-null  object \n",
      " 24  creative_type          1001650 non-null  int64  \n",
      " 25  creative_width         1001650 non-null  int64  \n",
      " 26  creative_height        1001650 non-null  int64  \n",
      " 27  creative_is_jump       1001650 non-null  bool   \n",
      " 28  creative_is_download   1001650 non-null  bool   \n",
      " 29  creative_is_js         1001650 non-null  bool   \n",
      " 30  creative_is_voicead    1001650 non-null  bool   \n",
      " 31  creative_has_deeplink  1001650 non-null  bool   \n",
      " 32  app_paid               1001650 non-null  bool   \n",
      " 33  advert_name            1001650 non-null  object \n",
      " 34  click                  1001650 non-null  int64  \n",
      "dtypes: bool(6), float64(2), int64(18), object(9)\n",
      "memory usage: 227.3+ MB\n"
     ]
    }
   ],
   "source": [
    "# 读取AB 榜单数据集\n",
    "train1 = pd.read_table(\"data/competitiondata6532/科大讯飞初赛/data/round1_iflyad_train.txt\")\n",
    "train1.info()"
   ]
  },
  {
   "cell_type": "code",
   "execution_count": 92,
   "metadata": {},
   "outputs": [
    {
     "name": "stdout",
     "output_type": "stream",
     "text": [
      "<class 'pandas.core.frame.DataFrame'>\n",
      "RangeIndex: 1998350 entries, 0 to 1998349\n",
      "Data columns (total 35 columns):\n",
      " #   Column                 Dtype  \n",
      "---  ------                 -----  \n",
      " 0   instance_id            int64  \n",
      " 1   time                   int64  \n",
      " 2   city                   int64  \n",
      " 3   province               int64  \n",
      " 4   user_tags              object \n",
      " 5   carrier                int64  \n",
      " 6   devtype                int64  \n",
      " 7   make                   object \n",
      " 8   model                  object \n",
      " 9   nnt                    int64  \n",
      " 10  os                     int64  \n",
      " 11  osv                    object \n",
      " 12  os_name                object \n",
      " 13  adid                   int64  \n",
      " 14  advert_id              int64  \n",
      " 15  orderid                int64  \n",
      " 16  advert_industry_inner  object \n",
      " 17  campaign_id            int64  \n",
      " 18  creative_id            int64  \n",
      " 19  creative_tp_dnf        int64  \n",
      " 20  app_cate_id            float64\n",
      " 21  f_channel              object \n",
      " 22  app_id                 float64\n",
      " 23  inner_slot_id          object \n",
      " 24  creative_type          int64  \n",
      " 25  creative_width         int64  \n",
      " 26  creative_height        int64  \n",
      " 27  creative_is_jump       bool   \n",
      " 28  creative_is_download   bool   \n",
      " 29  creative_is_js         bool   \n",
      " 30  creative_is_voicead    bool   \n",
      " 31  creative_has_deeplink  bool   \n",
      " 32  app_paid               bool   \n",
      " 33  advert_name            object \n",
      " 34  click                  int64  \n",
      "dtypes: bool(6), float64(2), int64(18), object(9)\n",
      "memory usage: 453.6+ MB\n"
     ]
    }
   ],
   "source": [
    "train2 = pd.read_table(\"data/competitiondata6532/科大讯飞复赛/round2_iflyad_train.txt\")\n",
    "train2.info()"
   ]
  },
  {
   "cell_type": "code",
   "execution_count": 93,
   "metadata": {},
   "outputs": [
    {
     "name": "stdout",
     "output_type": "stream",
     "text": [
      "<class 'pandas.core.frame.DataFrame'>\n",
      "RangeIndex: 3000000 entries, 0 to 2999999\n",
      "Data columns (total 35 columns):\n",
      " #   Column                 Dtype  \n",
      "---  ------                 -----  \n",
      " 0   instance_id            int64  \n",
      " 1   time                   int64  \n",
      " 2   city                   int64  \n",
      " 3   province               int64  \n",
      " 4   user_tags              object \n",
      " 5   carrier                int64  \n",
      " 6   devtype                int64  \n",
      " 7   make                   object \n",
      " 8   model                  object \n",
      " 9   nnt                    int64  \n",
      " 10  os                     int64  \n",
      " 11  osv                    object \n",
      " 12  os_name                object \n",
      " 13  adid                   int64  \n",
      " 14  advert_id              int64  \n",
      " 15  orderid                int64  \n",
      " 16  advert_industry_inner  object \n",
      " 17  campaign_id            int64  \n",
      " 18  creative_id            int64  \n",
      " 19  creative_tp_dnf        int64  \n",
      " 20  app_cate_id            float64\n",
      " 21  f_channel              object \n",
      " 22  app_id                 float64\n",
      " 23  inner_slot_id          object \n",
      " 24  creative_type          int64  \n",
      " 25  creative_width         int64  \n",
      " 26  creative_height        int64  \n",
      " 27  creative_is_jump       bool   \n",
      " 28  creative_is_download   bool   \n",
      " 29  creative_is_js         bool   \n",
      " 30  creative_is_voicead    bool   \n",
      " 31  creative_has_deeplink  bool   \n",
      " 32  app_paid               bool   \n",
      " 33  advert_name            object \n",
      " 34  click                  int64  \n",
      "dtypes: bool(6), float64(2), int64(18), object(9)\n",
      "memory usage: 680.9+ MB\n"
     ]
    }
   ],
   "source": [
    "# 合并AB榜单数据\n",
    "train = pd.concat([train2, train1], ignore_index=True)\n",
    "train.info()"
   ]
  },
  {
   "cell_type": "code",
   "execution_count": 94,
   "metadata": {},
   "outputs": [
    {
     "name": "stdout",
     "output_type": "stream",
     "text": [
      "<class 'pandas.core.frame.DataFrame'>\n",
      "RangeIndex: 2992639 entries, 0 to 2992638\n",
      "Data columns (total 35 columns):\n",
      " #   Column                 Dtype  \n",
      "---  ------                 -----  \n",
      " 0   instance_id            int64  \n",
      " 1   time                   int64  \n",
      " 2   city                   int64  \n",
      " 3   province               int64  \n",
      " 4   user_tags              object \n",
      " 5   carrier                int64  \n",
      " 6   devtype                int64  \n",
      " 7   make                   object \n",
      " 8   model                  object \n",
      " 9   nnt                    int64  \n",
      " 10  os                     int64  \n",
      " 11  osv                    object \n",
      " 12  os_name                object \n",
      " 13  adid                   int64  \n",
      " 14  advert_id              int64  \n",
      " 15  orderid                int64  \n",
      " 16  advert_industry_inner  object \n",
      " 17  campaign_id            int64  \n",
      " 18  creative_id            int64  \n",
      " 19  creative_tp_dnf        int64  \n",
      " 20  app_cate_id            float64\n",
      " 21  f_channel              object \n",
      " 22  app_id                 float64\n",
      " 23  inner_slot_id          object \n",
      " 24  creative_type          int64  \n",
      " 25  creative_width         int64  \n",
      " 26  creative_height        int64  \n",
      " 27  creative_is_jump       bool   \n",
      " 28  creative_is_download   bool   \n",
      " 29  creative_is_js         bool   \n",
      " 30  creative_is_voicead    bool   \n",
      " 31  creative_has_deeplink  bool   \n",
      " 32  app_paid               bool   \n",
      " 33  advert_name            object \n",
      " 34  click                  int64  \n",
      "dtypes: bool(6), float64(2), int64(18), object(9)\n",
      "memory usage: 679.3+ MB\n"
     ]
    }
   ],
   "source": [
    "# 消除合并后的重复数据\n",
    "train = train.drop_duplicates().reset_index(drop=True)  # dorp不增加新的索引\n",
    "train.info()"
   ]
  },
  {
   "cell_type": "code",
   "execution_count": 95,
   "metadata": {},
   "outputs": [
    {
     "name": "stdout",
     "output_type": "stream",
     "text": [
      "<class 'pandas.core.frame.DataFrame'>\n",
      "RangeIndex: 80276 entries, 0 to 80275\n",
      "Data columns (total 34 columns):\n",
      " #   Column                 Non-Null Count  Dtype  \n",
      "---  ------                 --------------  -----  \n",
      " 0   instance_id            80276 non-null  int64  \n",
      " 1   time                   80276 non-null  int64  \n",
      " 2   city                   80276 non-null  int64  \n",
      " 3   province               80276 non-null  int64  \n",
      " 4   user_tags              53562 non-null  object \n",
      " 5   carrier                80276 non-null  int64  \n",
      " 6   devtype                80276 non-null  int64  \n",
      " 7   make                   71907 non-null  object \n",
      " 8   model                  79523 non-null  object \n",
      " 9   nnt                    80276 non-null  int64  \n",
      " 10  os                     80276 non-null  int64  \n",
      " 11  osv                    79434 non-null  object \n",
      " 12  os_name                80276 non-null  object \n",
      " 13  adid                   80276 non-null  int64  \n",
      " 14  advert_id              80276 non-null  int64  \n",
      " 15  orderid                80276 non-null  int64  \n",
      " 16  advert_industry_inner  80276 non-null  object \n",
      " 17  campaign_id            80276 non-null  int64  \n",
      " 18  creative_id            80276 non-null  int64  \n",
      " 19  creative_tp_dnf        80276 non-null  int64  \n",
      " 20  app_cate_id            80213 non-null  float64\n",
      " 21  f_channel              6921 non-null   object \n",
      " 22  app_id                 80213 non-null  float64\n",
      " 23  inner_slot_id          80276 non-null  object \n",
      " 24  creative_type          80276 non-null  int64  \n",
      " 25  creative_width         80276 non-null  int64  \n",
      " 26  creative_height        80276 non-null  int64  \n",
      " 27  creative_is_jump       80276 non-null  bool   \n",
      " 28  creative_is_download   80276 non-null  bool   \n",
      " 29  creative_is_js         80276 non-null  bool   \n",
      " 30  creative_is_voicead    80276 non-null  bool   \n",
      " 31  creative_has_deeplink  80276 non-null  bool   \n",
      " 32  app_paid               80276 non-null  bool   \n",
      " 33  advert_name            80276 non-null  object \n",
      "dtypes: bool(6), float64(2), int64(17), object(9)\n",
      "memory usage: 17.6+ MB\n"
     ]
    }
   ],
   "source": [
    "# 处理测试\n",
    "label = \"click\"\n",
    "test = pd.read_table(\"data/competitiondata6532/科大讯飞复赛/round2_iflyad_test_feature.txt\")\n",
    "test.info()"
   ]
  },
  {
   "cell_type": "code",
   "execution_count": 96,
   "metadata": {},
   "outputs": [],
   "source": [
    "# 添加预测标签一列并保留测试集的index\n",
    "test[label] = -1\n",
    "res = test.instance_id  # 用作找出测试集合"
   ]
  },
  {
   "cell_type": "code",
   "execution_count": 97,
   "metadata": {},
   "outputs": [
    {
     "data": {
      "text/html": [
       "<div>\n",
       "<style scoped>\n",
       "    .dataframe tbody tr th:only-of-type {\n",
       "        vertical-align: middle;\n",
       "    }\n",
       "\n",
       "    .dataframe tbody tr th {\n",
       "        vertical-align: top;\n",
       "    }\n",
       "\n",
       "    .dataframe thead th {\n",
       "        text-align: right;\n",
       "    }\n",
       "</style>\n",
       "<table border=\"1\" class=\"dataframe\">\n",
       "  <thead>\n",
       "    <tr style=\"text-align: right;\">\n",
       "      <th></th>\n",
       "      <th>instance_id</th>\n",
       "      <th>time</th>\n",
       "      <th>city</th>\n",
       "      <th>province</th>\n",
       "      <th>user_tags</th>\n",
       "      <th>carrier</th>\n",
       "      <th>devtype</th>\n",
       "      <th>make</th>\n",
       "      <th>model</th>\n",
       "      <th>nnt</th>\n",
       "      <th>os</th>\n",
       "      <th>osv</th>\n",
       "      <th>os_name</th>\n",
       "      <th>adid</th>\n",
       "      <th>advert_id</th>\n",
       "      <th>orderid</th>\n",
       "      <th>advert_industry_inner</th>\n",
       "      <th>campaign_id</th>\n",
       "      <th>creative_id</th>\n",
       "      <th>creative_tp_dnf</th>\n",
       "      <th>app_cate_id</th>\n",
       "      <th>f_channel</th>\n",
       "      <th>app_id</th>\n",
       "      <th>inner_slot_id</th>\n",
       "      <th>creative_type</th>\n",
       "      <th>creative_width</th>\n",
       "      <th>creative_height</th>\n",
       "      <th>creative_is_jump</th>\n",
       "      <th>creative_is_download</th>\n",
       "      <th>creative_is_js</th>\n",
       "      <th>creative_is_voicead</th>\n",
       "      <th>creative_has_deeplink</th>\n",
       "      <th>app_paid</th>\n",
       "      <th>advert_name</th>\n",
       "      <th>click</th>\n",
       "    </tr>\n",
       "  </thead>\n",
       "  <tbody>\n",
       "    <tr>\n",
       "      <th>0</th>\n",
       "      <td>3930259662664932943</td>\n",
       "      <td>2190123770</td>\n",
       "      <td>137106103108100</td>\n",
       "      <td>137106103100100</td>\n",
       "      <td>,3003303,3003319,3003371,3003375,3003379,30034...</td>\n",
       "      <td>1</td>\n",
       "      <td>2</td>\n",
       "      <td>vivo</td>\n",
       "      <td>vivo X7</td>\n",
       "      <td>1</td>\n",
       "      <td>2</td>\n",
       "      <td>5.1.1</td>\n",
       "      <td>android</td>\n",
       "      <td>1579724</td>\n",
       "      <td>230000191</td>\n",
       "      <td>3012252</td>\n",
       "      <td>101700_101704</td>\n",
       "      <td>1003348</td>\n",
       "      <td>2338806</td>\n",
       "      <td>8390272894417697957</td>\n",
       "      <td>107.0</td>\n",
       "      <td>NaN</td>\n",
       "      <td>1000049.0</td>\n",
       "      <td>xf_64FAC0085FC8DC679F6BF49A1F98445D</td>\n",
       "      <td>5</td>\n",
       "      <td>320</td>\n",
       "      <td>480</td>\n",
       "      <td>False</td>\n",
       "      <td>True</td>\n",
       "      <td>False</td>\n",
       "      <td>False</td>\n",
       "      <td>False</td>\n",
       "      <td>False</td>\n",
       "      <td>42A4CB9035B7F50E</td>\n",
       "      <td>0</td>\n",
       "    </tr>\n",
       "    <tr>\n",
       "      <th>1</th>\n",
       "      <td>756979276878126082</td>\n",
       "      <td>2190123240</td>\n",
       "      <td>137105104101100</td>\n",
       "      <td>137105104100100</td>\n",
       "      <td>3003779,3003843,3003851,3003863,3003865,300386...</td>\n",
       "      <td>0</td>\n",
       "      <td>2</td>\n",
       "      <td>NaN</td>\n",
       "      <td>OPPO A59s</td>\n",
       "      <td>1</td>\n",
       "      <td>2</td>\n",
       "      <td>5.1</td>\n",
       "      <td>android</td>\n",
       "      <td>1577884</td>\n",
       "      <td>230001710</td>\n",
       "      <td>3011304</td>\n",
       "      <td>101900_101902</td>\n",
       "      <td>1003544</td>\n",
       "      <td>2342152</td>\n",
       "      <td>8390229093704413749</td>\n",
       "      <td>100.0</td>\n",
       "      <td>iqy_4</td>\n",
       "      <td>2071234.0</td>\n",
       "      <td>iqy_1000000000381-1-5-60</td>\n",
       "      <td>3</td>\n",
       "      <td>1280</td>\n",
       "      <td>720</td>\n",
       "      <td>True</td>\n",
       "      <td>False</td>\n",
       "      <td>False</td>\n",
       "      <td>False</td>\n",
       "      <td>False</td>\n",
       "      <td>False</td>\n",
       "      <td>0A421D7B11EABFC5</td>\n",
       "      <td>0</td>\n",
       "    </tr>\n",
       "    <tr>\n",
       "      <th>2</th>\n",
       "      <td>7780287653491016973</td>\n",
       "      <td>2190124101</td>\n",
       "      <td>137106101103100</td>\n",
       "      <td>137106101100100</td>\n",
       "      <td>3004430,3004434</td>\n",
       "      <td>1</td>\n",
       "      <td>2</td>\n",
       "      <td>HUAWEI</td>\n",
       "      <td>BAC-TL00</td>\n",
       "      <td>1</td>\n",
       "      <td>2</td>\n",
       "      <td>8.0.0</td>\n",
       "      <td>android</td>\n",
       "      <td>1547112</td>\n",
       "      <td>230000063</td>\n",
       "      <td>3006301</td>\n",
       "      <td>102400_102401</td>\n",
       "      <td>1000023</td>\n",
       "      <td>2338420</td>\n",
       "      <td>8390267734059046014</td>\n",
       "      <td>107.0</td>\n",
       "      <td>NaN</td>\n",
       "      <td>2089229.0</td>\n",
       "      <td>xf_275C061483984E075832A4373BDDF27B</td>\n",
       "      <td>8</td>\n",
       "      <td>1280</td>\n",
       "      <td>720</td>\n",
       "      <td>True</td>\n",
       "      <td>False</td>\n",
       "      <td>False</td>\n",
       "      <td>False</td>\n",
       "      <td>False</td>\n",
       "      <td>False</td>\n",
       "      <td>B4734117F35EE97F</td>\n",
       "      <td>0</td>\n",
       "    </tr>\n",
       "    <tr>\n",
       "      <th>3</th>\n",
       "      <td>8958262564607084969</td>\n",
       "      <td>2190123828</td>\n",
       "      <td>137104104113100</td>\n",
       "      <td>137104104100100</td>\n",
       "      <td>ag_2100036,gd_2100000,3001749,3001989,3002121,...</td>\n",
       "      <td>2</td>\n",
       "      <td>2</td>\n",
       "      <td>Xiaomi</td>\n",
       "      <td>Redmi Note 2</td>\n",
       "      <td>1</td>\n",
       "      <td>2</td>\n",
       "      <td>5.0.2</td>\n",
       "      <td>android</td>\n",
       "      <td>1558792</td>\n",
       "      <td>230000833</td>\n",
       "      <td>3005551</td>\n",
       "      <td>4_100206</td>\n",
       "      <td>1002835</td>\n",
       "      <td>2340236</td>\n",
       "      <td>8390266143715132170</td>\n",
       "      <td>100.0</td>\n",
       "      <td>NaN</td>\n",
       "      <td>2070583.0</td>\n",
       "      <td>xf_1CD92C3D58A87EEB0531A5A5BD6D7EAC</td>\n",
       "      <td>5</td>\n",
       "      <td>320</td>\n",
       "      <td>480</td>\n",
       "      <td>True</td>\n",
       "      <td>False</td>\n",
       "      <td>False</td>\n",
       "      <td>False</td>\n",
       "      <td>False</td>\n",
       "      <td>False</td>\n",
       "      <td>862FF2E9B0AD4C14</td>\n",
       "      <td>0</td>\n",
       "    </tr>\n",
       "    <tr>\n",
       "      <th>4</th>\n",
       "      <td>2216398346534608981</td>\n",
       "      <td>2190122178</td>\n",
       "      <td>137105104106100</td>\n",
       "      <td>137105104100100</td>\n",
       "      <td>NaN</td>\n",
       "      <td>1</td>\n",
       "      <td>2</td>\n",
       "      <td>OPPO</td>\n",
       "      <td>OPPO-R9s</td>\n",
       "      <td>3</td>\n",
       "      <td>2</td>\n",
       "      <td>6.0.1</td>\n",
       "      <td>android</td>\n",
       "      <td>1547112</td>\n",
       "      <td>230000063</td>\n",
       "      <td>3006301</td>\n",
       "      <td>102400_102401</td>\n",
       "      <td>1000023</td>\n",
       "      <td>2338420</td>\n",
       "      <td>8390267734059046014</td>\n",
       "      <td>107.0</td>\n",
       "      <td>NaN</td>\n",
       "      <td>2089229.0</td>\n",
       "      <td>xf_275C061483984E075832A4373BDDF27B</td>\n",
       "      <td>8</td>\n",
       "      <td>1280</td>\n",
       "      <td>720</td>\n",
       "      <td>True</td>\n",
       "      <td>False</td>\n",
       "      <td>False</td>\n",
       "      <td>False</td>\n",
       "      <td>False</td>\n",
       "      <td>False</td>\n",
       "      <td>B4734117F35EE97F</td>\n",
       "      <td>1</td>\n",
       "    </tr>\n",
       "  </tbody>\n",
       "</table>\n",
       "</div>"
      ],
      "text/plain": [
       "           instance_id        time             city         province  \\\n",
       "0  3930259662664932943  2190123770  137106103108100  137106103100100   \n",
       "1   756979276878126082  2190123240  137105104101100  137105104100100   \n",
       "2  7780287653491016973  2190124101  137106101103100  137106101100100   \n",
       "3  8958262564607084969  2190123828  137104104113100  137104104100100   \n",
       "4  2216398346534608981  2190122178  137105104106100  137105104100100   \n",
       "\n",
       "                                           user_tags  carrier  devtype  \\\n",
       "0  ,3003303,3003319,3003371,3003375,3003379,30034...        1        2   \n",
       "1  3003779,3003843,3003851,3003863,3003865,300386...        0        2   \n",
       "2                                    3004430,3004434        1        2   \n",
       "3  ag_2100036,gd_2100000,3001749,3001989,3002121,...        2        2   \n",
       "4                                                NaN        1        2   \n",
       "\n",
       "     make         model  nnt  os    osv  os_name     adid  advert_id  orderid  \\\n",
       "0    vivo       vivo X7    1   2  5.1.1  android  1579724  230000191  3012252   \n",
       "1     NaN     OPPO A59s    1   2    5.1  android  1577884  230001710  3011304   \n",
       "2  HUAWEI      BAC-TL00    1   2  8.0.0  android  1547112  230000063  3006301   \n",
       "3  Xiaomi  Redmi Note 2    1   2  5.0.2  android  1558792  230000833  3005551   \n",
       "4    OPPO      OPPO-R9s    3   2  6.0.1  android  1547112  230000063  3006301   \n",
       "\n",
       "  advert_industry_inner  campaign_id  creative_id      creative_tp_dnf  \\\n",
       "0         101700_101704      1003348      2338806  8390272894417697957   \n",
       "1         101900_101902      1003544      2342152  8390229093704413749   \n",
       "2         102400_102401      1000023      2338420  8390267734059046014   \n",
       "3              4_100206      1002835      2340236  8390266143715132170   \n",
       "4         102400_102401      1000023      2338420  8390267734059046014   \n",
       "\n",
       "   app_cate_id f_channel     app_id                        inner_slot_id  \\\n",
       "0        107.0       NaN  1000049.0  xf_64FAC0085FC8DC679F6BF49A1F98445D   \n",
       "1        100.0     iqy_4  2071234.0             iqy_1000000000381-1-5-60   \n",
       "2        107.0       NaN  2089229.0  xf_275C061483984E075832A4373BDDF27B   \n",
       "3        100.0       NaN  2070583.0  xf_1CD92C3D58A87EEB0531A5A5BD6D7EAC   \n",
       "4        107.0       NaN  2089229.0  xf_275C061483984E075832A4373BDDF27B   \n",
       "\n",
       "   creative_type  creative_width  creative_height  creative_is_jump  \\\n",
       "0              5             320              480             False   \n",
       "1              3            1280              720              True   \n",
       "2              8            1280              720              True   \n",
       "3              5             320              480              True   \n",
       "4              8            1280              720              True   \n",
       "\n",
       "   creative_is_download  creative_is_js  creative_is_voicead  \\\n",
       "0                  True           False                False   \n",
       "1                 False           False                False   \n",
       "2                 False           False                False   \n",
       "3                 False           False                False   \n",
       "4                 False           False                False   \n",
       "\n",
       "   creative_has_deeplink  app_paid       advert_name  click  \n",
       "0                  False     False  42A4CB9035B7F50E      0  \n",
       "1                  False     False  0A421D7B11EABFC5      0  \n",
       "2                  False     False  B4734117F35EE97F      0  \n",
       "3                  False     False  862FF2E9B0AD4C14      0  \n",
       "4                  False     False  B4734117F35EE97F      1  "
      ]
     },
     "execution_count": 97,
     "metadata": {},
     "output_type": "execute_result"
    }
   ],
   "source": [
    "train.head()"
   ]
  },
  {
   "cell_type": "code",
   "execution_count": 98,
   "metadata": {},
   "outputs": [],
   "source": [
    "# 测试集和训练集合一起处理\n",
    "data = pd.concat([train, test], ignore_index=True)"
   ]
  },
  {
   "cell_type": "markdown",
   "metadata": {},
   "source": [
    "### 查看时间与点击量的相关信息"
   ]
  },
  {
   "cell_type": "code",
   "execution_count": 99,
   "metadata": {},
   "outputs": [],
   "source": [
    "# 处理时间戳函数\n",
    "def get_time(attr):\n",
    "    \"\"\"从时间戳获得具体的时间信息\"\"\"\n",
    "    \n",
    "    day = []\n",
    "    hour = []\n",
    "    for time in attr:\n",
    "        t = datetime.datetime.fromtimestamp(time + 3600*24*5)  #加5天\n",
    "        day.append(t.day)\n",
    "        hour.append(t.hour)\n",
    "    \n",
    "    return day, hour"
   ]
  },
  {
   "cell_type": "code",
   "execution_count": 100,
   "metadata": {},
   "outputs": [],
   "source": [
    "train_df = train.copy()\n",
    "train_df[\"day\"], train_df[\"hour\"] = get_time(train_df.time.values)"
   ]
  },
  {
   "cell_type": "code",
   "execution_count": 101,
   "metadata": {},
   "outputs": [
    {
     "data": {
      "image/png": "[encoded data removed]",
      "text/plain": [
       "<Figure size 864x432 with 1 Axes>"
      ]
     },
     "metadata": {
      "needs_background": "light"
     },
     "output_type": "display_data"
    }
   ],
   "source": [
    "# 绘制不同时刻的点击情况\n",
    "hour_info = train_df.groupby([\"hour\", \"click\"])[\"hour\"].count()\n",
    "hour_info = hour_info.unstack()  #构成数映射表\n",
    "hour_info[[0, 1]].plot(kind=\"bar\", stacked=True, figsize=(12, 6))  # 堆叠显示\n",
    "plt.show()"
   ]
  },
  {
   "cell_type": "code",
   "execution_count": 102,
   "metadata": {},
   "outputs": [
    {
     "data": {
      "image/png": "[encoded data removed]",
      "text/plain": [
       "<Figure size 864x432 with 1 Axes>"
      ]
     },
     "metadata": {
      "needs_background": "light"
     },
     "output_type": "display_data"
    }
   ],
   "source": [
    "hour_info.plot(figsize=(12,6))\n",
    "plt.xticks(np.arange(0, 24, 6))\n",
    "plt.title(\"The plot of click in different hour\", fontsize=15)\n",
    "plt.show()"
   ]
  },
  {
   "cell_type": "markdown",
   "metadata": {},
   "source": [
    "结论: 具体每一个时间的点击率有所不同(将连续的时间离散化),可以将时间划分为四个不同的时间间隔,间隔六小时"
   ]
  },
  {
   "cell_type": "markdown",
   "metadata": {},
   "source": [
    "### 不同时间段的点击情况"
   ]
  },
  {
   "cell_type": "code",
   "execution_count": 103,
   "metadata": {},
   "outputs": [],
   "source": [
    "def seg_hour(x):\n",
    "    \"\"\"划分时间间隔\"\"\"\n",
    "    \n",
    "    if x > 0 and x <= 6:\n",
    "        return 1\n",
    "    elif x > 6 and x <= 12:\n",
    "        return 2\n",
    "    elif x > 12 and x <= 18:\n",
    "        return 3\n",
    "    else:\n",
    "        return 4"
   ]
  },
  {
   "cell_type": "code",
   "execution_count": 104,
   "metadata": {},
   "outputs": [
    {
     "data": {
      "image/png": "[encoded data removed]",
      "text/plain": [
       "<Figure size 432x288 with 1 Axes>"
      ]
     },
     "metadata": {
      "needs_background": "light"
     },
     "output_type": "display_data"
    }
   ],
   "source": [
    "train_df[\"hour_seg\"] = train_df.hour.apply(lambda x:seg_hour(x))\n",
    "seg_hour = train_df.groupby([\"hour_seg\", \"click\"]).hour_seg.count().unstack()\n",
    "seg_hour[[0, 1]].plot(kind=\"bar\")\n",
    "plt.show()"
   ]
  },
  {
   "cell_type": "markdown",
   "metadata": {},
   "source": [
    "结论:对用户的分时段之后可以看出用户时间分布情况。"
   ]
  },
  {
   "cell_type": "markdown",
   "metadata": {},
   "source": [
    "### 查看样本的均衡情况"
   ]
  },
  {
   "cell_type": "code",
   "execution_count": 105,
   "metadata": {},
   "outputs": [
    {
     "data": {
      "image/png": "[encoded data removed]",
      "text/plain": [
       "<Figure size 360x360 with 1 Axes>"
      ]
     },
     "metadata": {},
     "output_type": "display_data"
    }
   ],
   "source": [
    "plt.figure(figsize=(5, 5))\n",
    "cnt_click = train_df.click.value_counts()\n",
    "plt.pie(x=cnt_click\n",
    "        , labels=[0, 1]\n",
    "        , autopct=\"%1.1f%%\"\n",
    "        , explode=[0.1, 0]\n",
    "        , startangle=90\n",
    "       )\n",
    "\n",
    "plt.title(\"Click\")\n",
    "plt.show()"
   ]
  },
  {
   "cell_type": "markdown",
   "metadata": {},
   "source": [
    "结论:样布不均衡,正负样本1:4,少数类为点击，希望捕获少数类。"
   ]
  },
  {
   "cell_type": "markdown",
   "metadata": {},
   "source": [
    "### 广告长宽与点击情况"
   ]
  },
  {
   "cell_type": "code",
   "execution_count": 106,
   "metadata": {},
   "outputs": [
    {
     "data": {
      "image/png": "[encoded data removed]",
      "text/plain": [
       "<Figure size 432x288 with 1 Axes>"
      ]
     },
     "metadata": {
      "needs_background": "light"
     },
     "output_type": "display_data"
    }
   ],
   "source": [
    "sns.stripplot(x=\"click\", y=\"creative_height\", data=train_df)\n",
    "plt.show()"
   ]
  },
  {
   "cell_type": "code",
   "execution_count": 107,
   "metadata": {},
   "outputs": [
    {
     "data": {
      "image/png": "[encoded data removed]",
      "text/plain": [
       "<Figure size 432x288 with 1 Axes>"
      ]
     },
     "metadata": {
      "needs_background": "light"
     },
     "output_type": "display_data"
    }
   ],
   "source": [
    "sns.stripplot(train_df.click, train_df.creative_width)\n",
    "plt.show()"
   ]
  },
  {
   "cell_type": "markdown",
   "metadata": {},
   "source": [
    "结论:人们趋向于点击广告大小适中的广告，长宽在500以下比较集中"
   ]
  },
  {
   "cell_type": "markdown",
   "metadata": {},
   "source": [
    "### 探索布尔型变量对结果的影响"
   ]
  },
  {
   "cell_type": "code",
   "execution_count": 108,
   "metadata": {},
   "outputs": [
    {
     "name": "stdout",
     "output_type": "stream",
     "text": [
      "creative_is_jump\n",
      "creative_is_download\n",
      "creative_is_js\n",
      "creative_is_voicead\n",
      "creative_has_deeplink\n",
      "app_paid\n"
     ]
    }
   ],
   "source": [
    "# 打印bool类型数据\n",
    "bool_feture = []\n",
    "cols = data.columns\n",
    "\n",
    "for col in cols:\n",
    "    if str(train_df[col].dtype) == 'bool':\n",
    "        print(col)\n",
    "        bool_feture.append(str(col))"
   ]
  },
  {
   "cell_type": "code",
   "execution_count": 109,
   "metadata": {},
   "outputs": [],
   "source": [
    "def plot_ratio(df, name1, name2):\n",
    "    \n",
    "    gropy_n = df.groupby([name1, name2])[name1].count().unstack()\n",
    "    print(gropy_n)\n",
    "    print() \n",
    "    gropy_n[[0, 1]].plot(kind=\"bar\")\n",
    "    plt.xlabel(name1)\n",
    "    plt.ylabel(name2 + \"_\" + \"counts\")\n",
    "    plt.show()"
   ]
  },
  {
   "cell_type": "code",
   "execution_count": 110,
   "metadata": {},
   "outputs": [
    {
     "name": "stdout",
     "output_type": "stream",
     "text": [
      "click                      0       1\n",
      "creative_is_voicead                 \n",
      "False                2397237  595402\n",
      "\n"
     ]
    },
    {
     "data": {
      "image/png": "[encoded data removed]",
      "text/plain": [
       "<Figure size 432x288 with 1 Axes>"
      ]
     },
     "metadata": {
      "needs_background": "light"
     },
     "output_type": "display_data"
    }
   ],
   "source": [
    "#  是否是语音广告\n",
    "plot_ratio(train_df, \"creative_is_voicead\", \"click\")"
   ]
  },
  {
   "cell_type": "code",
   "execution_count": 111,
   "metadata": {},
   "outputs": [
    {
     "name": "stdout",
     "output_type": "stream",
     "text": [
      "click                 0       1\n",
      "creative_is_js                 \n",
      "False           2397237  595402\n",
      "\n"
     ]
    },
    {
     "data": {
      "image/png": "[encoded data removed]",
      "text/plain": [
       "<Figure size 432x288 with 1 Axes>"
      ]
     },
     "metadata": {
      "needs_background": "light"
     },
     "output_type": "display_data"
    }
   ],
   "source": [
    "#  是否是js素材\n",
    "plot_ratio(train_df, \"creative_is_js\", \"click\") "
   ]
  },
  {
   "cell_type": "code",
   "execution_count": 112,
   "metadata": {},
   "outputs": [
    {
     "name": "stdout",
     "output_type": "stream",
     "text": [
      "click           0       1\n",
      "app_paid                 \n",
      "False     2397237  595402\n",
      "\n"
     ]
    },
    {
     "data": {
      "image/png": "[encoded data removed]",
      "text/plain": [
       "<Figure size 432x288 with 1 Axes>"
      ]
     },
     "metadata": {
      "needs_background": "light"
     },
     "output_type": "display_data"
    }
   ],
   "source": [
    "#  app是否收费\n",
    "plot_ratio(train_df, \"app_paid\", \"click\") "
   ]
  },
  {
   "cell_type": "code",
   "execution_count": 113,
   "metadata": {},
   "outputs": [
    {
     "name": "stdout",
     "output_type": "stream",
     "text": [
      "click                   0       1\n",
      "creative_is_jump                 \n",
      "False               56805     690\n",
      "True              2340432  594712\n",
      "\n"
     ]
    },
    {
     "data": {
      "image/png": "[encoded data removed]",
      "text/plain": [
       "<Figure size 432x288 with 1 Axes>"
      ]
     },
     "metadata": {
      "needs_background": "light"
     },
     "output_type": "display_data"
    }
   ],
   "source": [
    "#  是否落地页跳转\n",
    "plot_ratio(train_df, \"creative_is_jump\", \"click\")"
   ]
  },
  {
   "cell_type": "code",
   "execution_count": 114,
   "metadata": {},
   "outputs": [
    {
     "name": "stdout",
     "output_type": "stream",
     "text": [
      "click                       0       1\n",
      "creative_is_download                 \n",
      "False                 2340432  594712\n",
      "True                    56805     690\n",
      "\n"
     ]
    },
    {
     "data": {
      "image/png": "[encoded data removed]",
      "text/plain": [
       "<Figure size 432x288 with 1 Axes>"
      ]
     },
     "metadata": {
      "needs_background": "light"
     },
     "output_type": "display_data"
    }
   ],
   "source": [
    "#  是否落地页下载\n",
    "plot_ratio(train_df, \"creative_is_download\", \"click\")"
   ]
  },
  {
   "cell_type": "code",
   "execution_count": 115,
   "metadata": {},
   "outputs": [
    {
     "name": "stdout",
     "output_type": "stream",
     "text": [
      "click                        0       1\n",
      "creative_has_deeplink                 \n",
      "False                  2396401  595348\n",
      "True                       836      54\n",
      "\n"
     ]
    },
    {
     "data": {
      "image/png": "[encoded data removed]",
      "text/plain": [
       "<Figure size 432x288 with 1 Axes>"
      ]
     },
     "metadata": {
      "needs_background": "light"
     },
     "output_type": "display_data"
    }
   ],
   "source": [
    "#  是否有deeplink\n",
    "plot_ratio(train_df, \"creative_has_deeplink\", \"click\")"
   ]
  },
  {
   "cell_type": "markdown",
   "metadata": {},
   "source": [
    "结论：从生成的结果来看，这三种(creative_is_voicead、creative_is_js、 app_paid)bool型特征的值为单个值，无法通过变化来影响是否点击，所以，理论上可以删除。而对于creative_is_jump和creative_is_download是互补关系，可以选择保留其中一个特征。\n"
   ]
  },
  {
   "cell_type": "markdown",
   "metadata": {},
   "source": [
    "## 数据预处理(数据清洗)"
   ]
  },
  {
   "cell_type": "markdown",
   "metadata": {},
   "source": [
    "### 删除冗余数据"
   ]
  },
  {
   "cell_type": "code",
   "execution_count": 116,
   "metadata": {},
   "outputs": [],
   "source": [
    "del data[\"instance_id\"]\n",
    "\n",
    "del data[\"creative_is_js\"]\n",
    "del data[\"app_paid\"]\n",
    "del data[\"creative_is_voicead\"]\n",
    "\n",
    "del train\n",
    "del test"
   ]
  },
  {
   "cell_type": "markdown",
   "metadata": {},
   "source": [
    "### 处理时间变量\n",
    "将时间戳类型的输出抽取为更细的时间参数,并分区"
   ]
  },
  {
   "cell_type": "code",
   "execution_count": 117,
   "metadata": {},
   "outputs": [],
   "source": [
    "def seg_hour(x):\n",
    "    \"\"\"划分时间间隔\"\"\"\n",
    "    \n",
    "    if x > 0 and x <= 6:\n",
    "        return 1\n",
    "    elif x > 6 and x <= 12:\n",
    "        return 2\n",
    "    elif x > 12 and x <= 18:\n",
    "        return 3\n",
    "    else:\n",
    "        return 4"
   ]
  },
  {
   "cell_type": "code",
   "execution_count": 118,
   "metadata": {},
   "outputs": [],
   "source": [
    "# 时间向下细分\n",
    "data[\"day\"], data[\"hour\"] = get_time(data.time.values)\n",
    "data[\"hour_part\"] = data[\"hour\"].apply(lambda x: seg_hour(x))  # 组合特征"
   ]
  },
  {
   "cell_type": "code",
   "execution_count": 119,
   "metadata": {},
   "outputs": [],
   "source": [
    "# 删除时间列\n",
    "del data[\"time\"]"
   ]
  },
  {
   "cell_type": "code",
   "execution_count": 120,
   "metadata": {},
   "outputs": [
    {
     "name": "stdout",
     "output_type": "stream",
     "text": [
      "<class 'pandas.core.frame.DataFrame'>\n",
      "RangeIndex: 3072915 entries, 0 to 3072914\n",
      "Data columns (total 33 columns):\n",
      " #   Column                 Dtype  \n",
      "---  ------                 -----  \n",
      " 0   city                   int64  \n",
      " 1   province               int64  \n",
      " 2   user_tags              object \n",
      " 3   carrier                int64  \n",
      " 4   devtype                int64  \n",
      " 5   make                   object \n",
      " 6   model                  object \n",
      " 7   nnt                    int64  \n",
      " 8   os                     int64  \n",
      " 9   osv                    object \n",
      " 10  os_name                object \n",
      " 11  adid                   int64  \n",
      " 12  advert_id              int64  \n",
      " 13  orderid                int64  \n",
      " 14  advert_industry_inner  object \n",
      " 15  campaign_id            int64  \n",
      " 16  creative_id            int64  \n",
      " 17  creative_tp_dnf        int64  \n",
      " 18  app_cate_id            float64\n",
      " 19  f_channel              object \n",
      " 20  app_id                 float64\n",
      " 21  inner_slot_id          object \n",
      " 22  creative_type          int64  \n",
      " 23  creative_width         int64  \n",
      " 24  creative_height        int64  \n",
      " 25  creative_is_jump       bool   \n",
      " 26  creative_is_download   bool   \n",
      " 27  creative_has_deeplink  bool   \n",
      " 28  advert_name            object \n",
      " 29  click                  int64  \n",
      " 30  day                    int64  \n",
      " 31  hour                   int64  \n",
      " 32  hour_part              int64  \n",
      "dtypes: bool(3), float64(2), int64(19), object(9)\n",
      "memory usage: 712.1+ MB\n"
     ]
    }
   ],
   "source": [
    "data.info()"
   ]
  },
  {
   "cell_type": "markdown",
   "metadata": {},
   "source": [
    "### 手机品牌处理\n",
    "清洗手机品牌和机型字段，对同类型进行合并（redmi->xiaomi, honour->huawei）"
   ]
  },
  {
   "cell_type": "code",
   "execution_count": 121,
   "metadata": {},
   "outputs": [
    {
     "data": {
      "text/plain": [
       "array(['vivo', nan, 'HUAWEI', 'Xiaomi', 'OPPO', 'Xiaomi', nan, 'HUAWEI',\n",
       "       'samsung', 'HUAWEI', 'HUAWEI', 'V9S', 'OPPO', 'HUAWEI', nan,\n",
       "       'vivoV3MaxA', 'W909', 'SM-A8000', nan, nan, 'vivo', 'samsung', nan,\n",
       "       'HUAWEI', 'Xiaomi', 'HUAWEI', 'Meizu', 'Xiaomi', 'vivo', 'OPPO',\n",
       "       'HUAWEI', nan, nan, 'vivo', 'OPPO', 'Xiaomi', 'vivo', 'Letv',\n",
       "       'VOTO', 'Apple', 'HONOR', 'Xiaomi', 'ZTE', nan, nan, 'vivo',\n",
       "       'iPhone9,2', 'vivo', 'HUAWEI', 'vivo', 'HUAWEI', 'HUAWEI',\n",
       "       'LeMobile', 'OPPO A59s', 'blackshark', 'OPPO', 'vivo', 'vivo',\n",
       "       'Meizu', 'Xiaomi', 'vivo', 'OPPO', 'OPPO', '360', 'OPPO', 'SUGAR',\n",
       "       'HUAWEI', 'Apple', 'Meizu', 'iPhone8%2C1', 'HUAWEI', 'OPPO', nan,\n",
       "       nan, 'Meizu', 'vivo', 'OPPO A59s', 'vivo', 'Apple', 'Meizu',\n",
       "       'HUAWEI', 'OPPO', 'Apple', 'OPPO', 'HUAWEI', 'OPPO', 'OPPO',\n",
       "       'SM-G9250', 'vivo', 'vivo', 'Apple', 'vivo', 'READBOY', 'vivo',\n",
       "       'vivo', 'vivo', 'Xiaomi', 'SUGAR', 'OPPO', 'OPPO', 'OPPO',\n",
       "       'xiaomi', 'vivo', 'vivo', 'OPPO', nan, 'OPPO R9sk', 'vivo',\n",
       "       'HUAWEI', 'Xiaomi', 'Xiaomi', 'HUAWEI', 'Apple', 'vivo', 'HUAWEI',\n",
       "       'Apple', 'Meizu', 'vivo', 'Apple', 'vivo', 'vivo', 'GiONEE',\n",
       "       'OPPO', nan, 'OPPO', 'Xiaomi', 'OPPO', 'vivo', nan, 'vivo',\n",
       "       'HUAWEI', 'Xiaomi', 'HUAWEI', 'vivo', 'vivo', nan, 'oppo',\n",
       "       'HUAWEI', 'SPRD', nan, 'HONOR', 'OPPO', 'xiaolajiao', 'OPPO',\n",
       "       'HUAWEI', 'Apple', 'OPPO', 'Apple', 'BND-AL10', nan, 'HUAWEI', nan,\n",
       "       nan, 'Xiaomi', 'vivo', 'OPPO', 'HUAWEI', 'OPPO', 'vivo', 'OPPO',\n",
       "       'OPPO', 'OPPO', 'vivo', 'OPPO', 'HUAWEI', 'OPPO', 'HUAWEI',\n",
       "       'Apple', 'OPPO', 'HUAWEI', 'iPhone7,1', 'OPPO R9s', 'HUAWEI',\n",
       "       'OPPO', 'HUAWEI', nan, 'Meizu', 'vivo', 'HUAWEI', 'vivo', 'vivo',\n",
       "       'Apple', 'Apple', 'Apple', 'Meizu', 'OPPO', 'samsung', 'HUAWEI',\n",
       "       'OPPO', 'HUAWEI', 'OPPO', 'Apple', 'OPPO', 'OPPO',\n",
       "       '%2522BND-AL10%2522', 'Xiaomi', 'HUAWEI', 'vivo', 'apple', 'ivvi',\n",
       "       'apple', 'Apple', 'HUAWEI', 'OPPO', 'iPhone8,1', 'HONOR', 'nubia',\n",
       "       nan, 'HUAWEI', 'vivo', 'HUAWEI', 'vivo', 'HUAWEI', 'Apple', 'vivo',\n",
       "       'HUAWEI', 'OPPO', 'Apple', 'vivo', 'OPPO', 'iPhone8,1', 'Xiaomi',\n",
       "       'OPPO', 'OPPO', 'OPPO', 'OPPO', 'Xiaomi', 'OPPO', 'OPPO', 'Xiaomi',\n",
       "       'HUAWEI', 'OPPO', 'OPPO', 'HUAWEI', 'Xiaomi', 'samsung', 'OPPO',\n",
       "       'Xiaomi', 'EYU', 'Meizu', 'OPPO', 'OPPO', 'OPPO', 'APPLE', 'OPPO',\n",
       "       'HUAWEI', nan, 'vivo', 'Xiaomi', 'SM-A7000', 'HUAWEI', nan,\n",
       "       'HUAWEI', 'vivo', 'Meizu', 'OPPO A37m', 'samsung', 'vivo',\n",
       "       'Xiaomi', nan, 'OPPO A83', 'vivo', 'CMDC', nan, 'Meizu', 'HUAWEI',\n",
       "       'vivo', 'vivo', 'HUAWEI', 'OPPO', 'OPPO', 'OPPO', 'apple', 'OPPO',\n",
       "       'Apple', 'OPPO', 'Xiaomi', 'HUAWEI', nan, nan, 'HUAWEI', 'CMDC',\n",
       "       'HEYUF', 'OPPO', nan, 'HUAWEI', 'vivo', nan, 'OPPO', 'OPPO',\n",
       "       'OPPO', 'OnePlus', 'HUAWEI', 'HUAWEI', 'Apple', 'OPPO', 'OPPO A77',\n",
       "       'OPPO', 'HUAWEI', 'Meizu'], dtype=object)"
      ]
     },
     "execution_count": 121,
     "metadata": {},
     "output_type": "execute_result"
    }
   ],
   "source": [
    "# 手机型号\n",
    "data.make.values[:300]"
   ]
  },
  {
   "cell_type": "code",
   "execution_count": 122,
   "metadata": {},
   "outputs": [
    {
     "data": {
      "text/plain": [
       "4922"
      ]
     },
     "execution_count": 122,
     "metadata": {},
     "output_type": "execute_result"
    }
   ],
   "source": [
    "# 有20314个小类\n",
    "len(data.make.unique())"
   ]
  },
  {
   "cell_type": "code",
   "execution_count": 123,
   "metadata": {},
   "outputs": [],
   "source": [
    "#  名称装换为小写\n",
    "\n",
    "col = []\n",
    "for va in data[\"make\"].values:\n",
    "    va = str(va)\n",
    "    if \",\" in va:\n",
    "        col.append(va.split(\",\")[0].lower())\n",
    "    elif \"-\"in va:\n",
    "        col.append(va.split(\"-\")[0].lower())\n",
    "    elif \" \" in va:\n",
    "        col.append(va.split(\" \")[0].lower())\n",
    "    else:\n",
    "        col.append(va.lower())"
   ]
  },
  {
   "cell_type": "code",
   "execution_count": 124,
   "metadata": {},
   "outputs": [],
   "source": [
    "# 修改同类品牌的下的子品牌\n",
    "for index in range(len(col)):\n",
    "    if \"apple\" in col[index]:\n",
    "        col[index] = \"apple\"\n",
    "    elif \"redmi\" in col[index]:\n",
    "        col[index] = \"xiaomi\"\n",
    "    elif \"honor\" == col[index]:\n",
    "        col[index] = \"huawei\"\n",
    "    elif col[index] == \"mi\":\n",
    "        col[index] = \"xiaomi\"\n",
    "    elif col[index] == \"nan\":\n",
    "        col[index] == np.nan\n",
    "    elif col[index] == \"meitu\":\n",
    "        col[index] == \"meizu\"\n",
    "    elif col[index] == \"le\" or col[index] == \"letv\" or col[index] == \"lemobile\" or col[index] == \"blephone\":\n",
    "        col[index] == \"leshi\""
   ]
  },
  {
   "cell_type": "code",
   "execution_count": 125,
   "metadata": {},
   "outputs": [],
   "source": [
    "data[\"new_make\"] = col"
   ]
  },
  {
   "cell_type": "code",
   "execution_count": 126,
   "metadata": {},
   "outputs": [
    {
     "data": {
      "text/plain": [
       "2764"
      ]
     },
     "execution_count": 126,
     "metadata": {},
     "output_type": "execute_result"
    }
   ],
   "source": [
    "len(data.new_make.unique())"
   ]
  },
  {
   "cell_type": "markdown",
   "metadata": {},
   "source": [
    "### 手机机型处理"
   ]
  },
  {
   "cell_type": "code",
   "execution_count": 127,
   "metadata": {},
   "outputs": [
    {
     "data": {
      "text/plain": [
       "array(['vivo X7', 'OPPO A59s', 'BAC-TL00', 'Redmi Note 2', 'OPPO-R9s',\n",
       "       'MI+5', 'Redmi 3S', 'FRD-AL10', 'SM-G9350', 'EVA-AL10', 'LDN-AL20',\n",
       "       'V9S', 'OPPO-A83t', 'HUAWEI P7-L07', 'OPPO R9s', 'vivoV3MaxA',\n",
       "       'W909', 'SM-A8000', 'm836', 'Coolpad 8722V', 'vivo-X9s',\n",
       "       'SM-G9008W', 'BND-AL00', 'BAC-AL00', 'MI 5X', 'SLA-AL00', 'M5s',\n",
       "       'Redmi+4X', 'vivo+Y85', 'OPPO A37m', 'HUAWEI-CAZ-AL10',\n",
       "       'vivo Y53L', 'vivo-X9s-Plus', 'OPPO+R11s', 'Redmi%20Note%204',\n",
       "       'vivo-X9', 'Letv X500', 'VOTO-GT7', 'iPhone7,1', 'STF-AL10',\n",
       "       'MI 3', 'ZTE BA520', 'CAM-TL00H', 'X909T', 'vivo-X20A',\n",
       "       'iPhone9,2', 'vivo-X20Plus-A', 'ALP-AL00', 'vivo+X9', 'DLI-AL10',\n",
       "       'HUAWEI%20TIT-CL00', 'Le-X621', 'SKR-A0', 'OPPO-A59s',\n",
       "       'vivo-X7Plus', 'M621C', 'MI%25252525252B5X', 'vivo-Y79A',\n",
       "       'R7Plusm', 'OPPO-A33', '1605-A01', 'OPPO-A83', 'SUGAR-F11',\n",
       "       'HUAWEI%20TAG-TL00', 'iPhone 7 Plus', 'M6%20Note', 'iPhone8%2C1',\n",
       "       'VKY-AL00', 'OPPO-A57', 'OPPO A57', 'M6', 'vivo%20Y51A',\n",
       "       'vivo-Y66L', 'iPhone9,1', 'M3s', 'MHA-AL00', 'OPPO R11 Pluskt',\n",
       "       'iPhone10,1', 'OPPO R11s', 'HUAWEI-TAG-TL00', 'OPPO+R9s',\n",
       "       'OPPO+A57', 'SM-G9250', 'vivo+Y23L', 'vivo X20A',\n",
       "       'iPhone (undetected)', 'Readboy_G90S', 'vivo+Y51', 'vivo Y53n',\n",
       "       'Redmi-Note-4', 'SUGAR+F11', 'OPPO+R9m', 'PACM00', 'vivo+Y75A',\n",
       "       'vivo-Y31A', 'OPPO+A73t', 'vivo X20Plus A', 'OPPO R9sk',\n",
       "       'vivo-Y51A', 'COR-AL00', 'MI 5s', 'HUAWEI CAZ-AL10', 'iPhone9%2C2',\n",
       "       'vivo%20X9', 'iPhone7,2', 'M5 Note', 'vivo+Y67', 'iPhone 6',\n",
       "       'vivo%20Y66', 'vivo X9L', 'GN9010', 'OPPO A59m', 'Redmi-Note-4X',\n",
       "       'OPPO R9s Plus', 'vivo-X6S-A', 'PRA-AL00', 'MI-3', 'PE-TL00M',\n",
       "       'vivo Y55A', 'vivo-Y66', 'CHE-TL00H', 'OPPO R11 Plus', 'TRT-AL00A',\n",
       "       '20151209T', 'vivo X6SPlus D', 'KIW-AL10', 'OPPO A83', '20160526Q',\n",
       "       'OPPO+R11', 'EVA-TL00', 'iPhone 6s', 'BND-AL10', 'vivo X6Plus A',\n",
       "       'Che2-TL00', 'sm-a9000', 'OPPO R11', 'MI-MAX-2', 'vivo+X7',\n",
       "       'VTR-AL00', 'PADT00', 'vivo-Y55A', 'OPPO R9m', 'vivo+Y55A',\n",
       "       'OPPO-A57t', 'OPPO+R11t', 'KIW-UL00', 'BLN-AL10', 'OPPO+A83t',\n",
       "       'BLN-AL40', 'M651CY', 'FRD-AL00', 'vivo-Y35A', 'M3', 'SM-N9008V',\n",
       "       'MYA-AL10', 'A31', 'KIW-CL00', 'OPPO+R9tm', 'OPPO-A59m',\n",
       "       'OPPO+R9st', '%2522BND-AL10%2522', 'HUAWEI-NXT-AL10', 'iPhone8,1',\n",
       "       'ivvi-F2-T', 'iPhone', 'STF-AL00', 'OPPO-R9m', 'CAM-AL00',\n",
       "       'NX589J', 'NEM-AL10', 'BLA-AL00', 'RNE-AL00',\n",
       "       'iPhone 6s Plus (A1634/A1687/A1699)', 'vivo-X5M', 'iPhone8,2',\n",
       "       'OPPO A59st', 'HM-NOTE-1LTE', 'OPPO+A73', 'MI-5X', 'OPPO+A83',\n",
       "       '2014812', 'KIW-TL00H', 'OPPO-R9skt', 'PRA-AL00X', 'Redmi+5+Plus',\n",
       "       'SM-N9500', 'Redmi 4A', 'EYU-T3', 'M6+Note', 'OPPO+R11s+Plus',\n",
       "       'OPPO-R9sk', 'OPPO%20A73', 'vivo X9', 'Y35A', 'Redmi Note 4X',\n",
       "       'SM-A7000', 'LDN-AL00', 'scl-al00', 'EML-AL00', 'vivo X21A'],\n",
       "      dtype=object)"
      ]
     },
     "execution_count": 127,
     "metadata": {},
     "output_type": "execute_result"
    }
   ],
   "source": [
    "data.model.unique()[:200]"
   ]
  },
  {
   "cell_type": "code",
   "execution_count": 128,
   "metadata": {},
   "outputs": [],
   "source": [
    "# 机型数据统一化处理\n",
    "lst = []\n",
    "\n",
    "for va in data.model.values:\n",
    "    va = str(va)\n",
    "    \n",
    "    if \"-\" in va:\n",
    "        lst.append(va.replace('-', \" \"))\n",
    "    elif \"+\" in va:\n",
    "        lst.append(va.replace(\"+\", \" \"))\n",
    "    elif \",\" in va:\n",
    "        lst.append(va.replace(\",\", \" \"))\n",
    "    elif va == \"nan\":\n",
    "        lst.append(np.nan)\n",
    "    else:\n",
    "        lst.append(va)\n",
    "data[\"new_model\"] = lst"
   ]
  },
  {
   "cell_type": "code",
   "execution_count": 129,
   "metadata": {},
   "outputs": [
    {
     "data": {
      "text/plain": [
       "array(['vivo X7', 'OPPO A59s', 'BAC TL00', 'Redmi Note 2', 'OPPO R9s',\n",
       "       'MI 5', 'Redmi 3S', 'FRD AL10', 'SM G9350', 'EVA AL10', 'LDN AL20',\n",
       "       'V9S', 'OPPO A83t', 'HUAWEI P7 L07', 'vivoV3MaxA', 'W909',\n",
       "       'SM A8000', 'm836', 'Coolpad 8722V', 'vivo X9s', 'SM G9008W',\n",
       "       'BND AL00', 'BAC AL00', 'MI 5X', 'SLA AL00', 'M5s', 'Redmi 4X',\n",
       "       'vivo Y85', 'OPPO A37m', 'HUAWEI CAZ AL10', 'vivo Y53L',\n",
       "       'vivo X9s Plus', 'OPPO R11s', 'Redmi%20Note%204', 'vivo X9',\n",
       "       'Letv X500', 'VOTO GT7', 'iPhone7 1', 'STF AL10', 'MI 3',\n",
       "       'ZTE BA520', 'CAM TL00H', 'X909T', 'vivo X20A', 'iPhone9 2',\n",
       "       'vivo X20Plus A', 'ALP AL00', 'DLI AL10', 'HUAWEI%20TIT CL00',\n",
       "       'Le X621', 'SKR A0', 'vivo X7Plus', 'M621C', 'MI%25252525252B5X',\n",
       "       'vivo Y79A', 'R7Plusm', 'OPPO A33', '1605 A01', 'OPPO A83',\n",
       "       'SUGAR F11', 'HUAWEI%20TAG TL00', 'iPhone 7 Plus', 'M6%20Note',\n",
       "       'iPhone8%2C1', 'VKY AL00', 'OPPO A57', 'M6', 'vivo%20Y51A',\n",
       "       'vivo Y66L', 'iPhone9 1', 'M3s', 'MHA AL00', 'OPPO R11 Pluskt',\n",
       "       'iPhone10 1', 'HUAWEI TAG TL00', 'SM G9250', 'vivo Y23L',\n",
       "       'iPhone (undetected)', 'Readboy_G90S', 'vivo Y51', 'vivo Y53n',\n",
       "       'Redmi Note 4', 'OPPO R9m', 'PACM00', 'vivo Y75A', 'vivo Y31A',\n",
       "       'OPPO A73t', 'OPPO R9sk', 'vivo Y51A', 'COR AL00', 'MI 5s',\n",
       "       'iPhone9%2C2', 'vivo%20X9', 'iPhone7 2', 'M5 Note', 'vivo Y67',\n",
       "       'iPhone 6', 'vivo%20Y66', 'vivo X9L', 'GN9010', 'OPPO A59m',\n",
       "       'Redmi Note 4X', 'OPPO R9s Plus', 'vivo X6S A', 'PRA AL00',\n",
       "       'PE TL00M', 'vivo Y55A', 'vivo Y66', 'CHE TL00H', 'OPPO R11 Plus',\n",
       "       'TRT AL00A', '20151209T', 'vivo X6SPlus D', 'KIW AL10',\n",
       "       '20160526Q', 'OPPO R11', 'EVA TL00', 'iPhone 6s', 'BND AL10',\n",
       "       'vivo X6Plus A', 'Che2 TL00', 'sm a9000', 'MI MAX 2', 'VTR AL00',\n",
       "       'PADT00', 'OPPO A57t', 'OPPO R11t', 'KIW UL00', 'BLN AL10',\n",
       "       'BLN AL40', 'M651CY', 'FRD AL00', 'vivo Y35A', 'M3', 'SM N9008V',\n",
       "       'MYA AL10', 'A31', 'KIW CL00', 'OPPO R9tm', 'OPPO R9st',\n",
       "       '%2522BND AL10%2522', 'HUAWEI NXT AL10', 'iPhone8 1', 'ivvi F2 T',\n",
       "       'iPhone', 'STF AL00', 'CAM AL00', 'NX589J', 'NEM AL10', 'BLA AL00',\n",
       "       'RNE AL00', 'iPhone 6s Plus (A1634/A1687/A1699)', 'vivo X5M',\n",
       "       'iPhone8 2', 'OPPO A59st', 'HM NOTE 1LTE', 'OPPO A73', '2014812',\n",
       "       'KIW TL00H', 'OPPO R9skt', 'PRA AL00X', 'Redmi 5 Plus', 'SM N9500',\n",
       "       'Redmi 4A', 'EYU T3', 'M6 Note', 'OPPO R11s Plus', 'OPPO%20A73',\n",
       "       'Y35A', 'SM A7000', 'LDN AL00', 'scl al00', 'EML AL00',\n",
       "       'vivo X21A', 'vivo Y923', 'MI 4LTE', 'M653', 'InFocus M2',\n",
       "       'm3 note', 'PRA TL10', 'vivo Y55', 'vivo Y66i', 'OPPO R9 Plusm A',\n",
       "       'MI%2525252525252B6', 'vivo Y37A', 'M 8', 'OPPO%20A83', 'zuk z1',\n",
       "       'HUAWEI TAG AL00', 'vivo X9i', 'SM A9100', 'OPPO%20R9s',\n",
       "       'ONEPLUS A3010', 'H60 L01', 'VIE AL10', 'iPhone5 3', 'OPPO A77',\n",
       "       'HUAWEI RIO AL00', 'HUAWEI RIO UL00', 'vivo Y71A'], dtype=object)"
      ]
     },
     "execution_count": 129,
     "metadata": {},
     "output_type": "execute_result"
    }
   ],
   "source": [
    "data.new_model.unique()[:200]"
   ]
  },
  {
   "cell_type": "markdown",
   "metadata": {},
   "source": [
    "### 广告主行业划分\n",
    "形式：教育＿培训(划分)"
   ]
  },
  {
   "cell_type": "code",
   "execution_count": 130,
   "metadata": {},
   "outputs": [
    {
     "data": {
      "text/plain": [
       "0    101700_101704\n",
       "1    101900_101902\n",
       "2    102400_102401\n",
       "3         4_100206\n",
       "4    102400_102401\n",
       "Name: advert_industry_inner, dtype: object"
      ]
     },
     "execution_count": 130,
     "metadata": {},
     "output_type": "execute_result"
    }
   ],
   "source": [
    "data.advert_industry_inner.head(5)"
   ]
  },
  {
   "cell_type": "code",
   "execution_count": 131,
   "metadata": {},
   "outputs": [],
   "source": [
    "lst1 = []\n",
    "lst2 = []\n",
    "\n",
    "for va in data.advert_industry_inner.values:\n",
    "    lst1.append(va.split(\"_\")[0])\n",
    "    lst2.append(va.split(\"_\")[1])\n",
    "data[\"advert_industry_inner1\"] = lst1\n",
    "data[\"advert_industry_inner2\"] = lst2"
   ]
  },
  {
   "cell_type": "markdown",
   "metadata": {},
   "source": [
    "### 媒体广告位置划分\n",
    "如xf, iqy"
   ]
  },
  {
   "cell_type": "code",
   "execution_count": 132,
   "metadata": {},
   "outputs": [
    {
     "data": {
      "text/plain": [
       "array(['xf_64FAC0085FC8DC679F6BF49A1F98445D', 'iqy_1000000000381-1-5-60',\n",
       "       'xf_275C061483984E075832A4373BDDF27B', ...,\n",
       "       'inmobi_016ea09738264c50928886373e449037',\n",
       "       'offline_A41566E4D3DA01AADC0F736CAA7AF2DB',\n",
       "       'inmobi_7747dc42c6194b81adb483b4c08220ec'], dtype=object)"
      ]
     },
     "execution_count": 132,
     "metadata": {},
     "output_type": "execute_result"
    }
   ],
   "source": [
    "data.inner_slot_id.unique()"
   ]
  },
  {
   "cell_type": "code",
   "execution_count": 133,
   "metadata": {},
   "outputs": [],
   "source": [
    "lst = []\n",
    "for va in data.inner_slot_id.values:\n",
    "    lst.append(va.split(\"_\")[0])\n",
    "data[\"inner_slot_id1\"] = lst"
   ]
  },
  {
   "cell_type": "code",
   "execution_count": 134,
   "metadata": {},
   "outputs": [
    {
     "data": {
      "text/plain": [
       "array(['xf', 'iqy', 'inmobi', 'omg', 'xb', 'offline', 'sohuvideo'],\n",
       "      dtype=object)"
      ]
     },
     "execution_count": 134,
     "metadata": {},
     "output_type": "execute_result"
    }
   ],
   "source": [
    "data.inner_slot_id1.unique()"
   ]
  },
  {
   "cell_type": "markdown",
   "metadata": {},
   "source": [
    "### 处理系统设备(难点)"
   ]
  },
  {
   "cell_type": "markdown",
   "metadata": {},
   "source": [
    "#### 操作系统"
   ]
  },
  {
   "cell_type": "code",
   "execution_count": 135,
   "metadata": {},
   "outputs": [
    {
     "data": {
      "image/png": "[encoded data removed]",
      "text/plain": [
       "<Figure size 360x360 with 1 Axes>"
      ]
     },
     "metadata": {},
     "output_type": "display_data"
    }
   ],
   "source": [
    "# plt.pie(data.os.value_counts())\n",
    "plt.figure(figsize=(5, 5))\n",
    "percent = data.os.value_counts()\n",
    "plt.pie(x=percent\n",
    "        , labels=[\"Andiord\", \"iOS\", \"Other\"]\n",
    "        , autopct=\"%1.2f%%\"\n",
    "        , startangle=90\n",
    "        , rotatelabels=True\n",
    "       )\n",
    "plt.show()"
   ]
  },
  {
   "cell_type": "code",
   "execution_count": 136,
   "metadata": {},
   "outputs": [
    {
     "data": {
      "text/html": [
       "<div>\n",
       "<style scoped>\n",
       "    .dataframe tbody tr th:only-of-type {\n",
       "        vertical-align: middle;\n",
       "    }\n",
       "\n",
       "    .dataframe tbody tr th {\n",
       "        vertical-align: top;\n",
       "    }\n",
       "\n",
       "    .dataframe thead th {\n",
       "        text-align: right;\n",
       "    }\n",
       "</style>\n",
       "<table border=\"1\" class=\"dataframe\">\n",
       "  <thead>\n",
       "    <tr style=\"text-align: right;\">\n",
       "      <th></th>\n",
       "      <th>city</th>\n",
       "      <th>province</th>\n",
       "      <th>user_tags</th>\n",
       "      <th>carrier</th>\n",
       "      <th>devtype</th>\n",
       "      <th>make</th>\n",
       "      <th>model</th>\n",
       "      <th>nnt</th>\n",
       "      <th>os</th>\n",
       "      <th>osv</th>\n",
       "      <th>os_name</th>\n",
       "      <th>adid</th>\n",
       "      <th>advert_id</th>\n",
       "      <th>orderid</th>\n",
       "      <th>advert_industry_inner</th>\n",
       "      <th>campaign_id</th>\n",
       "      <th>creative_id</th>\n",
       "      <th>creative_tp_dnf</th>\n",
       "      <th>app_cate_id</th>\n",
       "      <th>f_channel</th>\n",
       "      <th>app_id</th>\n",
       "      <th>inner_slot_id</th>\n",
       "      <th>creative_type</th>\n",
       "      <th>creative_width</th>\n",
       "      <th>creative_height</th>\n",
       "      <th>creative_is_jump</th>\n",
       "      <th>creative_is_download</th>\n",
       "      <th>creative_has_deeplink</th>\n",
       "      <th>advert_name</th>\n",
       "      <th>click</th>\n",
       "      <th>day</th>\n",
       "      <th>hour</th>\n",
       "      <th>hour_part</th>\n",
       "      <th>new_make</th>\n",
       "      <th>new_model</th>\n",
       "      <th>advert_industry_inner1</th>\n",
       "      <th>advert_industry_inner2</th>\n",
       "      <th>inner_slot_id1</th>\n",
       "    </tr>\n",
       "  </thead>\n",
       "  <tbody>\n",
       "    <tr>\n",
       "      <th>107779</th>\n",
       "      <td>0</td>\n",
       "      <td>0</td>\n",
       "      <td>NaN</td>\n",
       "      <td>0</td>\n",
       "      <td>0</td>\n",
       "      <td>NaN</td>\n",
       "      <td>NaN</td>\n",
       "      <td>0</td>\n",
       "      <td>0</td>\n",
       "      <td>NaN</td>\n",
       "      <td>unknown</td>\n",
       "      <td>1522727</td>\n",
       "      <td>230000191</td>\n",
       "      <td>3006413</td>\n",
       "      <td>101700_101704</td>\n",
       "      <td>1001787</td>\n",
       "      <td>2333359</td>\n",
       "      <td>8390206106730935773</td>\n",
       "      <td>NaN</td>\n",
       "      <td>NaN</td>\n",
       "      <td>NaN</td>\n",
       "      <td>xb_unknown</td>\n",
       "      <td>10</td>\n",
       "      <td>300</td>\n",
       "      <td>640</td>\n",
       "      <td>True</td>\n",
       "      <td>False</td>\n",
       "      <td>False</td>\n",
       "      <td>42A4CB9035B7F50E</td>\n",
       "      <td>0</td>\n",
       "      <td>5</td>\n",
       "      <td>11</td>\n",
       "      <td>2</td>\n",
       "      <td>nan</td>\n",
       "      <td>NaN</td>\n",
       "      <td>101700</td>\n",
       "      <td>101704</td>\n",
       "      <td>xb</td>\n",
       "    </tr>\n",
       "    <tr>\n",
       "      <th>187299</th>\n",
       "      <td>0</td>\n",
       "      <td>0</td>\n",
       "      <td>NaN</td>\n",
       "      <td>0</td>\n",
       "      <td>0</td>\n",
       "      <td>NaN</td>\n",
       "      <td>NaN</td>\n",
       "      <td>0</td>\n",
       "      <td>0</td>\n",
       "      <td>NaN</td>\n",
       "      <td>unknown</td>\n",
       "      <td>1511681</td>\n",
       "      <td>230000191</td>\n",
       "      <td>3004945</td>\n",
       "      <td>101700_101704</td>\n",
       "      <td>1001787</td>\n",
       "      <td>2330007</td>\n",
       "      <td>8390206106730935773</td>\n",
       "      <td>NaN</td>\n",
       "      <td>NaN</td>\n",
       "      <td>NaN</td>\n",
       "      <td>xb_unknown</td>\n",
       "      <td>10</td>\n",
       "      <td>300</td>\n",
       "      <td>640</td>\n",
       "      <td>True</td>\n",
       "      <td>False</td>\n",
       "      <td>False</td>\n",
       "      <td>42A4CB9035B7F50E</td>\n",
       "      <td>0</td>\n",
       "      <td>5</td>\n",
       "      <td>15</td>\n",
       "      <td>3</td>\n",
       "      <td>nan</td>\n",
       "      <td>NaN</td>\n",
       "      <td>101700</td>\n",
       "      <td>101704</td>\n",
       "      <td>xb</td>\n",
       "    </tr>\n",
       "    <tr>\n",
       "      <th>407466</th>\n",
       "      <td>0</td>\n",
       "      <td>0</td>\n",
       "      <td>NaN</td>\n",
       "      <td>0</td>\n",
       "      <td>0</td>\n",
       "      <td>NaN</td>\n",
       "      <td>NaN</td>\n",
       "      <td>0</td>\n",
       "      <td>0</td>\n",
       "      <td>NaN</td>\n",
       "      <td>unknown</td>\n",
       "      <td>1511681</td>\n",
       "      <td>230000191</td>\n",
       "      <td>3004945</td>\n",
       "      <td>101700_101704</td>\n",
       "      <td>1001787</td>\n",
       "      <td>2330007</td>\n",
       "      <td>8390206106730935773</td>\n",
       "      <td>NaN</td>\n",
       "      <td>NaN</td>\n",
       "      <td>NaN</td>\n",
       "      <td>xb_unknown</td>\n",
       "      <td>10</td>\n",
       "      <td>300</td>\n",
       "      <td>640</td>\n",
       "      <td>True</td>\n",
       "      <td>False</td>\n",
       "      <td>False</td>\n",
       "      <td>42A4CB9035B7F50E</td>\n",
       "      <td>0</td>\n",
       "      <td>1</td>\n",
       "      <td>9</td>\n",
       "      <td>2</td>\n",
       "      <td>nan</td>\n",
       "      <td>NaN</td>\n",
       "      <td>101700</td>\n",
       "      <td>101704</td>\n",
       "      <td>xb</td>\n",
       "    </tr>\n",
       "    <tr>\n",
       "      <th>428980</th>\n",
       "      <td>0</td>\n",
       "      <td>0</td>\n",
       "      <td>gd_2100001,3001985,3002753,3002945,3003055,300...</td>\n",
       "      <td>0</td>\n",
       "      <td>0</td>\n",
       "      <td>NaN</td>\n",
       "      <td>NaN</td>\n",
       "      <td>0</td>\n",
       "      <td>0</td>\n",
       "      <td>NaN</td>\n",
       "      <td>unknown</td>\n",
       "      <td>1522725</td>\n",
       "      <td>230000191</td>\n",
       "      <td>3006413</td>\n",
       "      <td>101700_101704</td>\n",
       "      <td>1001787</td>\n",
       "      <td>2333357</td>\n",
       "      <td>8390206106730935773</td>\n",
       "      <td>NaN</td>\n",
       "      <td>NaN</td>\n",
       "      <td>NaN</td>\n",
       "      <td>xb_unknown</td>\n",
       "      <td>10</td>\n",
       "      <td>300</td>\n",
       "      <td>640</td>\n",
       "      <td>True</td>\n",
       "      <td>False</td>\n",
       "      <td>False</td>\n",
       "      <td>42A4CB9035B7F50E</td>\n",
       "      <td>0</td>\n",
       "      <td>5</td>\n",
       "      <td>11</td>\n",
       "      <td>2</td>\n",
       "      <td>nan</td>\n",
       "      <td>NaN</td>\n",
       "      <td>101700</td>\n",
       "      <td>101704</td>\n",
       "      <td>xb</td>\n",
       "    </tr>\n",
       "    <tr>\n",
       "      <th>443190</th>\n",
       "      <td>0</td>\n",
       "      <td>0</td>\n",
       "      <td>NaN</td>\n",
       "      <td>0</td>\n",
       "      <td>0</td>\n",
       "      <td>NaN</td>\n",
       "      <td>NaN</td>\n",
       "      <td>0</td>\n",
       "      <td>0</td>\n",
       "      <td>NaN</td>\n",
       "      <td>unknown</td>\n",
       "      <td>1522727</td>\n",
       "      <td>230000191</td>\n",
       "      <td>3006413</td>\n",
       "      <td>101700_101704</td>\n",
       "      <td>1001787</td>\n",
       "      <td>2333359</td>\n",
       "      <td>8390206106730935773</td>\n",
       "      <td>NaN</td>\n",
       "      <td>NaN</td>\n",
       "      <td>NaN</td>\n",
       "      <td>xb_unknown</td>\n",
       "      <td>10</td>\n",
       "      <td>300</td>\n",
       "      <td>640</td>\n",
       "      <td>True</td>\n",
       "      <td>False</td>\n",
       "      <td>False</td>\n",
       "      <td>42A4CB9035B7F50E</td>\n",
       "      <td>1</td>\n",
       "      <td>4</td>\n",
       "      <td>11</td>\n",
       "      <td>2</td>\n",
       "      <td>nan</td>\n",
       "      <td>NaN</td>\n",
       "      <td>101700</td>\n",
       "      <td>101704</td>\n",
       "      <td>xb</td>\n",
       "    </tr>\n",
       "    <tr>\n",
       "      <th>625456</th>\n",
       "      <td>0</td>\n",
       "      <td>0</td>\n",
       "      <td>2100083,2100094,2100138,2100084,2100029,210023...</td>\n",
       "      <td>0</td>\n",
       "      <td>0</td>\n",
       "      <td>NaN</td>\n",
       "      <td>NaN</td>\n",
       "      <td>0</td>\n",
       "      <td>0</td>\n",
       "      <td>NaN</td>\n",
       "      <td>unknown</td>\n",
       "      <td>1522725</td>\n",
       "      <td>230000191</td>\n",
       "      <td>3006413</td>\n",
       "      <td>101700_101704</td>\n",
       "      <td>1001787</td>\n",
       "      <td>2333357</td>\n",
       "      <td>8390206106730935773</td>\n",
       "      <td>NaN</td>\n",
       "      <td>NaN</td>\n",
       "      <td>NaN</td>\n",
       "      <td>xb_unknown</td>\n",
       "      <td>10</td>\n",
       "      <td>300</td>\n",
       "      <td>640</td>\n",
       "      <td>True</td>\n",
       "      <td>False</td>\n",
       "      <td>False</td>\n",
       "      <td>42A4CB9035B7F50E</td>\n",
       "      <td>0</td>\n",
       "      <td>5</td>\n",
       "      <td>20</td>\n",
       "      <td>4</td>\n",
       "      <td>nan</td>\n",
       "      <td>NaN</td>\n",
       "      <td>101700</td>\n",
       "      <td>101704</td>\n",
       "      <td>xb</td>\n",
       "    </tr>\n",
       "    <tr>\n",
       "      <th>644365</th>\n",
       "      <td>0</td>\n",
       "      <td>0</td>\n",
       "      <td>2100042,2100041,gd_2100001,2100012,2100130,210...</td>\n",
       "      <td>0</td>\n",
       "      <td>0</td>\n",
       "      <td>NaN</td>\n",
       "      <td>NaN</td>\n",
       "      <td>0</td>\n",
       "      <td>0</td>\n",
       "      <td>NaN</td>\n",
       "      <td>unknown</td>\n",
       "      <td>1511687</td>\n",
       "      <td>230000191</td>\n",
       "      <td>3004945</td>\n",
       "      <td>101700_101704</td>\n",
       "      <td>1001787</td>\n",
       "      <td>2330013</td>\n",
       "      <td>8390206106730935773</td>\n",
       "      <td>NaN</td>\n",
       "      <td>NaN</td>\n",
       "      <td>NaN</td>\n",
       "      <td>xb_unknown</td>\n",
       "      <td>10</td>\n",
       "      <td>300</td>\n",
       "      <td>640</td>\n",
       "      <td>True</td>\n",
       "      <td>False</td>\n",
       "      <td>False</td>\n",
       "      <td>42A4CB9035B7F50E</td>\n",
       "      <td>0</td>\n",
       "      <td>3</td>\n",
       "      <td>20</td>\n",
       "      <td>4</td>\n",
       "      <td>nan</td>\n",
       "      <td>NaN</td>\n",
       "      <td>101700</td>\n",
       "      <td>101704</td>\n",
       "      <td>xb</td>\n",
       "    </tr>\n",
       "    <tr>\n",
       "      <th>659053</th>\n",
       "      <td>0</td>\n",
       "      <td>0</td>\n",
       "      <td>3004059,3004209,3004214,3004266,3004292,300429...</td>\n",
       "      <td>0</td>\n",
       "      <td>0</td>\n",
       "      <td>NaN</td>\n",
       "      <td>NaN</td>\n",
       "      <td>0</td>\n",
       "      <td>0</td>\n",
       "      <td>NaN</td>\n",
       "      <td>unknown</td>\n",
       "      <td>1585980</td>\n",
       "      <td>230000191</td>\n",
       "      <td>3012652</td>\n",
       "      <td>101700_101704</td>\n",
       "      <td>1001787</td>\n",
       "      <td>2342734</td>\n",
       "      <td>8390206106730935773</td>\n",
       "      <td>NaN</td>\n",
       "      <td>NaN</td>\n",
       "      <td>NaN</td>\n",
       "      <td>xb_unknown</td>\n",
       "      <td>10</td>\n",
       "      <td>300</td>\n",
       "      <td>640</td>\n",
       "      <td>True</td>\n",
       "      <td>False</td>\n",
       "      <td>False</td>\n",
       "      <td>42A4CB9035B7F50E</td>\n",
       "      <td>0</td>\n",
       "      <td>7</td>\n",
       "      <td>21</td>\n",
       "      <td>4</td>\n",
       "      <td>nan</td>\n",
       "      <td>NaN</td>\n",
       "      <td>101700</td>\n",
       "      <td>101704</td>\n",
       "      <td>xb</td>\n",
       "    </tr>\n",
       "    <tr>\n",
       "      <th>700720</th>\n",
       "      <td>137104104102100</td>\n",
       "      <td>137104104100100</td>\n",
       "      <td>NaN</td>\n",
       "      <td>0</td>\n",
       "      <td>0</td>\n",
       "      <td>NaN</td>\n",
       "      <td>NaN</td>\n",
       "      <td>0</td>\n",
       "      <td>0</td>\n",
       "      <td>NaN</td>\n",
       "      <td>unknown</td>\n",
       "      <td>1579448</td>\n",
       "      <td>230001690</td>\n",
       "      <td>3012188</td>\n",
       "      <td>101700_101711</td>\n",
       "      <td>1003546</td>\n",
       "      <td>2342344</td>\n",
       "      <td>8390229093704413749</td>\n",
       "      <td>100.0</td>\n",
       "      <td>NaN</td>\n",
       "      <td>2071251.0</td>\n",
       "      <td>omg_LV_1001_YDLDVi_LD-11617</td>\n",
       "      <td>3</td>\n",
       "      <td>1280</td>\n",
       "      <td>720</td>\n",
       "      <td>True</td>\n",
       "      <td>False</td>\n",
       "      <td>False</td>\n",
       "      <td>862FF2E9B0AD4C14</td>\n",
       "      <td>0</td>\n",
       "      <td>4</td>\n",
       "      <td>10</td>\n",
       "      <td>2</td>\n",
       "      <td>nan</td>\n",
       "      <td>NaN</td>\n",
       "      <td>101700</td>\n",
       "      <td>101711</td>\n",
       "      <td>omg</td>\n",
       "    </tr>\n",
       "    <tr>\n",
       "      <th>780192</th>\n",
       "      <td>0</td>\n",
       "      <td>0</td>\n",
       "      <td>NaN</td>\n",
       "      <td>0</td>\n",
       "      <td>0</td>\n",
       "      <td>NaN</td>\n",
       "      <td>NaN</td>\n",
       "      <td>0</td>\n",
       "      <td>0</td>\n",
       "      <td>NaN</td>\n",
       "      <td>unknown</td>\n",
       "      <td>1511681</td>\n",
       "      <td>230000191</td>\n",
       "      <td>3004945</td>\n",
       "      <td>101700_101704</td>\n",
       "      <td>1001787</td>\n",
       "      <td>2330007</td>\n",
       "      <td>8390206106730935773</td>\n",
       "      <td>NaN</td>\n",
       "      <td>NaN</td>\n",
       "      <td>NaN</td>\n",
       "      <td>xb_unknown</td>\n",
       "      <td>10</td>\n",
       "      <td>300</td>\n",
       "      <td>640</td>\n",
       "      <td>True</td>\n",
       "      <td>False</td>\n",
       "      <td>False</td>\n",
       "      <td>42A4CB9035B7F50E</td>\n",
       "      <td>1</td>\n",
       "      <td>2</td>\n",
       "      <td>13</td>\n",
       "      <td>3</td>\n",
       "      <td>nan</td>\n",
       "      <td>NaN</td>\n",
       "      <td>101700</td>\n",
       "      <td>101704</td>\n",
       "      <td>xb</td>\n",
       "    </tr>\n",
       "  </tbody>\n",
       "</table>\n",
       "</div>"
      ],
      "text/plain": [
       "                   city         province  \\\n",
       "107779                0                0   \n",
       "187299                0                0   \n",
       "407466                0                0   \n",
       "428980                0                0   \n",
       "443190                0                0   \n",
       "625456                0                0   \n",
       "644365                0                0   \n",
       "659053                0                0   \n",
       "700720  137104104102100  137104104100100   \n",
       "780192                0                0   \n",
       "\n",
       "                                                user_tags  carrier  devtype  \\\n",
       "107779                                                NaN        0        0   \n",
       "187299                                                NaN        0        0   \n",
       "407466                                                NaN        0        0   \n",
       "428980  gd_2100001,3001985,3002753,3002945,3003055,300...        0        0   \n",
       "443190                                                NaN        0        0   \n",
       "625456  2100083,2100094,2100138,2100084,2100029,210023...        0        0   \n",
       "644365  2100042,2100041,gd_2100001,2100012,2100130,210...        0        0   \n",
       "659053  3004059,3004209,3004214,3004266,3004292,300429...        0        0   \n",
       "700720                                                NaN        0        0   \n",
       "780192                                                NaN        0        0   \n",
       "\n",
       "       make model  nnt  os  osv  os_name     adid  advert_id  orderid  \\\n",
       "107779  NaN   NaN    0   0  NaN  unknown  1522727  230000191  3006413   \n",
       "187299  NaN   NaN    0   0  NaN  unknown  1511681  230000191  3004945   \n",
       "407466  NaN   NaN    0   0  NaN  unknown  1511681  230000191  3004945   \n",
       "428980  NaN   NaN    0   0  NaN  unknown  1522725  230000191  3006413   \n",
       "443190  NaN   NaN    0   0  NaN  unknown  1522727  230000191  3006413   \n",
       "625456  NaN   NaN    0   0  NaN  unknown  1522725  230000191  3006413   \n",
       "644365  NaN   NaN    0   0  NaN  unknown  1511687  230000191  3004945   \n",
       "659053  NaN   NaN    0   0  NaN  unknown  1585980  230000191  3012652   \n",
       "700720  NaN   NaN    0   0  NaN  unknown  1579448  230001690  3012188   \n",
       "780192  NaN   NaN    0   0  NaN  unknown  1511681  230000191  3004945   \n",
       "\n",
       "       advert_industry_inner  campaign_id  creative_id      creative_tp_dnf  \\\n",
       "107779         101700_101704      1001787      2333359  8390206106730935773   \n",
       "187299         101700_101704      1001787      2330007  8390206106730935773   \n",
       "407466         101700_101704      1001787      2330007  8390206106730935773   \n",
       "428980         101700_101704      1001787      2333357  8390206106730935773   \n",
       "443190         101700_101704      1001787      2333359  8390206106730935773   \n",
       "625456         101700_101704      1001787      2333357  8390206106730935773   \n",
       "644365         101700_101704      1001787      2330013  8390206106730935773   \n",
       "659053         101700_101704      1001787      2342734  8390206106730935773   \n",
       "700720         101700_101711      1003546      2342344  8390229093704413749   \n",
       "780192         101700_101704      1001787      2330007  8390206106730935773   \n",
       "\n",
       "        app_cate_id f_channel     app_id                inner_slot_id  \\\n",
       "107779          NaN       NaN        NaN                   xb_unknown   \n",
       "187299          NaN       NaN        NaN                   xb_unknown   \n",
       "407466          NaN       NaN        NaN                   xb_unknown   \n",
       "428980          NaN       NaN        NaN                   xb_unknown   \n",
       "443190          NaN       NaN        NaN                   xb_unknown   \n",
       "625456          NaN       NaN        NaN                   xb_unknown   \n",
       "644365          NaN       NaN        NaN                   xb_unknown   \n",
       "659053          NaN       NaN        NaN                   xb_unknown   \n",
       "700720        100.0       NaN  2071251.0  omg_LV_1001_YDLDVi_LD-11617   \n",
       "780192          NaN       NaN        NaN                   xb_unknown   \n",
       "\n",
       "        creative_type  creative_width  creative_height  creative_is_jump  \\\n",
       "107779             10             300              640              True   \n",
       "187299             10             300              640              True   \n",
       "407466             10             300              640              True   \n",
       "428980             10             300              640              True   \n",
       "443190             10             300              640              True   \n",
       "625456             10             300              640              True   \n",
       "644365             10             300              640              True   \n",
       "659053             10             300              640              True   \n",
       "700720              3            1280              720              True   \n",
       "780192             10             300              640              True   \n",
       "\n",
       "        creative_is_download  creative_has_deeplink       advert_name  click  \\\n",
       "107779                 False                  False  42A4CB9035B7F50E      0   \n",
       "187299                 False                  False  42A4CB9035B7F50E      0   \n",
       "407466                 False                  False  42A4CB9035B7F50E      0   \n",
       "428980                 False                  False  42A4CB9035B7F50E      0   \n",
       "443190                 False                  False  42A4CB9035B7F50E      1   \n",
       "625456                 False                  False  42A4CB9035B7F50E      0   \n",
       "644365                 False                  False  42A4CB9035B7F50E      0   \n",
       "659053                 False                  False  42A4CB9035B7F50E      0   \n",
       "700720                 False                  False  862FF2E9B0AD4C14      0   \n",
       "780192                 False                  False  42A4CB9035B7F50E      1   \n",
       "\n",
       "        day  hour  hour_part new_make new_model advert_industry_inner1  \\\n",
       "107779    5    11          2      nan       NaN                 101700   \n",
       "187299    5    15          3      nan       NaN                 101700   \n",
       "407466    1     9          2      nan       NaN                 101700   \n",
       "428980    5    11          2      nan       NaN                 101700   \n",
       "443190    4    11          2      nan       NaN                 101700   \n",
       "625456    5    20          4      nan       NaN                 101700   \n",
       "644365    3    20          4      nan       NaN                 101700   \n",
       "659053    7    21          4      nan       NaN                 101700   \n",
       "700720    4    10          2      nan       NaN                 101700   \n",
       "780192    2    13          3      nan       NaN                 101700   \n",
       "\n",
       "       advert_industry_inner2 inner_slot_id1  \n",
       "107779                 101704             xb  \n",
       "187299                 101704             xb  \n",
       "407466                 101704             xb  \n",
       "428980                 101704             xb  \n",
       "443190                 101704             xb  \n",
       "625456                 101704             xb  \n",
       "644365                 101704             xb  \n",
       "659053                 101704             xb  \n",
       "700720                 101711            omg  \n",
       "780192                 101704             xb  "
      ]
     },
     "execution_count": 136,
     "metadata": {},
     "output_type": "execute_result"
    }
   ],
   "source": [
    "#  其他系统的有关信息缺失情况\n",
    "data.loc[data.os == 0].head(10)"
   ]
  },
  {
   "cell_type": "code",
   "execution_count": 137,
   "metadata": {},
   "outputs": [],
   "source": [
    "# 其他类型操作系统比重极少，可将其归为安卓类\n",
    "data.os.replace(0, 2, inplace=True)"
   ]
  },
  {
   "cell_type": "code",
   "execution_count": 138,
   "metadata": {},
   "outputs": [
    {
     "data": {
      "text/plain": [
       "array([2, 1])"
      ]
     },
     "execution_count": 138,
     "metadata": {},
     "output_type": "execute_result"
    }
   ],
   "source": [
    "data.os.unique()"
   ]
  },
  {
   "cell_type": "markdown",
   "metadata": {},
   "source": [
    "#### 操作系统版本"
   ]
  },
  {
   "cell_type": "code",
   "execution_count": 139,
   "metadata": {},
   "outputs": [
    {
     "data": {
      "text/plain": [
       "366"
      ]
     },
     "execution_count": 139,
     "metadata": {},
     "output_type": "execute_result"
    }
   ],
   "source": [
    "#  number\n",
    "len(data.osv.unique())"
   ]
  },
  {
   "cell_type": "code",
   "execution_count": 140,
   "metadata": {},
   "outputs": [
    {
     "data": {
      "text/plain": [
       "24243"
      ]
     },
     "execution_count": 140,
     "metadata": {},
     "output_type": "execute_result"
    }
   ],
   "source": [
    "#  nan\n",
    "sum(data.osv.isnull())"
   ]
  },
  {
   "cell_type": "code",
   "execution_count": 141,
   "metadata": {},
   "outputs": [
    {
     "data": {
      "text/plain": [
       "array(['5.1.1', '5.1', '8.0.0', '5.0.2', '6.0.1', '7.0', '7.0.0', '6.0',\n",
       "       '7.1.1', '4.4.2', '7.1.2', '8.1.0', '5.1.0', '4.4.4', '8.4',\n",
       "       '4.2.1', '6.0.0', '4.2.2', '11.4', '11.4.1', '11.2.5', '11.3',\n",
       "       '11.1.1', '9.3.5', '11.0', '11.3.1', '10.3.3', '5.0', '10.2',\n",
       "       '11.2.6', '10.1.1', '12.0', '11.2.1', '10.1', nan, '4.3', '10.0.2',\n",
       "       '11.1', '8.1', 'iOS 11.4', '9.3.2', '10.3.1', '4.4', '10.2.1',\n",
       "       '9.3.3', '24', '27', '11.1.2', '26.0.1', '5.0.1', '4.1.2', '4.3.0',\n",
       "       '10.0.1', '9.0.2', '9.1', '11.2.2', '11.0.2', '7.1', '8.4.1',\n",
       "       '9.3', '5.0.0', '11.0.3', '9.0', '11.0.1', '8.2', '10.3.2',\n",
       "       'iOS 11.4.1', '8.1.3', '4.0.4', '8.0', '4.4.3', 'android5.1.1',\n",
       "       '2.3.6', '25', '9.3.4', 'android6.0.1', '8.3', '9.2.1', '23',\n",
       "       'iPhone OS 9.2.1', '7.0.5', '26', '9_3_5', '1.0', '22', '9.2',\n",
       "       '8.1.1', '19', '4.1', '11.2', '6.1', '9.3.1', '11_4', '11_0_2',\n",
       "       '4.1.1', '6.1.2', '6.0.2', '9.0.1', 'iOS 10.3.3', '10.3', '4.4.0',\n",
       "       '4.0.3', 'iOS 11.2.2', '8.0.2', 'android4.4.4', 'iOS 11.2.1',\n",
       "       '8.1.2', '4.4.5', '5.0.5', '10.0', 'iOS 11.3.1', 'android8.0.0',\n",
       "       '6.1.0', 'iOS 11.0.3', '4.2', 'iOS 10.2.1', 'android7.1.2',\n",
       "       '7.0.4', '11_2_5', '2.2.2', 'iOS 11.2.6', 'android5.0.2',\n",
       "       'iPhone OS 7.0.6', 'iOS11.4.1', 'iOS 10.3.2', '23.0.1',\n",
       "       'iPhone OS 9.1', '3.1.0', 'iOS 11.3', 'iOS 11.2.5', '10.0.3',\n",
       "       'android7.0', 'iOS11.3', 'android7.1.1', 'android6.0',\n",
       "       'iOS 10.0.2', '7.0.2', 'iOS11.2.6', 'iOS10.3.3', '6.3.0',\n",
       "       'iOS11.0.3', '24.0.0', 'iOS 10.1.1', 'iPhone OS 9.2', '5.3',\n",
       "       '4.0.2', 'iOS11.4', '2.3.5', '4.0.1', '21', '7.0.3', '11_2_1',\n",
       "       'iOS 11.1.2', '11_2_6', 'iPhone OS 9.3.2', '4.2.0',\n",
       "       'iPhone OS 9.3.5', 'android8.1.0', 'iOS 10.1', '18', 'unknown',\n",
       "       '22.0.1', '11.19999980926514', '11_1_2', '2.3.3', 'android5.1',\n",
       "       '4.0', 'iOS 11.1', '10_2_1', '10_1_1', '2.3.4', '2.3.7', '26.0.0',\n",
       "       '10.2.0', '10.1.3', 'iOS 10.0.3', '25.0.1', 'iPhone OS 9.0.2',\n",
       "       '23.0.0', 'iOS11.3.1', '11.4.0', '11.0.0', '9.2.0', 'iOS11.2.5',\n",
       "       'iPhone OS 9.3.3', '10.3.4', '22.0.0', 'iOS10.2.1',\n",
       "       'iPhoneOS9.3.1', '9.1.0', 'iOS 11.2', '5.1 by mrkindaiji.0',\n",
       "       '11_2_2', 'iOS 10.2', '2.9.2', '3.1', 'iPhone OS 9.3.4', '9_0_2',\n",
       "       '11_3', '9_2_1', '11.39999961853027', 'iOS11.1.1', '10_3_1', '6.3',\n",
       "       'iOS 11.0', '10_3_2', '11_0_3', '11_4_1', '4.4.1',\n",
       "       '5.3.0-FL-20170914', '4.3.1', 'iOS 11.0.2', 'iOS 12.0', '6.1.6',\n",
       "       'iPhone OS 9.3.1', '2.3', '11_1', '19.0.1', '24.0.1', '11.3.3',\n",
       "       '5.12', 'Android 7.0', '9', '3.0.4-RS-20160720.1914', '8_1_2',\n",
       "       '27.0.0', '4.3.2', '4.3.3', '17.0.0', '11', 'iPhone OS 9.0',\n",
       "       '7.0.6', 'Android 5.1', 'iOS11.2.1', 'iOS 11.0.1', '11.3.0',\n",
       "       '25.0.0', 'Linux', '11_1_1', 'iOS10.2', 'iOS11.1.2',\n",
       "       'iPhone OS 8.4.1', '8.3.0', '5.3.0-FL-20170914.9999', '7.0.1',\n",
       "       'iOS10.3.2', '8_1_3', 'iOS10.1.1', '19.0.0', '10.3.0', '10_3_3',\n",
       "       '10.1.0', 'iPhone OS 6.1.2', '6.1.3', '11.30000019073486',\n",
       "       'iOS 11.1.1', '8_3', '537.36', 'android4.4.2', '11.1.0',\n",
       "       'iOS 10.0.1', '11_3_1', '5.2', 'iOS11.2.2', '9_3_1',\n",
       "       'iPhone OS 7.1.1', '11_2', 'iPhoneOS9.3.5', '5.2.3',\n",
       "       '10.30000019073486', '8_4_1', '17.0.1', '9.0.0', 'iOS10.0.2',\n",
       "       '6.1.4', '11.1.3', '10.1.2', 'iOS11.1', '9_3', 'iOS 10.0',\n",
       "       'iPhoneOS8.1.2', '9_3_4', '9_1', '12.0.0', '2.0.0-R-20180326.1451',\n",
       "       'iPhoneOS8.4', '8.2.0', 'iPhone OS 5.1.1', 'iPhone OS 7.1.2',\n",
       "       '7_1', '10_2', '4.1.0', '5.3.0', '7.21', 'iOS 10.3.1', '8_4',\n",
       "       '4.0.0', '9_3_2', 'iPhoneOS9.3.2', 'iPhone OS 8.4', 'iOS11.0.1',\n",
       "       'iPhone OS 8.1.2', '11_0', '7.2', '11.10000038146973',\n",
       "       'iPhone OS 9.3', 'iPhone OS 9.0.1', 'JiangNan', 'iPhone OS 8.3',\n",
       "       '10_0_2', '5.1.5', '8.4.0', '8.0.1', 'iOS10.3.1', '9.3.0', '6.0.7',\n",
       "       '11.2.0', '21.0.0', 'P', '10.0.0', 'android4.2.2', 'iOS11.0', '17',\n",
       "       'iOS 10.3', 'iPhoneOS8.3', '4.4.6', 'iOS10.0.3', 'iPhoneOS10.3.2',\n",
       "       '6.2.1', '10.10000038146973', 'iPhone OS 8.1.1', '6.5.1', '6.1.1',\n",
       "       'iOS11.0.2', '4.3.5', 'iPhoneOS9.2.1', '2.0', '9_2', 'O',\n",
       "       'android4.3', '2.3.10', 'iPhoneOS8.1', '3.1.1', '10_1',\n",
       "       'iPhoneOS9.0', '4.1.9', '15.0.0', '10_0_1', 'android5.0',\n",
       "       'android5.0.1', 'iOS10.0', 'iPhoneOS8.2', 'Android 6.0.1',\n",
       "       'iPhoneOS9.3.3', '3.2', '9.100000381469727', '3.0.1', '15.0.1',\n",
       "       '8_2', 'android4.1.2',\n",
       "       '\\x05��5.1.1��\\x06��LMY47V����\\uffff\\uffff\\uffff\\uffff', '8_0',\n",
       "       '11_0_1', 'iPhoneOS9.3.4', 'B770', 'Android 6.0'], dtype=object)"
      ]
     },
     "execution_count": 141,
     "metadata": {},
     "output_type": "execute_result"
    }
   ],
   "source": [
    "data.osv.unique()"
   ]
  },
  {
   "cell_type": "code",
   "execution_count": 142,
   "metadata": {},
   "outputs": [],
   "source": [
    "# 去除os版本前缀\n",
    "lst = []\n",
    "\n",
    "for va in data.osv.values:\n",
    "    va = str(va)\n",
    "    va = va.replace(\" \", \"\")\n",
    "    va = va.replace(\"iOS\", \"\")\n",
    "    va = va.replace(\"android\", \"\")\n",
    "    va = va.replace(\"_\", \".\")\n",
    "    va = va.replace(\"Android5.1\", \".\")\n",
    "    try:\n",
    "        int(va)\n",
    "        lst.append(np.nan)\n",
    "    except:\n",
    "        sp = [\"nan\", \"11.39999961853027\", \"10.30000019073486\", \"unknown\", \"11.30000019073486\"]\n",
    "        if va in sp:\n",
    "            lst.append(np.nan)\n",
    "        elif va == \"3.0.4-RS-20160720.1914\":\n",
    "            lst.append(\"3.0.4\")\n",
    "        else:\n",
    "            lst.append(va)"
   ]
  },
  {
   "cell_type": "code",
   "execution_count": 87,
   "metadata": {},
   "outputs": [],
   "source": [
    "temp = pd.Series(lst).value_counts()\n",
    "temp = temp[temp<2].index.tolist()"
   ]
  },
  {
   "cell_type": "code",
   "execution_count": 81,
   "metadata": {},
   "outputs": [],
   "source": [
    "# 处理异常值\n",
    "for i in range(len(lst)):\n",
    "    if lst[i] in temp:\n",
    "        lst[i] = np.nan"
   ]
  },
  {
   "cell_type": "code",
   "execution_count": 143,
   "metadata": {},
   "outputs": [],
   "source": [
    "data[\"osv\"] = lst"
   ]
  },
  {
   "cell_type": "code",
   "execution_count": 144,
   "metadata": {},
   "outputs": [],
   "source": [
    "# 版本号细分\n",
    "lst1 = []\n",
    "lst2 = []\n",
    "lst3 = []\n",
    "\n",
    "\n",
    "for va in data[\"osv\"].values:\n",
    "    va = str(va).split(\".\")\n",
    "    if len(va)<3:　#  example : 10.2 or 10 or nan\n",
    "        va.extend([\"0\", \"0\", \"0\"])\n",
    "    lst1.append(va[0])\n",
    "    lst2.append(va[1])\n",
    "    lst3.append(va[2])\n",
    "    \n",
    "    \n",
    "data[\"osv1\"] = lst1\n",
    "data[\"osv2\"] = lst2\n",
    "data[\"osv3\"] = lst3"
   ]
  },
  {
   "cell_type": "code",
   "execution_count": 157,
   "metadata": {},
   "outputs": [],
   "source": [
    "# 添加系统号\n",
    "def getlst(col1, col2):\n",
    "    \"\"\"\n",
    "    获得系统名称\n",
    "    col1: os\n",
    "    col2: osv\n",
    "    \"\"\"\n",
    "    \n",
    "    arr2 = data[col2].astype(str).fillna(value=\"-1\").values\n",
    "    arr1 = data[col1].astype(str).values\n",
    "    lst = []\n",
    "    \n",
    "    for i in range(len(arr1)):\n",
    "        lst.append(arr1[i] + \"_\" + arr2[i])  # os_version\n",
    "    \n",
    "    return lst"
   ]
  },
  {
   "cell_type": "code",
   "execution_count": 158,
   "metadata": {},
   "outputs": [],
   "source": [
    "# os:  2:android, 1:iPhone\n",
    "data[\"os_name\"] = getlst(\"os\", \"osv\")\n",
    "data[\"os_name1\"] = getlst(\"os\", \"osv1\")"
   ]
  },
  {
   "cell_type": "markdown",
   "metadata": {},
   "source": [
    "### 对于bool型数据进行处理"
   ]
  },
  {
   "cell_type": "code",
   "execution_count": 163,
   "metadata": {},
   "outputs": [
    {
     "name": "stdout",
     "output_type": "stream",
     "text": [
      "creative_is_jump\n",
      "creative_is_download\n",
      "creative_has_deeplink\n"
     ]
    }
   ],
   "source": [
    "# 打印bool类型数据\n",
    "bool_feture = []\n",
    "cols = data.columns\n",
    "\n",
    "for col in cols:\n",
    "    if str(data[col].dtype) == 'bool':\n",
    "        print(col)\n",
    "        bool_feture.append(str(col))"
   ]
  },
  {
   "cell_type": "code",
   "execution_count": 164,
   "metadata": {},
   "outputs": [],
   "source": [
    "# True:1 False:0\n",
    "for feature in bool_feture:\n",
    "    data[feature] = data[feature].astype(int)"
   ]
  },
  {
   "cell_type": "code",
   "execution_count": 165,
   "metadata": {},
   "outputs": [
    {
     "name": "stdout",
     "output_type": "stream",
     "text": [
      "<class 'pandas.core.frame.DataFrame'>\n",
      "RangeIndex: 3072915 entries, 0 to 3072914\n",
      "Data columns (total 42 columns):\n",
      " #   Column                  Dtype  \n",
      "---  ------                  -----  \n",
      " 0   city                    int64  \n",
      " 1   province                int64  \n",
      " 2   user_tags               object \n",
      " 3   carrier                 int64  \n",
      " 4   devtype                 int64  \n",
      " 5   make                    object \n",
      " 6   model                   object \n",
      " 7   nnt                     int64  \n",
      " 8   os                      int64  \n",
      " 9   osv                     object \n",
      " 10  os_name                 object \n",
      " 11  adid                    int64  \n",
      " 12  advert_id               int64  \n",
      " 13  orderid                 int64  \n",
      " 14  advert_industry_inner   object \n",
      " 15  campaign_id             int64  \n",
      " 16  creative_id             int64  \n",
      " 17  creative_tp_dnf         int64  \n",
      " 18  app_cate_id             float64\n",
      " 19  f_channel               object \n",
      " 20  app_id                  float64\n",
      " 21  inner_slot_id           object \n",
      " 22  creative_type           int64  \n",
      " 23  creative_width          int64  \n",
      " 24  creative_height         int64  \n",
      " 25  creative_is_jump        int64  \n",
      " 26  creative_is_download    int64  \n",
      " 27  creative_has_deeplink   int64  \n",
      " 28  advert_name             object \n",
      " 29  click                   int64  \n",
      " 30  day                     int64  \n",
      " 31  hour                    int64  \n",
      " 32  hour_part               int64  \n",
      " 33  new_make                object \n",
      " 34  new_model               object \n",
      " 35  advert_industry_inner1  object \n",
      " 36  advert_industry_inner2  object \n",
      " 37  inner_slot_id1          object \n",
      " 38  osv1                    object \n",
      " 39  osv2                    object \n",
      " 40  osv3                    object \n",
      " 41  os_name1                object \n",
      "dtypes: float64(2), int64(22), object(18)\n",
      "memory usage: 984.7+ MB\n"
     ]
    }
   ],
   "source": [
    "data.info()"
   ]
  },
  {
   "cell_type": "markdown",
   "metadata": {},
   "source": [
    "### 用户标签信息处理\n",
    "重新给用户指定标签信息，构建新的特征"
   ]
  },
  {
   "cell_type": "code",
   "execution_count": 166,
   "metadata": {},
   "outputs": [
    {
     "data": {
      "text/plain": [
       "0          ,3003303,3003319,3003371,3003375,3003379,30034...\n",
       "1          3003779,3003843,3003851,3003863,3003865,300386...\n",
       "2                                            3004430,3004434\n",
       "3          ag_2100036,gd_2100000,3001749,3001989,3002121,...\n",
       "4                                                        NaN\n",
       "                                 ...                        \n",
       "1345249    2100098,2100254,2100191,3004081,3004093,300414...\n",
       "1345250    gd_2100001,3002095,3002097,3002179,3002263,300...\n",
       "1345251    3003779,3003843,3003845,3003863,3004059,300408...\n",
       "1345252    3003799,3003805,3003815,3003819,3003821,300385...\n",
       "1345253    2100141,2100078,3001769,3001881,3001889,300195...\n",
       "Length: 1345254, dtype: object"
      ]
     },
     "execution_count": 166,
     "metadata": {},
     "output_type": "execute_result"
    }
   ],
   "source": [
    "#  构建映射表\n",
    "se = pd.Series(data[\"user_tags\"].drop_duplicates().values)\n",
    "se"
   ]
  },
  {
   "cell_type": "code",
   "execution_count": 167,
   "metadata": {},
   "outputs": [
    {
     "data": {
      "text/plain": [
       "0                0\n",
       "1                1\n",
       "2                2\n",
       "3                3\n",
       "4                4\n",
       "            ...   \n",
       "3072910          4\n",
       "3072911     410658\n",
       "3072912    1345252\n",
       "3072913    1345253\n",
       "3072914          4\n",
       "Name: user_id, Length: 3072915, dtype: int64"
      ]
     },
     "execution_count": 167,
     "metadata": {},
     "output_type": "execute_result"
    }
   ],
   "source": [
    "#  映射索引变为新的标签, 重新map id \n",
    "data[\"user_id\"] = data[\"user_tags\"].map(pd.Series(se.index, index=se.values))\n",
    "data.user_id"
   ]
  },
  {
   "cell_type": "code",
   "execution_count": 168,
   "metadata": {},
   "outputs": [],
   "source": [
    "data.user_tags.fillna(value=\"-1\", inplace=True)"
   ]
  },
  {
   "cell_type": "code",
   "execution_count": 170,
   "metadata": {},
   "outputs": [],
   "source": [
    "lst = []\n",
    "\n",
    "for va in data.user_tags.values:\n",
    "    va = va.replace(\",\", \" \")\n",
    "    lst.append(va)\n",
    "    \n",
    "data.user_tags = lst"
   ]
  },
  {
   "cell_type": "markdown",
   "metadata": {},
   "source": [
    "### 查看缺失值情况"
   ]
  },
  {
   "cell_type": "code",
   "execution_count": 175,
   "metadata": {},
   "outputs": [
    {
     "data": {
      "text/html": [
       "<div>\n",
       "<style scoped>\n",
       "    .dataframe tbody tr th:only-of-type {\n",
       "        vertical-align: middle;\n",
       "    }\n",
       "\n",
       "    .dataframe tbody tr th {\n",
       "        vertical-align: top;\n",
       "    }\n",
       "\n",
       "    .dataframe thead th {\n",
       "        text-align: right;\n",
       "    }\n",
       "</style>\n",
       "<table border=\"1\" class=\"dataframe\">\n",
       "  <thead>\n",
       "    <tr style=\"text-align: right;\">\n",
       "      <th></th>\n",
       "      <th>Total</th>\n",
       "      <th>Percent</th>\n",
       "    </tr>\n",
       "  </thead>\n",
       "  <tbody>\n",
       "    <tr>\n",
       "      <th>f_channel</th>\n",
       "      <td>2837306</td>\n",
       "      <td>92.332720</td>\n",
       "    </tr>\n",
       "    <tr>\n",
       "      <th>make</th>\n",
       "      <td>305052</td>\n",
       "      <td>9.927121</td>\n",
       "    </tr>\n",
       "    <tr>\n",
       "      <th>osv</th>\n",
       "      <td>31217</td>\n",
       "      <td>1.015876</td>\n",
       "    </tr>\n",
       "    <tr>\n",
       "      <th>model</th>\n",
       "      <td>23131</td>\n",
       "      <td>0.752738</td>\n",
       "    </tr>\n",
       "    <tr>\n",
       "      <th>new_model</th>\n",
       "      <td>23131</td>\n",
       "      <td>0.752738</td>\n",
       "    </tr>\n",
       "    <tr>\n",
       "      <th>app_cate_id</th>\n",
       "      <td>6802</td>\n",
       "      <td>0.221353</td>\n",
       "    </tr>\n",
       "    <tr>\n",
       "      <th>app_id</th>\n",
       "      <td>6802</td>\n",
       "      <td>0.221353</td>\n",
       "    </tr>\n",
       "    <tr>\n",
       "      <th>user_tags</th>\n",
       "      <td>0</td>\n",
       "      <td>0.000000</td>\n",
       "    </tr>\n",
       "    <tr>\n",
       "      <th>advert_id</th>\n",
       "      <td>0</td>\n",
       "      <td>0.000000</td>\n",
       "    </tr>\n",
       "    <tr>\n",
       "      <th>creative_tp_dnf</th>\n",
       "      <td>0</td>\n",
       "      <td>0.000000</td>\n",
       "    </tr>\n",
       "    <tr>\n",
       "      <th>creative_id</th>\n",
       "      <td>0</td>\n",
       "      <td>0.000000</td>\n",
       "    </tr>\n",
       "  </tbody>\n",
       "</table>\n",
       "</div>"
      ],
      "text/plain": [
       "                   Total    Percent\n",
       "f_channel        2837306  92.332720\n",
       "make              305052   9.927121\n",
       "osv                31217   1.015876\n",
       "model              23131   0.752738\n",
       "new_model          23131   0.752738\n",
       "app_cate_id         6802   0.221353\n",
       "app_id              6802   0.221353\n",
       "user_tags              0   0.000000\n",
       "advert_id              0   0.000000\n",
       "creative_tp_dnf        0   0.000000\n",
       "creative_id            0   0.000000"
      ]
     },
     "execution_count": 175,
     "metadata": {},
     "output_type": "execute_result"
    }
   ],
   "source": [
    "Total = data.isnull().sum().sort_values(ascending=False)\n",
    "Percent = (data.isnull().sum()/data.isnull().count()).sort_values(ascending=False)*100\n",
    "missing_data = pd.concat([Total, Percent], axis=1, keys=[\"Total\", \"Percent\"])\n",
    "missing_data[:11]"
   ]
  },
  {
   "cell_type": "code",
   "execution_count": 177,
   "metadata": {},
   "outputs": [
    {
     "data": {
      "image/png": "[encoded data removed]",
      "text/plain": [
       "<Figure size 864x432 with 1 Axes>"
      ]
     },
     "metadata": {
      "needs_background": "light"
     },
     "output_type": "display_data"
    }
   ],
   "source": [
    "# 可视化缺失值\n",
    "index = 10\n",
    "\n",
    "fig, ax = plt.subplots(figsize=(12, 6))\n",
    "sns.barplot(x=missing_data[:index].index, y=missing_data.Percent[:index], hue_order=True)\n",
    "plt.xticks(rotation=90)\n",
    "plt.xlabel(\"missing_features\", fontsize=14)\n",
    "plt.ylabel(\"Percent\", fontsize=14)\n",
    "plt.title(\"The percent of missing_feature\", fontsize=16)\n",
    "plt.show()"
   ]
  },
  {
   "cell_type": "code",
   "execution_count": 178,
   "metadata": {},
   "outputs": [],
   "source": [
    "def get_missinon_info(df, miss_festures):\n",
    "    \"\"\"输出缺失值的类型即数据值可取大小\"\"\"\n",
    "    \n",
    "    print(\"总样本量:%d\" % len(df))\n",
    "    \n",
    "    for feature in missing_features:\n",
    "\n",
    "        print(\"Feature:{} Dtype:{}, Lenth:{} \".format(feature, df[feature].dtype, len(df[feature].unique())))"
   ]
  },
  {
   "cell_type": "code",
   "execution_count": 179,
   "metadata": {},
   "outputs": [
    {
     "name": "stdout",
     "output_type": "stream",
     "text": [
      "总样本量:3072915\n",
      "Feature:f_channel Dtype:object, Lenth:155 \n",
      "Feature:make Dtype:object, Lenth:4922 \n",
      "Feature:osv Dtype:object, Lenth:228 \n",
      "Feature:model Dtype:object, Lenth:20314 \n",
      "Feature:new_model Dtype:object, Lenth:17296 \n",
      "Feature:app_cate_id Dtype:float64, Lenth:23 \n",
      "Feature:app_id Dtype:float64, Lenth:520 \n"
     ]
    }
   ],
   "source": [
    "# 探索是否为名义变量\n",
    "missing_features = list(missing_data.loc[missing_data.Total>0].index)\n",
    "get_missinon_info(data, missing_features)"
   ]
  },
  {
   "cell_type": "markdown",
   "metadata": {},
   "source": [
    "### 特征编码"
   ]
  },
  {
   "cell_type": "markdown",
   "metadata": {},
   "source": [
    "#### 特征类型分析\n",
    "use_tags表示唯一性,不要编码  \n",
    "creative_width, creative_height :属于数值型特征变量不需要进行编码  \n",
    "creative_is_jump, creative_is_download, creative_has_deeplink :0, 1  \n",
    "day :一周  \n",
    "click :目标 [0, 1]  \n",
    "hour_part :[1, 2, 3, 4]   \n",
    "osv1, osv2, osv3 :类别型数值变量  "
   ]
  },
  {
   "cell_type": "code",
   "execution_count": 180,
   "metadata": {},
   "outputs": [],
   "source": [
    "from sklearn.preprocessing import LabelEncoder"
   ]
  },
  {
   "cell_type": "code",
   "execution_count": 182,
   "metadata": {},
   "outputs": [
    {
     "name": "stdout",
     "output_type": "stream",
     "text": [
      "user_tags\n",
      "make\n",
      "model\n",
      "osv\n",
      "os_name\n",
      "advert_industry_inner\n",
      "f_channel\n",
      "inner_slot_id\n",
      "advert_name\n",
      "new_make\n",
      "new_model\n",
      "advert_industry_inner1\n",
      "advert_industry_inner2\n",
      "inner_slot_id1\n",
      "osv1\n",
      "osv2\n",
      "osv3\n",
      "os_name1\n"
     ]
    }
   ],
   "source": [
    "# 打印object类型数据\n",
    "bool_feture = []\n",
    "cols = data.columns\n",
    "\n",
    "for col in cols:\n",
    "    if str(data[col].dtype) == 'object':\n",
    "        print(col)\n",
    "        bool_feture.append(str(col))"
   ]
  },
  {
   "cell_type": "code",
   "execution_count": 320,
   "metadata": {},
   "outputs": [],
   "source": [
    "# all_feature = [''city'', ''province'', 'user_tags', ''carrier'', ''devtype'', ''make'', ''model'',\n",
    "#        ''nnt'', ''os'', ''osv'', ''os_name'', ''adid'', ''advert_id'', ''orderid'',\n",
    "#        ''advert_industry_inner'', ''campaign_id'', ''creative_id'',\n",
    "#        ''creative_tp_dnf'', ''app_cate_id'', ''f_channel'', ''app_id'',\n",
    "#        ''inner_slot_id'', ''creative_type'', 'creative_width', 'creative_height',\n",
    "#        'creative_is_jump', 'creative_is_download', 'creative_has_deeplink',\n",
    "#        ''advert_name'', 'click', 'day', ''hour'', 'hour_part', ''new_make'',\n",
    "#        ''advert_industry_inner1'', ''advert_industry_inner2'', ''inner_slot_id1'',\n",
    "#        'osv1', 'osv2', 'osv3', ''os_name1'', ''user_id'', ''new_model'']"
   ]
  },
  {
   "cell_type": "code",
   "execution_count": 183,
   "metadata": {},
   "outputs": [],
   "source": [
    "type_feature = ['city', 'province', 'carrier', 'devtype', 'make', 'model',\n",
    "       'nnt', 'os', 'osv', 'os_name', 'adid', 'advert_id', 'orderid',\n",
    "       'advert_industry_inner', 'campaign_id', 'creative_id',\n",
    "       'creative_tp_dnf', 'app_cate_id', 'f_channel', 'app_id',\n",
    "       'inner_slot_id', 'creative_type', \n",
    "       'advert_name',  'hour',  'new_make',\n",
    "       'advert_industry_inner1', 'advert_industry_inner2', \n",
    "        'inner_slot_id1', 'user_id', 'new_model', 'os_name1']"
   ]
  },
  {
   "cell_type": "code",
   "execution_count": 184,
   "metadata": {},
   "outputs": [],
   "source": [
    "# 标签编码\n",
    "for feature in type_feature:\n",
    "    try:\n",
    "        data[feature] = LabelEncoder().fit_transform(data[feature].fillna(-1).apply(int))  # 字符型数值转为int类型\n",
    "    except:\n",
    "        data[feature] = LabelEncoder().fit_transform(data[feature].fillna(\"-1\"))"
   ]
  },
  {
   "cell_type": "code",
   "execution_count": 186,
   "metadata": {},
   "outputs": [
    {
     "data": {
      "text/plain": [
       "array(['5', '8', '6', '7', '4', '11', '9', '10', '12', 'nan', '26', '2',\n",
       "       'iPhoneOS9', '1', 'iPhoneOS7', '23', '3', '24', '22', '25', '19',\n",
       "       'Android7', '27', '17', '', 'Linux', 'iPhoneOS8', 'iPhoneOS6',\n",
       "       '537', 'iPhoneOS5', 'JiangNan', '21', 'P', 'iPhoneOS10', 'O', '15',\n",
       "       'Android6', '\\x05��5', 'B770'], dtype=object)"
      ]
     },
     "execution_count": 186,
     "metadata": {},
     "output_type": "execute_result"
    }
   ],
   "source": [
    "data.osv1.unique()"
   ]
  },
  {
   "cell_type": "code",
   "execution_count": 187,
   "metadata": {},
   "outputs": [
    {
     "data": {
      "text/plain": [
       "39"
      ]
     },
     "execution_count": 187,
     "metadata": {},
     "output_type": "execute_result"
    }
   ],
   "source": [
    "len(data.osv1.unique())"
   ]
  },
  {
   "cell_type": "code",
   "execution_count": 188,
   "metadata": {},
   "outputs": [
    {
     "data": {
      "text/plain": [
       "1345254"
      ]
     },
     "execution_count": 188,
     "metadata": {},
     "output_type": "execute_result"
    }
   ],
   "source": [
    "len(data.user_tags.unique())"
   ]
  },
  {
   "cell_type": "code",
   "execution_count": 189,
   "metadata": {},
   "outputs": [
    {
     "data": {
      "text/plain": [
       "1345254"
      ]
     },
     "execution_count": 189,
     "metadata": {},
     "output_type": "execute_result"
    }
   ],
   "source": [
    "len(data.user_tags.unique())"
   ]
  },
  {
   "cell_type": "code",
   "execution_count": 191,
   "metadata": {},
   "outputs": [
    {
     "data": {
      "text/html": [
       "<div>\n",
       "<style scoped>\n",
       "    .dataframe tbody tr th:only-of-type {\n",
       "        vertical-align: middle;\n",
       "    }\n",
       "\n",
       "    .dataframe tbody tr th {\n",
       "        vertical-align: top;\n",
       "    }\n",
       "\n",
       "    .dataframe thead th {\n",
       "        text-align: right;\n",
       "    }\n",
       "</style>\n",
       "<table border=\"1\" class=\"dataframe\">\n",
       "  <thead>\n",
       "    <tr style=\"text-align: right;\">\n",
       "      <th></th>\n",
       "      <th>Total</th>\n",
       "      <th>Percent</th>\n",
       "    </tr>\n",
       "  </thead>\n",
       "  <tbody>\n",
       "    <tr>\n",
       "      <th>user_id</th>\n",
       "      <td>0</td>\n",
       "      <td>0.0</td>\n",
       "    </tr>\n",
       "    <tr>\n",
       "      <th>os_name</th>\n",
       "      <td>0</td>\n",
       "      <td>0.0</td>\n",
       "    </tr>\n",
       "    <tr>\n",
       "      <th>app_cate_id</th>\n",
       "      <td>0</td>\n",
       "      <td>0.0</td>\n",
       "    </tr>\n",
       "    <tr>\n",
       "      <th>creative_tp_dnf</th>\n",
       "      <td>0</td>\n",
       "      <td>0.0</td>\n",
       "    </tr>\n",
       "    <tr>\n",
       "      <th>creative_id</th>\n",
       "      <td>0</td>\n",
       "      <td>0.0</td>\n",
       "    </tr>\n",
       "    <tr>\n",
       "      <th>campaign_id</th>\n",
       "      <td>0</td>\n",
       "      <td>0.0</td>\n",
       "    </tr>\n",
       "    <tr>\n",
       "      <th>advert_industry_inner</th>\n",
       "      <td>0</td>\n",
       "      <td>0.0</td>\n",
       "    </tr>\n",
       "    <tr>\n",
       "      <th>orderid</th>\n",
       "      <td>0</td>\n",
       "      <td>0.0</td>\n",
       "    </tr>\n",
       "    <tr>\n",
       "      <th>advert_id</th>\n",
       "      <td>0</td>\n",
       "      <td>0.0</td>\n",
       "    </tr>\n",
       "    <tr>\n",
       "      <th>adid</th>\n",
       "      <td>0</td>\n",
       "      <td>0.0</td>\n",
       "    </tr>\n",
       "    <tr>\n",
       "      <th>osv</th>\n",
       "      <td>0</td>\n",
       "      <td>0.0</td>\n",
       "    </tr>\n",
       "  </tbody>\n",
       "</table>\n",
       "</div>"
      ],
      "text/plain": [
       "                       Total  Percent\n",
       "user_id                    0      0.0\n",
       "os_name                    0      0.0\n",
       "app_cate_id                0      0.0\n",
       "creative_tp_dnf            0      0.0\n",
       "creative_id                0      0.0\n",
       "campaign_id                0      0.0\n",
       "advert_industry_inner      0      0.0\n",
       "orderid                    0      0.0\n",
       "advert_id                  0      0.0\n",
       "adid                       0      0.0\n",
       "osv                        0      0.0"
      ]
     },
     "execution_count": 191,
     "metadata": {},
     "output_type": "execute_result"
    }
   ],
   "source": [
    "# 填补后的情况\n",
    "Total = data.isnull().sum().sort_values(ascending=False)\n",
    "Percent = (data.isnull().sum()/data.isnull().count()).sort_values(ascending=False)*100\n",
    "missing_data = pd.concat([Total, Percent], axis=1, keys=[\"Total\", \"Percent\"])\n",
    "missing_data[:11]"
   ]
  },
  {
   "cell_type": "markdown",
   "metadata": {},
   "source": [
    "### 处理数据"
   ]
  },
  {
   "cell_type": "code",
   "execution_count": 192,
   "metadata": {},
   "outputs": [],
   "source": [
    "# 取出训练集数据索引\n",
    "train_index = data[data.click != -1].index\n",
    "test_index = data[data.click == -1].index\n",
    "\n",
    "train_y = pd.Series(data=data.loc[train_index, \"click\"])\n",
    "train = data.iloc[train_index, :]\n",
    "test = data.iloc[test_index, :]\n",
    "\n",
    "del test[\"click\"]\n",
    "del train[\"click\"]"
   ]
  },
  {
   "cell_type": "markdown",
   "metadata": {},
   "source": [
    "### 保存数据"
   ]
  },
  {
   "cell_type": "code",
   "execution_count": 3,
   "metadata": {},
   "outputs": [],
   "source": [
    "data.to_csv(\"data/deal_data.csv\", index=False)\n",
    "train.to_csv(\"data/train.csv\", index=False)\n",
    "train_y.to_csv(\"data/train_label.csv\", index=False)\n",
    "test.to_csv(\"data/test.csv\", index=False)"
   ]
  },
  {
   "cell_type": "markdown",
   "metadata": {},
   "source": [
    "## 建模"
   ]
  },
  {
   "cell_type": "code",
   "execution_count": 4,
   "metadata": {},
   "outputs": [],
   "source": [
    "# data = pd.read_csv('data/deal_data.csv', low_memory=False)\n",
    "train = pd.read_csv('data/train.csv', low_memory=False)\n",
    "test = pd.read_csv(\"data/test.csv\", low_memory=False)\n",
    "train_y = pd.read_csv(\"data/train_label.csv\", low_memory=False)"
   ]
  },
  {
   "cell_type": "code",
   "execution_count": 7,
   "metadata": {},
   "outputs": [
    {
     "data": {
      "text/plain": [
       "Index(['city', 'province', 'user_tags', 'carrier', 'devtype', 'make', 'model',\n",
       "       'nnt', 'os', 'osv', 'os_name', 'adid', 'advert_id', 'orderid',\n",
       "       'advert_industry_inner', 'campaign_id', 'creative_id',\n",
       "       'creative_tp_dnf', 'app_cate_id', 'f_channel', 'app_id',\n",
       "       'inner_slot_id', 'creative_type', 'creative_width', 'creative_height',\n",
       "       'creative_is_jump', 'creative_is_download', 'creative_has_deeplink',\n",
       "       'advert_name', 'day', 'hour', 'hour_part', 'new_make', 'new_model',\n",
       "       'advert_industry_inner1', 'advert_industry_inner2', 'inner_slot_id1',\n",
       "       'osv1', 'osv2', 'osv3', 'os_name1', 'user_id'],\n",
       "      dtype='object')"
      ]
     },
     "execution_count": 7,
     "metadata": {},
     "output_type": "execute_result"
    }
   ],
   "source": [
    "train.columns"
   ]
  },
  {
   "cell_type": "code",
   "execution_count": 12,
   "metadata": {},
   "outputs": [],
   "source": [
    "import xgboost as xgb\n",
    "from sklearn.model_selection import GridSearchCV\n",
    "from sklearn.ensemble import RandomForestClassifier\n",
    "from sklearn.svm import SVC\n",
    "from sklearn.model_selection import KFold\n",
    "from sklearn.model_selection import cross_val_score\n",
    "from sklearn.tree import DecisionTreeClassifier\n",
    "from sklearn.metrics import log_loss  # 模型评判指标\n",
    "import sklearn\n",
    "import joblib\n",
    "import lightgbm as lgb\n",
    "from time import time\n",
    "import datetime"
   ]
  },
  {
   "cell_type": "code",
   "execution_count": 201,
   "metadata": {},
   "outputs": [
    {
     "data": {
      "text/plain": [
       "dict_keys(['explained_variance', 'r2', 'max_error', 'neg_median_absolute_error', 'neg_mean_absolute_error', 'neg_mean_squared_error', 'neg_mean_squared_log_error', 'neg_root_mean_squared_error', 'neg_mean_poisson_deviance', 'neg_mean_gamma_deviance', 'accuracy', 'roc_auc', 'roc_auc_ovr', 'roc_auc_ovo', 'roc_auc_ovr_weighted', 'roc_auc_ovo_weighted', 'balanced_accuracy', 'average_precision', 'neg_log_loss', 'neg_brier_score', 'adjusted_rand_score', 'homogeneity_score', 'completeness_score', 'v_measure_score', 'mutual_info_score', 'adjusted_mutual_info_score', 'normalized_mutual_info_score', 'fowlkes_mallows_score', 'precision', 'precision_macro', 'precision_micro', 'precision_samples', 'precision_weighted', 'recall', 'recall_macro', 'recall_micro', 'recall_samples', 'recall_weighted', 'f1', 'f1_macro', 'f1_micro', 'f1_samples', 'f1_weighted', 'jaccard', 'jaccard_macro', 'jaccard_micro', 'jaccard_samples', 'jaccard_weighted'])"
      ]
     },
     "execution_count": 201,
     "metadata": {},
     "output_type": "execute_result"
    }
   ],
   "source": [
    "sklearn.metrics.SCORERS.keys()"
   ]
  },
  {
   "cell_type": "markdown",
   "metadata": {},
   "source": [
    "### 定义交叉验证指标"
   ]
  },
  {
   "cell_type": "code",
   "execution_count": 203,
   "metadata": {},
   "outputs": [],
   "source": [
    "# sklearn.metrics.SCORERS.keys()\n",
    "\n",
    "def log_loss1(model, x, y):\n",
    "    \"\"\"定义指标\"\"\"\n",
    "    \n",
    "    log_loss = -cross_val_score(model, x, y\n",
    "                               , scoring=\"neg_log_loss\"\n",
    "                               , cv=5\n",
    "                              )\n",
    "    return log_loss"
   ]
  },
  {
   "cell_type": "markdown",
   "metadata": {},
   "source": [
    "### 网格搜索"
   ]
  },
  {
   "cell_type": "code",
   "execution_count": 204,
   "metadata": {},
   "outputs": [],
   "source": [
    "class GridSearch:\n",
    "    \"\"\"回归模型网格搜索\"\"\"\n",
    "    \n",
    "    def __init__(self, model):\n",
    "        self.model = model\n",
    "    \n",
    "    def grid_get(self, X, y, param_grid):\n",
    "        \"\"\"参数搜索\"\"\"\n",
    "        grid_search = GridSearchCV(self.model\n",
    "                                   , param_grid =param_grid, scoring=\"neg_log_loss\"\n",
    "                                   ,cv=5\n",
    "                                  )\n",
    "        grid_search.fit(X, y)\n",
    "        print(grid_search.best_params_, (-grid_search.best_score_))\n",
    "        print(pd.DataFrame(grid_search.cv_results_)[[\"params\", \"mean_test_score\", \"std_test_score\"]])"
   ]
  },
  {
   "cell_type": "markdown",
   "metadata": {},
   "source": [
    "### 模型选择与调参 "
   ]
  },
  {
   "cell_type": "markdown",
   "metadata": {},
   "source": [
    "#### XGBoost模型"
   ]
  },
  {
   "cell_type": "code",
   "execution_count": 13,
   "metadata": {},
   "outputs": [],
   "source": [
    "y = train_y.values.flatten()\n",
    "train_df = train.copy()\n",
    "test_df = test.copy()"
   ]
  },
  {
   "cell_type": "code",
   "execution_count": 14,
   "metadata": {},
   "outputs": [],
   "source": [
    "# 删除数据进行尝试\n",
    "for col in [\"user_tags\", \"osv1\", \"osv2\", \"osv3\"]:\n",
    "    train_df = train_df.drop(col, axis=1)\n",
    "    test_df = test_df.drop(col, axis=1)"
   ]
  },
  {
   "cell_type": "code",
   "execution_count": 209,
   "metadata": {},
   "outputs": [],
   "source": [
    "# # param\n",
    "# xgb_model = xgb.XGBClassifier(verbosity = 0)\n",
    "# param_gird = {}\n",
    "# t0 = time()\n",
    "# GridSearch(xgb_model).grid_get(train_df, y, param_gird)\n",
    "# print(\"处理时间：\",datetime.datetime.fromtimestamp(time()-t0).strftime(\"%M:%S:%f\"))"
   ]
  },
  {
   "cell_type": "code",
   "execution_count": 19,
   "metadata": {},
   "outputs": [],
   "source": [
    "# xgb_model.fit(train_df, y)"
   ]
  },
  {
   "cell_type": "code",
   "execution_count": 20,
   "metadata": {},
   "outputs": [],
   "source": [
    "# xgb_model.score(train_df, train_y)"
   ]
  },
  {
   "cell_type": "code",
   "execution_count": 18,
   "metadata": {},
   "outputs": [],
   "source": [
    "# ## 网格搜索参数\n",
    "# num_round = np.arange(300, 500, 100)\n",
    "# val = []\n",
    "# for i in num_round:\n",
    "#     xgb_model = xgb.XGBClassifier(n_estimators=i)\n",
    "#     val.append(cross_val_score(xgb_model\n",
    "#                                , train_df\n",
    "#                                , y\n",
    "#                                , cv=5\n",
    "#                                , scoring=\"neg_log_loss\"\n",
    "#                               ).mean())\n",
    "    \n",
    "# plt.plot(num_round, val)\n",
    "# plt.show()"
   ]
  },
  {
   "cell_type": "markdown",
   "metadata": {},
   "source": [
    "#### LightGBM\n",
    "0. 确定任务类型(回归、分类、排序等)，以及基学习器的类型(dark, gbdt、RF)  \n",
    "1. 首先选择较高的学习率，大概0.1附近，这样是为了加快收敛的速度。这对于调参是很有必要的。\n",
    "2. 对决策树基本参数调参\n",
    "3. 正则化参数调参\n",
    "4. 最后降低学习率，这里是为了最后提高准确率"
   ]
  },
  {
   "cell_type": "code",
   "execution_count": 15,
   "metadata": {},
   "outputs": [],
   "source": [
    "data_train = lgb.Dataset(train_df, y)"
   ]
  },
  {
   "cell_type": "markdown",
   "metadata": {},
   "source": [
    "#### 初始化状态(未调参)"
   ]
  },
  {
   "cell_type": "code",
   "execution_count": 42,
   "metadata": {},
   "outputs": [],
   "source": [
    "# 参数设定为默认状态\n",
    "\n",
    "params1 = {\n",
    "      \"boosting_type\": \"gbdt\"\n",
    "    , \"objective\": \"binary\" # 二分类任务\n",
    "    , \"metric\": {\"binary_logloss\", \"auc\"}\n",
    "    \n",
    "    , \"nthread\": 4\n",
    "    , \"device\": \"gpu\"\n",
    "    , \"gpu_device_id\": 1\n",
    "    , \"verbose\": 1\n",
    "\n",
    "    , \"learning_rate\": 0.1\n",
    "    \n",
    "    , \"max_depth\": 5\n",
    "    , \"num_leaves\": 31  # 由于lightGBM是leaves_wise生长，官方说法是要小于2^max_depth\n",
    "    , \"subsample\": 1.0  # 数据采样\n",
    "    , \"colsample_bytree\": 1.0  # 特征采样\n",
    "    \n",
    "    , 'reg_alpha': 0.0  # L1\n",
    "    , 'reg_lambda': 0.0  # L2\n",
    "}"
   ]
  },
  {
   "cell_type": "code",
   "execution_count": 43,
   "metadata": {},
   "outputs": [
    {
     "name": "stdout",
     "output_type": "stream",
     "text": [
      "参数处理时间： 01:06:799278\n"
     ]
    }
   ],
   "source": [
    "t0 = time()\n",
    "cv_result1 = lgb.cv(params=params1, train_set=data_train\n",
    "       , nfold=5\n",
    "       , stratified=True\n",
    "       , shuffle=True\n",
    "#        , metrics=\"binary_logloss\"\n",
    "       , seed=0\n",
    "      )\n",
    "print(\"参数处理时间：\",datetime.datetime.fromtimestamp(time()-t0).strftime(\"%M:%S:%f\"))"
   ]
  },
  {
   "cell_type": "markdown",
   "metadata": {},
   "source": [
    "#### 调整好的参数状态"
   ]
  },
  {
   "cell_type": "code",
   "execution_count": 216,
   "metadata": {},
   "outputs": [],
   "source": [
    "num_boost_round = 3000\n",
    "params2 = {\n",
    "      \"boosting_type\": \"gbdt\"\n",
    "    , \"objective\": \"binary\" # 二分类任务\n",
    "    , \"metric\": {\"binary_logloss\", \"auc\"}\n",
    "    \n",
    "    , \"nthread\": 4\n",
    "    , \"device\": \"gpu\"\n",
    "    , \"gpu_device_id\": 1\n",
    "    , \"verbose\": 1\n",
    "\n",
    "    , \"learning_rate\": 0.01\n",
    "    \n",
    "    , \"max_depth\": 6\n",
    "    , \"num_leaves\": 41  # 由于lightGBM是leaves_wise生长，官方说法是要小于2^max_depth\n",
    "    , \"subsample\": 0.8  # 数据采样\n",
    "    , \"colsample_bytree\": 0.8  # 特征采样\n",
    "    \n",
    "    , 'reg_alpha': 0.0  # L1\n",
    "    , 'reg_lambda': 0.0  # L2\n",
    "}"
   ]
  },
  {
   "cell_type": "code",
   "execution_count": 36,
   "metadata": {},
   "outputs": [
    {
     "name": "stdout",
     "output_type": "stream",
     "text": [
      "参数处理时间： 28:52:279001\n"
     ]
    }
   ],
   "source": [
    "t0 = time()\n",
    "cv_result2 = lgb.cv(params=params2, train_set=data_train\n",
    "       , num_boost_round=num_boost_round\n",
    "       , nfold=5\n",
    "       , stratified=True\n",
    "       , shuffle=True\n",
    "#        , metrics=\"binary_logloss\"\n",
    "#        , early_stopping_rounds=50\n",
    "       , seed=0\n",
    "      )\n",
    "print(\"参数处理时间：\",datetime.datetime.fromtimestamp(time()-t0).strftime(\"%M:%S:%f\"))"
   ]
  },
  {
   "cell_type": "code",
   "execution_count": 37,
   "metadata": {},
   "outputs": [
    {
     "name": "stdout",
     "output_type": "stream",
     "text": [
      "Best_n_estimators: 3000\n",
      "Best_cv_score: 0.4166\n"
     ]
    }
   ],
   "source": [
    "#  选择最佳的estimators\n",
    "print(\"Best_n_estimators: %d\\nBest_cv_score: %.4f\" \n",
    "      % (np.array(list(cv_result2.values())).shape[1],\n",
    "         min(np.array(list(cv_result2.values()))[0]))\n",
    "     )  "
   ]
  },
  {
   "cell_type": "markdown",
   "metadata": {},
   "source": [
    "#### 调参数状态"
   ]
  },
  {
   "cell_type": "code",
   "execution_count": 38,
   "metadata": {},
   "outputs": [],
   "source": [
    "params3 = {\n",
    "      \"boosting_type\": \"gbdt\"\n",
    "    , \"objective\": \"binary\" # 二分类任务\n",
    "    , \"metric\": {\"binary_logloss\", \"auc\"}\n",
    "    \n",
    "    , \"nthread\": 4\n",
    "    , \"device\": \"gpu\"\n",
    "    , \"gpu_device_id\": 1\n",
    "    , \"verbose\": 1\n",
    "\n",
    "    , \"learning_rate\": 0.01\n",
    "    \n",
    "    , \"max_depth\": 6\n",
    "    , \"num_leaves\": 31  # 由于lightGBM是leaves_wise生长，官方说法是要小于2^max_depth\n",
    "    , \"subsample\": 0.8  # 数据采样\n",
    "    , \"colsample_bytree\": 0.8  # 特征采样\n",
    "    \n",
    "    , 'reg_alpha': 0.0  # L1\n",
    "    , 'reg_lambda': 0.0  # L2\n",
    "}"
   ]
  },
  {
   "cell_type": "code",
   "execution_count": 39,
   "metadata": {},
   "outputs": [
    {
     "name": "stdout",
     "output_type": "stream",
     "text": [
      "处理时间： 27:40:536119\n"
     ]
    }
   ],
   "source": [
    "t0 = time()\n",
    "cv_result3 = lgb.cv(params=params3, train_set=data_train\n",
    "       , num_boost_round=3000\n",
    "       , nfold=5\n",
    "       , stratified=True\n",
    "       , shuffle=True\n",
    "#        , metrics=\"binary_logloss\"\n",
    "#        , early_stopping_rounds=50\n",
    "       , seed=0\n",
    "      )\n",
    "print(\"处理时间：\",datetime.datetime.fromtimestamp(time()-t0).strftime(\"%M:%S:%f\"))"
   ]
  },
  {
   "cell_type": "markdown",
   "metadata": {},
   "source": [
    "#### 可视化指标"
   ]
  },
  {
   "cell_type": "markdown",
   "metadata": {},
   "source": [
    "#### 1. logloss指标"
   ]
  },
  {
   "cell_type": "code",
   "execution_count": 44,
   "metadata": {},
   "outputs": [
    {
     "data": {
      "image/png": "[encoded data removed]",
      "text/plain": [
       "<Figure size 1008x360 with 2 Axes>"
      ]
     },
     "metadata": {
      "needs_background": "light"
     },
     "output_type": "display_data"
    }
   ],
   "source": [
    "fig, ax = plt.subplots(1, 2, figsize = (14,5))\n",
    "\n",
    "length1 = np.array(list(cv_result1.values())).shape[1]\n",
    "length2 = np.array(list(cv_result2.values())).shape[1]\n",
    "length3 = np.array(list(cv_result3.values())).shape[1]\n",
    "\n",
    "ax[0].plot(range(length1), cv_result1[list(cv_result1.keys())[0]], label=\"param1\", c=\"red\")\n",
    "ax[1].plot(range(length1), cv_result1[list(cv_result1.keys())[1]], label=\"param1\", c=\"green\")\n",
    "\n",
    "ax[0].plot(range(length2), cv_result2[list(cv_result2.keys())[0]], label=\"param2\", c=\"magenta\")\n",
    "ax[1].plot(range(length2), cv_result2[list(cv_result2.keys())[1]], label=\"param2\", c=\"blue\")\n",
    "\n",
    "ax[0].plot(range(length3), cv_result3[list(cv_result3.keys())[0]], label=\"param3\", c=\"yellow\")\n",
    "ax[1].plot(range(length3), cv_result3[list(cv_result3.keys())[1]], label=\"param3\", c=\"c\")\n",
    "\n",
    "ax[0].set_xlabel(\"num_round\", fontsize=12)\n",
    "ax[1].set_xlabel(\"num_round\", fontsize=12)\n",
    "ax[0].set_ylabel(list(cv_result1.keys())[0], fontsize=12)\n",
    "ax[1].set_ylabel(list(cv_result1.keys())[1], fontsize=12)\n",
    "ax[0].set_ylim((0.37, 0.5))\n",
    "ax[0].legend()\n",
    "ax[1].legend()\n",
    "plt.show()"
   ]
  },
  {
   "cell_type": "markdown",
   "metadata": {},
   "source": [
    "#### 2. AUC指标"
   ]
  },
  {
   "cell_type": "code",
   "execution_count": 47,
   "metadata": {},
   "outputs": [
    {
     "data": {
      "image/png": "[encoded data removed]",
      "text/plain": [
       "<Figure size 1008x360 with 2 Axes>"
      ]
     },
     "metadata": {
      "needs_background": "light"
     },
     "output_type": "display_data"
    }
   ],
   "source": [
    "fig, ax = plt.subplots(1, 2, figsize = (14,5))\n",
    "\n",
    "length1 = np.array(list(cv_result1.values())).shape[1]\n",
    "length2 = np.array(list(cv_result2.values())).shape[1]\n",
    "length3 = np.array(list(cv_result3.values())).shape[1]\n",
    "\n",
    "ax[0].plot(range(length1), cv_result1[list(cv_result1.keys())[2]], label=\"param1\", c=\"red\")\n",
    "ax[1].plot(range(length1), cv_result1[list(cv_result1.keys())[3]], label=\"param1\", c=\"green\")\n",
    "\n",
    "ax[0].plot(range(length2), cv_result2[list(cv_result2.keys())[2]], label=\"param2\", c=\"magenta\")\n",
    "ax[1].plot(range(length2), cv_result2[list(cv_result2.keys())[3]], label=\"param2\", c=\"blue\")\n",
    "\n",
    "ax[0].plot(range(length3), cv_result3[list(cv_result3.keys())[2]], label=\"param3\", c=\"yellow\")\n",
    "ax[1].plot(range(length3), cv_result3[list(cv_result3.keys())[3]], label=\"param3\", c=\"c\")\n",
    "\n",
    "ax[0].set_xlabel(\"num_round\", fontsize=12)\n",
    "ax[1].set_xlabel(\"num_round\", fontsize=12)\n",
    "ax[0].set_ylabel(list(cv_result1.keys())[2], fontsize=12)\n",
    "ax[1].set_ylabel(list(cv_result1.keys())[3], fontsize=12)\n",
    "ax[0].set_ylim((0.74, 0.78))\n",
    "ax[0].legend()\n",
    "ax[1].legend()\n",
    "plt.show()"
   ]
  },
  {
   "cell_type": "markdown",
   "metadata": {},
   "source": [
    "#### 网格搜索参数"
   ]
  },
  {
   "cell_type": "code",
   "execution_count": 16,
   "metadata": {},
   "outputs": [],
   "source": [
    "param_grid = {\n",
    "#      \"num_leaves\": np.arange(31, 82, 7)\n",
    "#     , \"max_depth\": np.arange(4, 9, 1)\n",
    "#     , \"learning_rate\": [0.1, 0.01, 0.001]\n",
    "    \"n_estimators\": np.arange(4000, 20000, 2000)\n",
    "#     , \"subsample\":[0.8, 0.9, 1.0]\n",
    "#     , \"colsample_bytree\":[0.8, 0.9, 1.0]\n",
    "}"
   ]
  },
  {
   "cell_type": "code",
   "execution_count": 31,
   "metadata": {
    "slideshow": {
     "slide_type": "slide"
    }
   },
   "outputs": [
    {
     "name": "stdout",
     "output_type": "stream",
     "text": [
      "{'n_estimators': 8000} 0.41610264584572487\n",
      "                    params  mean_test_score  std_test_score\n",
      "0   {'n_estimators': 4000}        -0.416440        0.000697\n",
      "1   {'n_estimators': 6000}        -0.416204        0.000707\n",
      "2   {'n_estimators': 8000}        -0.416103        0.000734\n",
      "3  {'n_estimators': 10000}        -0.416170        0.000841\n",
      "4  {'n_estimators': 12000}        -0.416320        0.001018\n",
      "5  {'n_estimators': 14000}        -0.416394        0.001115\n",
      "6  {'n_estimators': 16000}        -0.416516        0.001140\n",
      "7  {'n_estimators': 18000}        -0.416641        0.001286\n",
      "处理时间： 48:18:072338\n"
     ]
    }
   ],
   "source": [
    "t0 = time()\n",
    "LGBC = lgb.LGBMClassifier(boosting_type=\"gbdt\"\n",
    "                          , device=\"gpu\"\n",
    "                          , learning_rate=0.01\n",
    "                          , max_depth=6\n",
    "                          , subsample=0.8\n",
    "                          , num_leaves=41\n",
    "                          , colsample_bytree=0.8\n",
    "                          , n_estimators=2000\n",
    "                          , metric=\"binary_logloss\"\n",
    "                          , random_state=0\n",
    "                          , silent=False\n",
    "                         )\n",
    "GridSearch(LGBC).grid_get(X=train_df,y=y, param_grid=param_grid)\n",
    "print(\"处理时间：\",datetime.datetime.fromtimestamp(time()-t0).strftime(\"%M:%S:%f\"))"
   ]
  },
  {
   "cell_type": "markdown",
   "metadata": {},
   "source": [
    "#### 最终预测结果"
   ]
  },
  {
   "cell_type": "code",
   "execution_count": 220,
   "metadata": {},
   "outputs": [
    {
     "name": "stdout",
     "output_type": "stream",
     "text": [
      "处理时间： 08:23:193281\n"
     ]
    }
   ],
   "source": [
    "#  最终预测\n",
    "t0 = time()\n",
    "lgb_c = lgb.train(params=params2, train_set=data_train\n",
    "       , num_boost_round=8000\n",
    "#        , nfold=5\n",
    "#        , stratified=True\n",
    "#        , shuffle=True\n",
    "                  \n",
    "#        , metrics=\"binary_logloss\"\n",
    "#        , early_stopping_rounds=50\n",
    "#        , seed=0\n",
    "      )\n",
    "print(\"处理时间：\",datetime.datetime.fromtimestamp(time()-t0).strftime(\"%M:%S:%f\"))"
   ]
  },
  {
   "cell_type": "code",
   "execution_count": 223,
   "metadata": {},
   "outputs": [
    {
     "data": {
      "text/plain": [
       "['data/model_lgb.pkl']"
      ]
     },
     "execution_count": 223,
     "metadata": {},
     "output_type": "execute_result"
    }
   ],
   "source": [
    "#  保存模型\n",
    "joblib.dump(lgb_c, \"data/model_lgb.pkl\")"
   ]
  },
  {
   "cell_type": "code",
   "execution_count": 224,
   "metadata": {},
   "outputs": [],
   "source": [
    "result = lgb_c.predict(test_df)"
   ]
  },
  {
   "cell_type": "code",
   "execution_count": 225,
   "metadata": {},
   "outputs": [],
   "source": [
    "df = pd.DataFrame(data={\"instance_id\":res.values, \"predicted_score\":result})\n",
    "df.to_csv(\"./data/submission.csv\", index=False)"
   ]
  },
  {
   "cell_type": "code",
   "execution_count": 226,
   "metadata": {},
   "outputs": [
    {
     "data": {
      "text/html": [
       "<div>\n",
       "<style scoped>\n",
       "    .dataframe tbody tr th:only-of-type {\n",
       "        vertical-align: middle;\n",
       "    }\n",
       "\n",
       "    .dataframe tbody tr th {\n",
       "        vertical-align: top;\n",
       "    }\n",
       "\n",
       "    .dataframe thead th {\n",
       "        text-align: right;\n",
       "    }\n",
       "</style>\n",
       "<table border=\"1\" class=\"dataframe\">\n",
       "  <thead>\n",
       "    <tr style=\"text-align: right;\">\n",
       "      <th></th>\n",
       "      <th>instance_id</th>\n",
       "      <th>predicted_score</th>\n",
       "    </tr>\n",
       "  </thead>\n",
       "  <tbody>\n",
       "    <tr>\n",
       "      <th>0</th>\n",
       "      <td>1009009142796670741</td>\n",
       "      <td>0.223051</td>\n",
       "    </tr>\n",
       "    <tr>\n",
       "      <th>1</th>\n",
       "      <td>8642631927498444908</td>\n",
       "      <td>0.203957</td>\n",
       "    </tr>\n",
       "    <tr>\n",
       "      <th>2</th>\n",
       "      <td>3653599391026039809</td>\n",
       "      <td>0.319694</td>\n",
       "    </tr>\n",
       "    <tr>\n",
       "      <th>3</th>\n",
       "      <td>2085762395056613521</td>\n",
       "      <td>0.214995</td>\n",
       "    </tr>\n",
       "    <tr>\n",
       "      <th>4</th>\n",
       "      <td>1229975129921178533</td>\n",
       "      <td>0.058041</td>\n",
       "    </tr>\n",
       "    <tr>\n",
       "      <th>...</th>\n",
       "      <td>...</td>\n",
       "      <td>...</td>\n",
       "    </tr>\n",
       "    <tr>\n",
       "      <th>80271</th>\n",
       "      <td>1554998588425867381</td>\n",
       "      <td>0.290979</td>\n",
       "    </tr>\n",
       "    <tr>\n",
       "      <th>80272</th>\n",
       "      <td>1794440027131895885</td>\n",
       "      <td>0.264205</td>\n",
       "    </tr>\n",
       "    <tr>\n",
       "      <th>80273</th>\n",
       "      <td>6389060012901553428</td>\n",
       "      <td>0.149469</td>\n",
       "    </tr>\n",
       "    <tr>\n",
       "      <th>80274</th>\n",
       "      <td>6172278880197688444</td>\n",
       "      <td>0.002667</td>\n",
       "    </tr>\n",
       "    <tr>\n",
       "      <th>80275</th>\n",
       "      <td>2678491326710555098</td>\n",
       "      <td>0.013162</td>\n",
       "    </tr>\n",
       "  </tbody>\n",
       "</table>\n",
       "<p>80276 rows × 2 columns</p>\n",
       "</div>"
      ],
      "text/plain": [
       "               instance_id  predicted_score\n",
       "0      1009009142796670741         0.223051\n",
       "1      8642631927498444908         0.203957\n",
       "2      3653599391026039809         0.319694\n",
       "3      2085762395056613521         0.214995\n",
       "4      1229975129921178533         0.058041\n",
       "...                    ...              ...\n",
       "80271  1554998588425867381         0.290979\n",
       "80272  1794440027131895885         0.264205\n",
       "80273  6389060012901553428         0.149469\n",
       "80274  6172278880197688444         0.002667\n",
       "80275  2678491326710555098         0.013162\n",
       "\n",
       "[80276 rows x 2 columns]"
      ]
     },
     "execution_count": 226,
     "metadata": {},
     "output_type": "execute_result"
    }
   ],
   "source": [
    "pd.read_csv(\"./data/submission.csv\")"
   ]
  },
  {
   "cell_type": "markdown",
   "metadata": {},
   "source": [
    "## 探索性分析"
   ]
  },
  {
   "cell_type": "markdown",
   "metadata": {},
   "source": [
    "### 特征重要性"
   ]
  },
  {
   "cell_type": "code",
   "execution_count": 17,
   "metadata": {},
   "outputs": [],
   "source": [
    "lgbc = joblib.load(\"data/model_lgb.pkl\")"
   ]
  },
  {
   "cell_type": "code",
   "execution_count": 18,
   "metadata": {},
   "outputs": [
    {
     "data": {
      "text/plain": [
       "array([0.22305082, 0.20395655, 0.31969421, ..., 0.14946937, 0.00266705,\n",
       "       0.0131616 ])"
      ]
     },
     "execution_count": 18,
     "metadata": {},
     "output_type": "execute_result"
    }
   ],
   "source": [
    "lgbc.predict(test_df)"
   ]
  },
  {
   "cell_type": "code",
   "execution_count": 77,
   "metadata": {},
   "outputs": [
    {
     "data": {
      "image/png": "[encoded data removed]",
      "text/plain": [
       "<Figure size 1008x576 with 1 Axes>"
      ]
     },
     "metadata": {
      "needs_background": "light"
     },
     "output_type": "display_data"
    }
   ],
   "source": [
    "feature_importance = [*zip(lgbc.feature_name(),lgbc.feature_importance())]\n",
    "df = pd.DataFrame(feature_impoetance, columns=[\"feature\", \"importance socre\"])\n",
    "df.plot(kind=\"bar\",figsize = (14, 8))\n",
    "plt.plot(np.arange(0, 38), [13000]*38, c=\"r\", linestyle=\"--\", label = \"base_line\")\n",
    "plt.xticks(np.arange(0, 38), df.feature.tolist(),fontsize=12)\n",
    "plt.legend()\n",
    "plt.show()"
   ]
  },
  {
   "cell_type": "markdown",
   "metadata": {},
   "source": [
    "## 参考\n",
    "[pandas之 read_table函数读取txt文件](https://blog.csdn.net/u014453898/article/details/86601224)"
   ]
  },
  {
   "cell_type": "markdown",
   "metadata": {},
   "source": [
    "## 知识点"
   ]
  },
  {
   "cell_type": "markdown",
   "metadata": {},
   "source": [
    "### 字符replace函数"
   ]
  },
  {
   "cell_type": "code",
   "execution_count": 38,
   "metadata": {},
   "outputs": [],
   "source": [
    "a = \"dsadasdsad\""
   ]
  },
  {
   "cell_type": "code",
   "execution_count": 39,
   "metadata": {},
   "outputs": [
    {
     "data": {
      "text/plain": [
       "'ds d sds d'"
      ]
     },
     "execution_count": 39,
     "metadata": {},
     "output_type": "execute_result"
    }
   ],
   "source": [
    "a.replace(\"a\", \" \")"
   ]
  },
  {
   "cell_type": "code",
   "execution_count": 40,
   "metadata": {},
   "outputs": [
    {
     "data": {
      "text/plain": [
       "'dsdsdsd'"
      ]
     },
     "execution_count": 40,
     "metadata": {},
     "output_type": "execute_result"
    }
   ],
   "source": [
    "a.replace(\"a\", \"\")"
   ]
  },
  {
   "cell_type": "code",
   "execution_count": null,
   "metadata": {},
   "outputs": [],
   "source": []
  }
 ],
 "metadata": {
  "kernelspec": {
   "display_name": "Python 3",
   "language": "python",
   "name": "python3"
  },
  "language_info": {
   "codemirror_mode": {
    "name": "ipython",
    "version": 3
   },
   "file_extension": ".py",
   "mimetype": "text/x-python",
   "name": "python",
   "nbconvert_exporter": "python",
   "pygments_lexer": "ipython3",
   "version": "3.6.9"
  },
  "toc-autonumbering": true,
  "toc-showcode": false,
  "toc-showmarkdowntxt": false,
  "toc-showtags": false
 },
 "nbformat": 4,
 "nbformat_minor": 4
}
