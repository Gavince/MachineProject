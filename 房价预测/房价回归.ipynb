{
 "cells": [
  {
   "cell_type": "code",
   "execution_count": 2,
   "metadata": {},
   "outputs": [],
   "source": [
    "import numpy as np\n",
    "import pandas as pd \n",
    "import matplotlib.pyplot as plt\n",
    "import seaborn as sns\n",
    "from scipy import stats\n",
    "from scipy.stats import norm, skew\n",
    "import joblib\n",
    "%matplotlib inline"
   ]
  },
  {
   "cell_type": "markdown",
   "metadata": {},
   "source": [
    "## 0. EDA"
   ]
  },
  {
   "cell_type": "code",
   "execution_count": 2,
   "metadata": {},
   "outputs": [],
   "source": [
    "train = pd.read_csv(\"data/train.csv\")\n",
    "test = pd.read_csv(\"data/test.csv\")"
   ]
  },
  {
   "cell_type": "code",
   "execution_count": 3,
   "metadata": {},
   "outputs": [
    {
     "data": {
      "text/html": [
       "<div>\n",
       "<style scoped>\n",
       "    .dataframe tbody tr th:only-of-type {\n",
       "        vertical-align: middle;\n",
       "    }\n",
       "\n",
       "    .dataframe tbody tr th {\n",
       "        vertical-align: top;\n",
       "    }\n",
       "\n",
       "    .dataframe thead th {\n",
       "        text-align: right;\n",
       "    }\n",
       "</style>\n",
       "<table border=\"1\" class=\"dataframe\">\n",
       "  <thead>\n",
       "    <tr style=\"text-align: right;\">\n",
       "      <th></th>\n",
       "      <th>Id</th>\n",
       "      <th>MSSubClass</th>\n",
       "      <th>MSZoning</th>\n",
       "      <th>LotFrontage</th>\n",
       "      <th>LotArea</th>\n",
       "      <th>Street</th>\n",
       "      <th>Alley</th>\n",
       "      <th>LotShape</th>\n",
       "      <th>LandContour</th>\n",
       "      <th>Utilities</th>\n",
       "      <th>...</th>\n",
       "      <th>PoolArea</th>\n",
       "      <th>PoolQC</th>\n",
       "      <th>Fence</th>\n",
       "      <th>MiscFeature</th>\n",
       "      <th>MiscVal</th>\n",
       "      <th>MoSold</th>\n",
       "      <th>YrSold</th>\n",
       "      <th>SaleType</th>\n",
       "      <th>SaleCondition</th>\n",
       "      <th>SalePrice</th>\n",
       "    </tr>\n",
       "  </thead>\n",
       "  <tbody>\n",
       "    <tr>\n",
       "      <th>0</th>\n",
       "      <td>1</td>\n",
       "      <td>60</td>\n",
       "      <td>RL</td>\n",
       "      <td>65.0</td>\n",
       "      <td>8450</td>\n",
       "      <td>Pave</td>\n",
       "      <td>NaN</td>\n",
       "      <td>Reg</td>\n",
       "      <td>Lvl</td>\n",
       "      <td>AllPub</td>\n",
       "      <td>...</td>\n",
       "      <td>0</td>\n",
       "      <td>NaN</td>\n",
       "      <td>NaN</td>\n",
       "      <td>NaN</td>\n",
       "      <td>0</td>\n",
       "      <td>2</td>\n",
       "      <td>2008</td>\n",
       "      <td>WD</td>\n",
       "      <td>Normal</td>\n",
       "      <td>208500</td>\n",
       "    </tr>\n",
       "    <tr>\n",
       "      <th>1</th>\n",
       "      <td>2</td>\n",
       "      <td>20</td>\n",
       "      <td>RL</td>\n",
       "      <td>80.0</td>\n",
       "      <td>9600</td>\n",
       "      <td>Pave</td>\n",
       "      <td>NaN</td>\n",
       "      <td>Reg</td>\n",
       "      <td>Lvl</td>\n",
       "      <td>AllPub</td>\n",
       "      <td>...</td>\n",
       "      <td>0</td>\n",
       "      <td>NaN</td>\n",
       "      <td>NaN</td>\n",
       "      <td>NaN</td>\n",
       "      <td>0</td>\n",
       "      <td>5</td>\n",
       "      <td>2007</td>\n",
       "      <td>WD</td>\n",
       "      <td>Normal</td>\n",
       "      <td>181500</td>\n",
       "    </tr>\n",
       "    <tr>\n",
       "      <th>2</th>\n",
       "      <td>3</td>\n",
       "      <td>60</td>\n",
       "      <td>RL</td>\n",
       "      <td>68.0</td>\n",
       "      <td>11250</td>\n",
       "      <td>Pave</td>\n",
       "      <td>NaN</td>\n",
       "      <td>IR1</td>\n",
       "      <td>Lvl</td>\n",
       "      <td>AllPub</td>\n",
       "      <td>...</td>\n",
       "      <td>0</td>\n",
       "      <td>NaN</td>\n",
       "      <td>NaN</td>\n",
       "      <td>NaN</td>\n",
       "      <td>0</td>\n",
       "      <td>9</td>\n",
       "      <td>2008</td>\n",
       "      <td>WD</td>\n",
       "      <td>Normal</td>\n",
       "      <td>223500</td>\n",
       "    </tr>\n",
       "    <tr>\n",
       "      <th>3</th>\n",
       "      <td>4</td>\n",
       "      <td>70</td>\n",
       "      <td>RL</td>\n",
       "      <td>60.0</td>\n",
       "      <td>9550</td>\n",
       "      <td>Pave</td>\n",
       "      <td>NaN</td>\n",
       "      <td>IR1</td>\n",
       "      <td>Lvl</td>\n",
       "      <td>AllPub</td>\n",
       "      <td>...</td>\n",
       "      <td>0</td>\n",
       "      <td>NaN</td>\n",
       "      <td>NaN</td>\n",
       "      <td>NaN</td>\n",
       "      <td>0</td>\n",
       "      <td>2</td>\n",
       "      <td>2006</td>\n",
       "      <td>WD</td>\n",
       "      <td>Abnorml</td>\n",
       "      <td>140000</td>\n",
       "    </tr>\n",
       "    <tr>\n",
       "      <th>4</th>\n",
       "      <td>5</td>\n",
       "      <td>60</td>\n",
       "      <td>RL</td>\n",
       "      <td>84.0</td>\n",
       "      <td>14260</td>\n",
       "      <td>Pave</td>\n",
       "      <td>NaN</td>\n",
       "      <td>IR1</td>\n",
       "      <td>Lvl</td>\n",
       "      <td>AllPub</td>\n",
       "      <td>...</td>\n",
       "      <td>0</td>\n",
       "      <td>NaN</td>\n",
       "      <td>NaN</td>\n",
       "      <td>NaN</td>\n",
       "      <td>0</td>\n",
       "      <td>12</td>\n",
       "      <td>2008</td>\n",
       "      <td>WD</td>\n",
       "      <td>Normal</td>\n",
       "      <td>250000</td>\n",
       "    </tr>\n",
       "  </tbody>\n",
       "</table>\n",
       "<p>5 rows × 81 columns</p>\n",
       "</div>"
      ],
      "text/plain": [
       "   Id  MSSubClass MSZoning  LotFrontage  LotArea Street Alley LotShape  \\\n",
       "0   1          60       RL         65.0     8450   Pave   NaN      Reg   \n",
       "1   2          20       RL         80.0     9600   Pave   NaN      Reg   \n",
       "2   3          60       RL         68.0    11250   Pave   NaN      IR1   \n",
       "3   4          70       RL         60.0     9550   Pave   NaN      IR1   \n",
       "4   5          60       RL         84.0    14260   Pave   NaN      IR1   \n",
       "\n",
       "  LandContour Utilities  ... PoolArea PoolQC Fence MiscFeature MiscVal MoSold  \\\n",
       "0         Lvl    AllPub  ...        0    NaN   NaN         NaN       0      2   \n",
       "1         Lvl    AllPub  ...        0    NaN   NaN         NaN       0      5   \n",
       "2         Lvl    AllPub  ...        0    NaN   NaN         NaN       0      9   \n",
       "3         Lvl    AllPub  ...        0    NaN   NaN         NaN       0      2   \n",
       "4         Lvl    AllPub  ...        0    NaN   NaN         NaN       0     12   \n",
       "\n",
       "  YrSold  SaleType  SaleCondition  SalePrice  \n",
       "0   2008        WD         Normal     208500  \n",
       "1   2007        WD         Normal     181500  \n",
       "2   2008        WD         Normal     223500  \n",
       "3   2006        WD        Abnorml     140000  \n",
       "4   2008        WD         Normal     250000  \n",
       "\n",
       "[5 rows x 81 columns]"
      ]
     },
     "execution_count": 3,
     "metadata": {},
     "output_type": "execute_result"
    }
   ],
   "source": [
    "train.head()"
   ]
  },
  {
   "cell_type": "code",
   "execution_count": 4,
   "metadata": {},
   "outputs": [
    {
     "name": "stdout",
     "output_type": "stream",
     "text": [
      "<class 'pandas.core.frame.DataFrame'>\n",
      "RangeIndex: 1460 entries, 0 to 1459\n",
      "Data columns (total 81 columns):\n",
      " #   Column         Non-Null Count  Dtype  \n",
      "---  ------         --------------  -----  \n",
      " 0   Id             1460 non-null   int64  \n",
      " 1   MSSubClass     1460 non-null   int64  \n",
      " 2   MSZoning       1460 non-null   object \n",
      " 3   LotFrontage    1201 non-null   float64\n",
      " 4   LotArea        1460 non-null   int64  \n",
      " 5   Street         1460 non-null   object \n",
      " 6   Alley          91 non-null     object \n",
      " 7   LotShape       1460 non-null   object \n",
      " 8   LandContour    1460 non-null   object \n",
      " 9   Utilities      1460 non-null   object \n",
      " 10  LotConfig      1460 non-null   object \n",
      " 11  LandSlope      1460 non-null   object \n",
      " 12  Neighborhood   1460 non-null   object \n",
      " 13  Condition1     1460 non-null   object \n",
      " 14  Condition2     1460 non-null   object \n",
      " 15  BldgType       1460 non-null   object \n",
      " 16  HouseStyle     1460 non-null   object \n",
      " 17  OverallQual    1460 non-null   int64  \n",
      " 18  OverallCond    1460 non-null   int64  \n",
      " 19  YearBuilt      1460 non-null   int64  \n",
      " 20  YearRemodAdd   1460 non-null   int64  \n",
      " 21  RoofStyle      1460 non-null   object \n",
      " 22  RoofMatl       1460 non-null   object \n",
      " 23  Exterior1st    1460 non-null   object \n",
      " 24  Exterior2nd    1460 non-null   object \n",
      " 25  MasVnrType     1452 non-null   object \n",
      " 26  MasVnrArea     1452 non-null   float64\n",
      " 27  ExterQual      1460 non-null   object \n",
      " 28  ExterCond      1460 non-null   object \n",
      " 29  Foundation     1460 non-null   object \n",
      " 30  BsmtQual       1423 non-null   object \n",
      " 31  BsmtCond       1423 non-null   object \n",
      " 32  BsmtExposure   1422 non-null   object \n",
      " 33  BsmtFinType1   1423 non-null   object \n",
      " 34  BsmtFinSF1     1460 non-null   int64  \n",
      " 35  BsmtFinType2   1422 non-null   object \n",
      " 36  BsmtFinSF2     1460 non-null   int64  \n",
      " 37  BsmtUnfSF      1460 non-null   int64  \n",
      " 38  TotalBsmtSF    1460 non-null   int64  \n",
      " 39  Heating        1460 non-null   object \n",
      " 40  HeatingQC      1460 non-null   object \n",
      " 41  CentralAir     1460 non-null   object \n",
      " 42  Electrical     1459 non-null   object \n",
      " 43  1stFlrSF       1460 non-null   int64  \n",
      " 44  2ndFlrSF       1460 non-null   int64  \n",
      " 45  LowQualFinSF   1460 non-null   int64  \n",
      " 46  GrLivArea      1460 non-null   int64  \n",
      " 47  BsmtFullBath   1460 non-null   int64  \n",
      " 48  BsmtHalfBath   1460 non-null   int64  \n",
      " 49  FullBath       1460 non-null   int64  \n",
      " 50  HalfBath       1460 non-null   int64  \n",
      " 51  BedroomAbvGr   1460 non-null   int64  \n",
      " 52  KitchenAbvGr   1460 non-null   int64  \n",
      " 53  KitchenQual    1460 non-null   object \n",
      " 54  TotRmsAbvGrd   1460 non-null   int64  \n",
      " 55  Functional     1460 non-null   object \n",
      " 56  Fireplaces     1460 non-null   int64  \n",
      " 57  FireplaceQu    770 non-null    object \n",
      " 58  GarageType     1379 non-null   object \n",
      " 59  GarageYrBlt    1379 non-null   float64\n",
      " 60  GarageFinish   1379 non-null   object \n",
      " 61  GarageCars     1460 non-null   int64  \n",
      " 62  GarageArea     1460 non-null   int64  \n",
      " 63  GarageQual     1379 non-null   object \n",
      " 64  GarageCond     1379 non-null   object \n",
      " 65  PavedDrive     1460 non-null   object \n",
      " 66  WoodDeckSF     1460 non-null   int64  \n",
      " 67  OpenPorchSF    1460 non-null   int64  \n",
      " 68  EnclosedPorch  1460 non-null   int64  \n",
      " 69  3SsnPorch      1460 non-null   int64  \n",
      " 70  ScreenPorch    1460 non-null   int64  \n",
      " 71  PoolArea       1460 non-null   int64  \n",
      " 72  PoolQC         7 non-null      object \n",
      " 73  Fence          281 non-null    object \n",
      " 74  MiscFeature    54 non-null     object \n",
      " 75  MiscVal        1460 non-null   int64  \n",
      " 76  MoSold         1460 non-null   int64  \n",
      " 77  YrSold         1460 non-null   int64  \n",
      " 78  SaleType       1460 non-null   object \n",
      " 79  SaleCondition  1460 non-null   object \n",
      " 80  SalePrice      1460 non-null   int64  \n",
      "dtypes: float64(3), int64(35), object(43)\n",
      "memory usage: 924.0+ KB\n"
     ]
    }
   ],
   "source": [
    "train.info()"
   ]
  },
  {
   "cell_type": "code",
   "execution_count": 5,
   "metadata": {},
   "outputs": [
    {
     "data": {
      "text/plain": [
       "(1460, 81)"
      ]
     },
     "execution_count": 5,
     "metadata": {},
     "output_type": "execute_result"
    }
   ],
   "source": [
    "# 数据类型\n",
    "train.shape"
   ]
  },
  {
   "cell_type": "code",
   "execution_count": 6,
   "metadata": {},
   "outputs": [
    {
     "data": {
      "text/html": [
       "<div>\n",
       "<style scoped>\n",
       "    .dataframe tbody tr th:only-of-type {\n",
       "        vertical-align: middle;\n",
       "    }\n",
       "\n",
       "    .dataframe tbody tr th {\n",
       "        vertical-align: top;\n",
       "    }\n",
       "\n",
       "    .dataframe thead th {\n",
       "        text-align: right;\n",
       "    }\n",
       "</style>\n",
       "<table border=\"1\" class=\"dataframe\">\n",
       "  <thead>\n",
       "    <tr style=\"text-align: right;\">\n",
       "      <th></th>\n",
       "      <th>Id</th>\n",
       "      <th>MSSubClass</th>\n",
       "      <th>MSZoning</th>\n",
       "      <th>LotFrontage</th>\n",
       "      <th>LotArea</th>\n",
       "      <th>Street</th>\n",
       "      <th>Alley</th>\n",
       "      <th>LotShape</th>\n",
       "      <th>LandContour</th>\n",
       "      <th>Utilities</th>\n",
       "      <th>...</th>\n",
       "      <th>ScreenPorch</th>\n",
       "      <th>PoolArea</th>\n",
       "      <th>PoolQC</th>\n",
       "      <th>Fence</th>\n",
       "      <th>MiscFeature</th>\n",
       "      <th>MiscVal</th>\n",
       "      <th>MoSold</th>\n",
       "      <th>YrSold</th>\n",
       "      <th>SaleType</th>\n",
       "      <th>SaleCondition</th>\n",
       "    </tr>\n",
       "  </thead>\n",
       "  <tbody>\n",
       "    <tr>\n",
       "      <th>0</th>\n",
       "      <td>1461</td>\n",
       "      <td>20</td>\n",
       "      <td>RH</td>\n",
       "      <td>80.0</td>\n",
       "      <td>11622</td>\n",
       "      <td>Pave</td>\n",
       "      <td>NaN</td>\n",
       "      <td>Reg</td>\n",
       "      <td>Lvl</td>\n",
       "      <td>AllPub</td>\n",
       "      <td>...</td>\n",
       "      <td>120</td>\n",
       "      <td>0</td>\n",
       "      <td>NaN</td>\n",
       "      <td>MnPrv</td>\n",
       "      <td>NaN</td>\n",
       "      <td>0</td>\n",
       "      <td>6</td>\n",
       "      <td>2010</td>\n",
       "      <td>WD</td>\n",
       "      <td>Normal</td>\n",
       "    </tr>\n",
       "    <tr>\n",
       "      <th>1</th>\n",
       "      <td>1462</td>\n",
       "      <td>20</td>\n",
       "      <td>RL</td>\n",
       "      <td>81.0</td>\n",
       "      <td>14267</td>\n",
       "      <td>Pave</td>\n",
       "      <td>NaN</td>\n",
       "      <td>IR1</td>\n",
       "      <td>Lvl</td>\n",
       "      <td>AllPub</td>\n",
       "      <td>...</td>\n",
       "      <td>0</td>\n",
       "      <td>0</td>\n",
       "      <td>NaN</td>\n",
       "      <td>NaN</td>\n",
       "      <td>Gar2</td>\n",
       "      <td>12500</td>\n",
       "      <td>6</td>\n",
       "      <td>2010</td>\n",
       "      <td>WD</td>\n",
       "      <td>Normal</td>\n",
       "    </tr>\n",
       "    <tr>\n",
       "      <th>2</th>\n",
       "      <td>1463</td>\n",
       "      <td>60</td>\n",
       "      <td>RL</td>\n",
       "      <td>74.0</td>\n",
       "      <td>13830</td>\n",
       "      <td>Pave</td>\n",
       "      <td>NaN</td>\n",
       "      <td>IR1</td>\n",
       "      <td>Lvl</td>\n",
       "      <td>AllPub</td>\n",
       "      <td>...</td>\n",
       "      <td>0</td>\n",
       "      <td>0</td>\n",
       "      <td>NaN</td>\n",
       "      <td>MnPrv</td>\n",
       "      <td>NaN</td>\n",
       "      <td>0</td>\n",
       "      <td>3</td>\n",
       "      <td>2010</td>\n",
       "      <td>WD</td>\n",
       "      <td>Normal</td>\n",
       "    </tr>\n",
       "    <tr>\n",
       "      <th>3</th>\n",
       "      <td>1464</td>\n",
       "      <td>60</td>\n",
       "      <td>RL</td>\n",
       "      <td>78.0</td>\n",
       "      <td>9978</td>\n",
       "      <td>Pave</td>\n",
       "      <td>NaN</td>\n",
       "      <td>IR1</td>\n",
       "      <td>Lvl</td>\n",
       "      <td>AllPub</td>\n",
       "      <td>...</td>\n",
       "      <td>0</td>\n",
       "      <td>0</td>\n",
       "      <td>NaN</td>\n",
       "      <td>NaN</td>\n",
       "      <td>NaN</td>\n",
       "      <td>0</td>\n",
       "      <td>6</td>\n",
       "      <td>2010</td>\n",
       "      <td>WD</td>\n",
       "      <td>Normal</td>\n",
       "    </tr>\n",
       "    <tr>\n",
       "      <th>4</th>\n",
       "      <td>1465</td>\n",
       "      <td>120</td>\n",
       "      <td>RL</td>\n",
       "      <td>43.0</td>\n",
       "      <td>5005</td>\n",
       "      <td>Pave</td>\n",
       "      <td>NaN</td>\n",
       "      <td>IR1</td>\n",
       "      <td>HLS</td>\n",
       "      <td>AllPub</td>\n",
       "      <td>...</td>\n",
       "      <td>144</td>\n",
       "      <td>0</td>\n",
       "      <td>NaN</td>\n",
       "      <td>NaN</td>\n",
       "      <td>NaN</td>\n",
       "      <td>0</td>\n",
       "      <td>1</td>\n",
       "      <td>2010</td>\n",
       "      <td>WD</td>\n",
       "      <td>Normal</td>\n",
       "    </tr>\n",
       "  </tbody>\n",
       "</table>\n",
       "<p>5 rows × 80 columns</p>\n",
       "</div>"
      ],
      "text/plain": [
       "     Id  MSSubClass MSZoning  LotFrontage  LotArea Street Alley LotShape  \\\n",
       "0  1461          20       RH         80.0    11622   Pave   NaN      Reg   \n",
       "1  1462          20       RL         81.0    14267   Pave   NaN      IR1   \n",
       "2  1463          60       RL         74.0    13830   Pave   NaN      IR1   \n",
       "3  1464          60       RL         78.0     9978   Pave   NaN      IR1   \n",
       "4  1465         120       RL         43.0     5005   Pave   NaN      IR1   \n",
       "\n",
       "  LandContour Utilities  ... ScreenPorch PoolArea PoolQC  Fence MiscFeature  \\\n",
       "0         Lvl    AllPub  ...         120        0    NaN  MnPrv         NaN   \n",
       "1         Lvl    AllPub  ...           0        0    NaN    NaN        Gar2   \n",
       "2         Lvl    AllPub  ...           0        0    NaN  MnPrv         NaN   \n",
       "3         Lvl    AllPub  ...           0        0    NaN    NaN         NaN   \n",
       "4         HLS    AllPub  ...         144        0    NaN    NaN         NaN   \n",
       "\n",
       "  MiscVal MoSold  YrSold  SaleType  SaleCondition  \n",
       "0       0      6    2010        WD         Normal  \n",
       "1   12500      6    2010        WD         Normal  \n",
       "2       0      3    2010        WD         Normal  \n",
       "3       0      6    2010        WD         Normal  \n",
       "4       0      1    2010        WD         Normal  \n",
       "\n",
       "[5 rows x 80 columns]"
      ]
     },
     "execution_count": 6,
     "metadata": {},
     "output_type": "execute_result"
    }
   ],
   "source": [
    "test.head()"
   ]
  },
  {
   "cell_type": "code",
   "execution_count": 7,
   "metadata": {},
   "outputs": [
    {
     "name": "stdout",
     "output_type": "stream",
     "text": [
      "<class 'pandas.core.frame.DataFrame'>\n",
      "RangeIndex: 1459 entries, 0 to 1458\n",
      "Data columns (total 80 columns):\n",
      " #   Column         Non-Null Count  Dtype  \n",
      "---  ------         --------------  -----  \n",
      " 0   Id             1459 non-null   int64  \n",
      " 1   MSSubClass     1459 non-null   int64  \n",
      " 2   MSZoning       1455 non-null   object \n",
      " 3   LotFrontage    1232 non-null   float64\n",
      " 4   LotArea        1459 non-null   int64  \n",
      " 5   Street         1459 non-null   object \n",
      " 6   Alley          107 non-null    object \n",
      " 7   LotShape       1459 non-null   object \n",
      " 8   LandContour    1459 non-null   object \n",
      " 9   Utilities      1457 non-null   object \n",
      " 10  LotConfig      1459 non-null   object \n",
      " 11  LandSlope      1459 non-null   object \n",
      " 12  Neighborhood   1459 non-null   object \n",
      " 13  Condition1     1459 non-null   object \n",
      " 14  Condition2     1459 non-null   object \n",
      " 15  BldgType       1459 non-null   object \n",
      " 16  HouseStyle     1459 non-null   object \n",
      " 17  OverallQual    1459 non-null   int64  \n",
      " 18  OverallCond    1459 non-null   int64  \n",
      " 19  YearBuilt      1459 non-null   int64  \n",
      " 20  YearRemodAdd   1459 non-null   int64  \n",
      " 21  RoofStyle      1459 non-null   object \n",
      " 22  RoofMatl       1459 non-null   object \n",
      " 23  Exterior1st    1458 non-null   object \n",
      " 24  Exterior2nd    1458 non-null   object \n",
      " 25  MasVnrType     1443 non-null   object \n",
      " 26  MasVnrArea     1444 non-null   float64\n",
      " 27  ExterQual      1459 non-null   object \n",
      " 28  ExterCond      1459 non-null   object \n",
      " 29  Foundation     1459 non-null   object \n",
      " 30  BsmtQual       1415 non-null   object \n",
      " 31  BsmtCond       1414 non-null   object \n",
      " 32  BsmtExposure   1415 non-null   object \n",
      " 33  BsmtFinType1   1417 non-null   object \n",
      " 34  BsmtFinSF1     1458 non-null   float64\n",
      " 35  BsmtFinType2   1417 non-null   object \n",
      " 36  BsmtFinSF2     1458 non-null   float64\n",
      " 37  BsmtUnfSF      1458 non-null   float64\n",
      " 38  TotalBsmtSF    1458 non-null   float64\n",
      " 39  Heating        1459 non-null   object \n",
      " 40  HeatingQC      1459 non-null   object \n",
      " 41  CentralAir     1459 non-null   object \n",
      " 42  Electrical     1459 non-null   object \n",
      " 43  1stFlrSF       1459 non-null   int64  \n",
      " 44  2ndFlrSF       1459 non-null   int64  \n",
      " 45  LowQualFinSF   1459 non-null   int64  \n",
      " 46  GrLivArea      1459 non-null   int64  \n",
      " 47  BsmtFullBath   1457 non-null   float64\n",
      " 48  BsmtHalfBath   1457 non-null   float64\n",
      " 49  FullBath       1459 non-null   int64  \n",
      " 50  HalfBath       1459 non-null   int64  \n",
      " 51  BedroomAbvGr   1459 non-null   int64  \n",
      " 52  KitchenAbvGr   1459 non-null   int64  \n",
      " 53  KitchenQual    1458 non-null   object \n",
      " 54  TotRmsAbvGrd   1459 non-null   int64  \n",
      " 55  Functional     1457 non-null   object \n",
      " 56  Fireplaces     1459 non-null   int64  \n",
      " 57  FireplaceQu    729 non-null    object \n",
      " 58  GarageType     1383 non-null   object \n",
      " 59  GarageYrBlt    1381 non-null   float64\n",
      " 60  GarageFinish   1381 non-null   object \n",
      " 61  GarageCars     1458 non-null   float64\n",
      " 62  GarageArea     1458 non-null   float64\n",
      " 63  GarageQual     1381 non-null   object \n",
      " 64  GarageCond     1381 non-null   object \n",
      " 65  PavedDrive     1459 non-null   object \n",
      " 66  WoodDeckSF     1459 non-null   int64  \n",
      " 67  OpenPorchSF    1459 non-null   int64  \n",
      " 68  EnclosedPorch  1459 non-null   int64  \n",
      " 69  3SsnPorch      1459 non-null   int64  \n",
      " 70  ScreenPorch    1459 non-null   int64  \n",
      " 71  PoolArea       1459 non-null   int64  \n",
      " 72  PoolQC         3 non-null      object \n",
      " 73  Fence          290 non-null    object \n",
      " 74  MiscFeature    51 non-null     object \n",
      " 75  MiscVal        1459 non-null   int64  \n",
      " 76  MoSold         1459 non-null   int64  \n",
      " 77  YrSold         1459 non-null   int64  \n",
      " 78  SaleType       1458 non-null   object \n",
      " 79  SaleCondition  1459 non-null   object \n",
      "dtypes: float64(11), int64(26), object(43)\n",
      "memory usage: 912.0+ KB\n"
     ]
    }
   ],
   "source": [
    "test.info()"
   ]
  },
  {
   "cell_type": "code",
   "execution_count": 8,
   "metadata": {},
   "outputs": [
    {
     "data": {
      "text/plain": [
       "(1459, 80)"
      ]
     },
     "execution_count": 8,
     "metadata": {},
     "output_type": "execute_result"
    }
   ],
   "source": [
    "# 测试集的类形\n",
    "test.shape"
   ]
  },
  {
   "cell_type": "code",
   "execution_count": 9,
   "metadata": {},
   "outputs": [],
   "source": [
    "# ID 数据不必要, 对预测结果不产生影响\n",
    "train_ID = train[\"Id\"]\n",
    "test_ID = test[\"Id\"]"
   ]
  },
  {
   "cell_type": "code",
   "execution_count": 10,
   "metadata": {},
   "outputs": [
    {
     "data": {
      "text/plain": [
       "count      1460.000000\n",
       "mean     180921.195890\n",
       "std       79442.502883\n",
       "min       34900.000000\n",
       "25%      129975.000000\n",
       "50%      163000.000000\n",
       "75%      214000.000000\n",
       "max      755000.000000\n",
       "Name: SalePrice, dtype: float64"
      ]
     },
     "execution_count": 10,
     "metadata": {},
     "output_type": "execute_result"
    }
   ],
   "source": [
    "train.SalePrice.describe().T"
   ]
  },
  {
   "cell_type": "code",
   "execution_count": 11,
   "metadata": {},
   "outputs": [],
   "source": [
    "# 删除Id列特征\n",
    "train.drop(columns=\"Id\", inplace=True)\n",
    "test.drop(columns=\"Id\", inplace=True)"
   ]
  },
  {
   "cell_type": "markdown",
   "metadata": {},
   "source": [
    "## 1.数据处理"
   ]
  },
  {
   "cell_type": "markdown",
   "metadata": {},
   "source": [
    "### 分析特征与目标之间的关系"
   ]
  },
  {
   "cell_type": "code",
   "execution_count": 12,
   "metadata": {},
   "outputs": [
    {
     "data": {
      "image/png": "[encoded data removed]",
      "text/plain": [
       "<Figure size 432x288 with 1 Axes>"
      ]
     },
     "metadata": {
      "needs_background": "light"
     },
     "output_type": "display_data"
    }
   ],
   "source": [
    "fix, ax = plt.subplots()\n",
    "ax.scatter(x=train.GrLivArea, y=train.SalePrice)\n",
    "plt.xlabel(\"GrLivArea\", fontsize=13)\n",
    "plt.ylabel(\"SalePrice\", fontsize=13)\n",
    "plt.show()"
   ]
  },
  {
   "cell_type": "code",
   "execution_count": 13,
   "metadata": {},
   "outputs": [],
   "source": [
    "#　删除异常值\n",
    "train.drop(train[(train.GrLivArea>4000)&(train.SalePrice<300000)].index, inplace=True)"
   ]
  },
  {
   "cell_type": "markdown",
   "metadata": {},
   "source": [
    "结论：右下角的数据出现了两个异常值，也即离群点，偏离数据分布趋势，可以删除"
   ]
  },
  {
   "cell_type": "code",
   "execution_count": 14,
   "metadata": {},
   "outputs": [
    {
     "data": {
      "image/png": "[encoded data removed]",
      "text/plain": [
       "<Figure size 432x288 with 1 Axes>"
      ]
     },
     "metadata": {
      "needs_background": "light"
     },
     "output_type": "display_data"
    }
   ],
   "source": [
    "#  删除离群点之后整体呈现线性分布\n",
    "fix, ax = plt.subplots()\n",
    "ax.scatter(x=train.GrLivArea, y=train.SalePrice)\n",
    "plt.xlabel(\"GrLivArea\", fontsize=13)\n",
    "plt.ylabel(\"SalePrice\", fontsize=13)\n",
    "plt.show()"
   ]
  },
  {
   "cell_type": "code",
   "execution_count": 15,
   "metadata": {},
   "outputs": [
    {
     "data": {
      "text/plain": [
       "<matplotlib.axes._subplots.AxesSubplot at 0x7f1252adbb00>"
      ]
     },
     "execution_count": 15,
     "metadata": {},
     "output_type": "execute_result"
    },
    {
     "data": {
      "image/png": "[encoded data removed]",
      "text/plain": [
       "<Figure size 432x288 with 1 Axes>"
      ]
     },
     "metadata": {
      "needs_background": "light"
     },
     "output_type": "display_data"
    }
   ],
   "source": [
    "# 处理目标变量\n",
    "sns.distplot(train.SalePrice, fit=norm)"
   ]
  },
  {
   "cell_type": "markdown",
   "metadata": {},
   "source": [
    "结论：房屋价格呈现右偏（均值大于中位数）"
   ]
  },
  {
   "cell_type": "code",
   "execution_count": 16,
   "metadata": {},
   "outputs": [],
   "source": [
    "## 线性数据喜欢正态分布，装换目标变量为正态（log）\n",
    "train.SalePrice = np.log(train.SalePrice)"
   ]
  },
  {
   "cell_type": "code",
   "execution_count": 17,
   "metadata": {},
   "outputs": [
    {
     "data": {
      "text/plain": [
       "<matplotlib.axes._subplots.AxesSubplot at 0x7f12522a35c0>"
      ]
     },
     "execution_count": 17,
     "metadata": {},
     "output_type": "execute_result"
    },
    {
     "data": {
      "image/png": "[encoded data removed]",
      "text/plain": [
       "<Figure size 432x288 with 1 Axes>"
      ]
     },
     "metadata": {
      "needs_background": "light"
     },
     "output_type": "display_data"
    }
   ],
   "source": [
    "sns.distplot(train.SalePrice, fit=norm)"
   ]
  },
  {
   "cell_type": "markdown",
   "metadata": {},
   "source": [
    "结论：此时的数据呈现了正态分布形式，有助于回归模型的处理。"
   ]
  },
  {
   "cell_type": "markdown",
   "metadata": {},
   "source": [
    "### 合并数据"
   ]
  },
  {
   "cell_type": "code",
   "execution_count": 18,
   "metadata": {},
   "outputs": [],
   "source": [
    "y_train = train.SalePrice.values\n",
    "all_data = pd.concat([train, test]).reset_index(drop=True)\n",
    "all_data.drop(columns=\"SalePrice\", inplace=True)"
   ]
  },
  {
   "cell_type": "markdown",
   "metadata": {},
   "source": [
    "### 缺失值"
   ]
  },
  {
   "cell_type": "code",
   "execution_count": 19,
   "metadata": {},
   "outputs": [
    {
     "data": {
      "text/plain": [
       "MSSubClass         0\n",
       "MSZoning           4\n",
       "LotFrontage      486\n",
       "LotArea            0\n",
       "Street             0\n",
       "                ... \n",
       "MiscVal            0\n",
       "MoSold             0\n",
       "YrSold             0\n",
       "SaleType           1\n",
       "SaleCondition      0\n",
       "Length: 79, dtype: int64"
      ]
     },
     "execution_count": 19,
     "metadata": {},
     "output_type": "execute_result"
    }
   ],
   "source": [
    "all_data.isnull().sum()"
   ]
  },
  {
   "cell_type": "code",
   "execution_count": 20,
   "metadata": {},
   "outputs": [
    {
     "data": {
      "text/html": [
       "<div>\n",
       "<style scoped>\n",
       "    .dataframe tbody tr th:only-of-type {\n",
       "        vertical-align: middle;\n",
       "    }\n",
       "\n",
       "    .dataframe tbody tr th {\n",
       "        vertical-align: top;\n",
       "    }\n",
       "\n",
       "    .dataframe thead th {\n",
       "        text-align: right;\n",
       "    }\n",
       "</style>\n",
       "<table border=\"1\" class=\"dataframe\">\n",
       "  <thead>\n",
       "    <tr style=\"text-align: right;\">\n",
       "      <th></th>\n",
       "      <th>Total</th>\n",
       "      <th>Percent</th>\n",
       "    </tr>\n",
       "  </thead>\n",
       "  <tbody>\n",
       "    <tr>\n",
       "      <th>PoolQC</th>\n",
       "      <td>2908</td>\n",
       "      <td>99.691464</td>\n",
       "    </tr>\n",
       "    <tr>\n",
       "      <th>MiscFeature</th>\n",
       "      <td>2812</td>\n",
       "      <td>96.400411</td>\n",
       "    </tr>\n",
       "    <tr>\n",
       "      <th>Alley</th>\n",
       "      <td>2719</td>\n",
       "      <td>93.212204</td>\n",
       "    </tr>\n",
       "    <tr>\n",
       "      <th>Fence</th>\n",
       "      <td>2346</td>\n",
       "      <td>80.425094</td>\n",
       "    </tr>\n",
       "    <tr>\n",
       "      <th>FireplaceQu</th>\n",
       "      <td>1420</td>\n",
       "      <td>48.680151</td>\n",
       "    </tr>\n",
       "    <tr>\n",
       "      <th>...</th>\n",
       "      <td>...</td>\n",
       "      <td>...</td>\n",
       "    </tr>\n",
       "    <tr>\n",
       "      <th>1stFlrSF</th>\n",
       "      <td>0</td>\n",
       "      <td>0.000000</td>\n",
       "    </tr>\n",
       "    <tr>\n",
       "      <th>CentralAir</th>\n",
       "      <td>0</td>\n",
       "      <td>0.000000</td>\n",
       "    </tr>\n",
       "    <tr>\n",
       "      <th>Heating</th>\n",
       "      <td>0</td>\n",
       "      <td>0.000000</td>\n",
       "    </tr>\n",
       "    <tr>\n",
       "      <th>Foundation</th>\n",
       "      <td>0</td>\n",
       "      <td>0.000000</td>\n",
       "    </tr>\n",
       "    <tr>\n",
       "      <th>MSSubClass</th>\n",
       "      <td>0</td>\n",
       "      <td>0.000000</td>\n",
       "    </tr>\n",
       "  </tbody>\n",
       "</table>\n",
       "<p>79 rows × 2 columns</p>\n",
       "</div>"
      ],
      "text/plain": [
       "             Total    Percent\n",
       "PoolQC        2908  99.691464\n",
       "MiscFeature   2812  96.400411\n",
       "Alley         2719  93.212204\n",
       "Fence         2346  80.425094\n",
       "FireplaceQu   1420  48.680151\n",
       "...            ...        ...\n",
       "1stFlrSF         0   0.000000\n",
       "CentralAir       0   0.000000\n",
       "Heating          0   0.000000\n",
       "Foundation       0   0.000000\n",
       "MSSubClass       0   0.000000\n",
       "\n",
       "[79 rows x 2 columns]"
      ]
     },
     "execution_count": 20,
     "metadata": {},
     "output_type": "execute_result"
    }
   ],
   "source": [
    "Total = all_data.isnull().sum().sort_values(ascending=False)\n",
    "percent = (all_data.isnull().sum()/all_data.isnull().count()).sort_values(ascending=False)*100\n",
    "missing_data = pd.concat([Total, percent], axis=1, keys=[\"Total\", \"Percent\"])\n",
    "missing_data"
   ]
  },
  {
   "cell_type": "code",
   "execution_count": 21,
   "metadata": {},
   "outputs": [
    {
     "data": {
      "image/png": "[encoded data removed]",
      "text/plain": [
       "<Figure size 864x432 with 1 Axes>"
      ]
     },
     "metadata": {
      "needs_background": "light"
     },
     "output_type": "display_data"
    }
   ],
   "source": [
    "## 可视化缺失值\n",
    "fig, ax = plt.subplots(figsize=(12, 6))\n",
    "sns.barplot(x=missing_data[:20].index, y=missing_data.Percent[:20])\n",
    "plt.xticks(rotation=90)\n",
    "plt.xlabel(\"missing_features\", fontsize=13)\n",
    "plt.show()"
   ]
  },
  {
   "cell_type": "markdown",
   "metadata": {},
   "source": [
    "#### 删除缺失空间比较大的数据"
   ]
  },
  {
   "cell_type": "code",
   "execution_count": 22,
   "metadata": {},
   "outputs": [
    {
     "data": {
      "text/plain": [
       "MSSubClass       0\n",
       "LotArea          0\n",
       "Street           0\n",
       "LotShape         0\n",
       "LandContour      0\n",
       "LotConfig        0\n",
       "LandSlope        0\n",
       "Neighborhood     0\n",
       "Condition1       0\n",
       "Condition2       0\n",
       "BldgType         0\n",
       "HouseStyle       0\n",
       "OverallQual      0\n",
       "OverallCond      0\n",
       "YearBuilt        0\n",
       "YearRemodAdd     0\n",
       "RoofStyle        0\n",
       "RoofMatl         0\n",
       "Exterior1st      1\n",
       "Exterior2nd      1\n",
       "ExterQual        0\n",
       "ExterCond        0\n",
       "Foundation       0\n",
       "BsmtFinSF1       1\n",
       "BsmtFinSF2       1\n",
       "BsmtUnfSF        1\n",
       "TotalBsmtSF      1\n",
       "Heating          0\n",
       "HeatingQC        0\n",
       "CentralAir       0\n",
       "Electrical       1\n",
       "1stFlrSF         0\n",
       "2ndFlrSF         0\n",
       "LowQualFinSF     0\n",
       "GrLivArea        0\n",
       "FullBath         0\n",
       "HalfBath         0\n",
       "BedroomAbvGr     0\n",
       "KitchenAbvGr     0\n",
       "KitchenQual      1\n",
       "TotRmsAbvGrd     0\n",
       "Fireplaces       0\n",
       "GarageCars       1\n",
       "GarageArea       1\n",
       "PavedDrive       0\n",
       "WoodDeckSF       0\n",
       "OpenPorchSF      0\n",
       "EnclosedPorch    0\n",
       "3SsnPorch        0\n",
       "ScreenPorch      0\n",
       "PoolArea         0\n",
       "MiscVal          0\n",
       "MoSold           0\n",
       "YrSold           0\n",
       "SaleType         1\n",
       "SaleCondition    0\n",
       "dtype: int64"
      ]
     },
     "execution_count": 22,
     "metadata": {},
     "output_type": "execute_result"
    }
   ],
   "source": [
    "all_data.drop(missing_data[missing_data.Total>1].index, 1).isnull().sum()"
   ]
  },
  {
   "cell_type": "markdown",
   "metadata": {},
   "source": [
    "结论：有一部分的数据的缺失值较大，高达90%以上，对于这些特征，可以删除，因为数据确实较大，对于建模没有影响。"
   ]
  },
  {
   "cell_type": "markdown",
   "metadata": {},
   "source": [
    "#### 填补缺失值"
   ]
  },
  {
   "cell_type": "code",
   "execution_count": 23,
   "metadata": {},
   "outputs": [
    {
     "name": "stdout",
     "output_type": "stream",
     "text": [
      "<class 'pandas.core.frame.DataFrame'>\n",
      "RangeIndex: 2917 entries, 0 to 2916\n",
      "Data columns (total 34 columns):\n",
      " #   Column        Non-Null Count  Dtype  \n",
      "---  ------        --------------  -----  \n",
      " 0   PoolQC        9 non-null      object \n",
      " 1   MiscFeature   105 non-null    object \n",
      " 2   Alley         198 non-null    object \n",
      " 3   Fence         571 non-null    object \n",
      " 4   FireplaceQu   1497 non-null   object \n",
      " 5   LotFrontage   2431 non-null   float64\n",
      " 6   GarageCond    2758 non-null   object \n",
      " 7   GarageQual    2758 non-null   object \n",
      " 8   GarageYrBlt   2758 non-null   float64\n",
      " 9   GarageFinish  2758 non-null   object \n",
      " 10  GarageType    2760 non-null   object \n",
      " 11  BsmtCond      2835 non-null   object \n",
      " 12  BsmtExposure  2835 non-null   object \n",
      " 13  BsmtQual      2836 non-null   object \n",
      " 14  BsmtFinType2  2837 non-null   object \n",
      " 15  BsmtFinType1  2838 non-null   object \n",
      " 16  MasVnrType    2893 non-null   object \n",
      " 17  MasVnrArea    2894 non-null   float64\n",
      " 18  MSZoning      2913 non-null   object \n",
      " 19  BsmtHalfBath  2915 non-null   float64\n",
      " 20  Utilities     2915 non-null   object \n",
      " 21  Functional    2915 non-null   object \n",
      " 22  BsmtFullBath  2915 non-null   float64\n",
      " 23  BsmtFinSF2    2916 non-null   float64\n",
      " 24  BsmtFinSF1    2916 non-null   float64\n",
      " 25  Exterior2nd   2916 non-null   object \n",
      " 26  BsmtUnfSF     2916 non-null   float64\n",
      " 27  TotalBsmtSF   2916 non-null   float64\n",
      " 28  Exterior1st   2916 non-null   object \n",
      " 29  SaleType      2916 non-null   object \n",
      " 30  Electrical    2916 non-null   object \n",
      " 31  KitchenQual   2916 non-null   object \n",
      " 32  GarageArea    2916 non-null   float64\n",
      " 33  GarageCars    2916 non-null   float64\n",
      "dtypes: float64(11), object(23)\n",
      "memory usage: 775.0+ KB\n"
     ]
    }
   ],
   "source": [
    "miss_index = all_data[missing_data[missing_data.Total>0].index]\n",
    "miss_index.info()"
   ]
  },
  {
   "cell_type": "raw",
   "metadata": {},
   "source": [
    "missing_data[:20]"
   ]
  },
  {
   "cell_type": "code",
   "execution_count": 24,
   "metadata": {},
   "outputs": [],
   "source": [
    "#  通过观察和结合实际情况可得，缺失值较大的特征，可能本身房屋不具有的性质，例如家中可能没有围栏和游泳池\n",
    "#  ，所以可以使用空值进行填补\n",
    "for feature in missing_data.index[:5]:\n",
    "    all_data[feature] = all_data[feature].fillna(\"None\")"
   ]
  },
  {
   "cell_type": "code",
   "execution_count": 25,
   "metadata": {},
   "outputs": [
    {
     "data": {
      "text/plain": [
       "0"
      ]
     },
     "execution_count": 25,
     "metadata": {},
     "output_type": "execute_result"
    }
   ],
   "source": [
    "all_data.PoolQC.isnull().sum()"
   ]
  },
  {
   "cell_type": "code",
   "execution_count": 26,
   "metadata": {},
   "outputs": [
    {
     "data": {
      "text/plain": [
       "array(['CollgCr', 'Veenker', 'Crawfor', 'NoRidge', 'Mitchel', 'Somerst',\n",
       "       'NWAmes', 'OldTown', 'BrkSide', 'Sawyer', 'NridgHt', 'NAmes',\n",
       "       'SawyerW', 'IDOTRR', 'MeadowV', 'Edwards', 'Timber', 'Gilbert',\n",
       "       'StoneBr', 'ClearCr', 'NPkVill', 'Blmngtn', 'BrDale', 'SWISU',\n",
       "       'Blueste'], dtype=object)"
      ]
     },
     "execution_count": 26,
     "metadata": {},
     "output_type": "execute_result"
    }
   ],
   "source": [
    "# lotFronyage连接物业的街道线，城市范围内的物理位置,把邻居分组之后进行组内均值填充\n",
    "all_data.Neighborhood.unique()"
   ]
  },
  {
   "cell_type": "code",
   "execution_count": 27,
   "metadata": {},
   "outputs": [],
   "source": [
    "all_data[\"LotFrontage\"] = all_data.groupby(\"Neighborhood\")[\"LotFrontage\"].transform(lambda x:x.fillna(x.median()))"
   ]
  },
  {
   "cell_type": "code",
   "execution_count": 28,
   "metadata": {},
   "outputs": [
    {
     "data": {
      "text/plain": [
       "0"
      ]
     },
     "execution_count": 28,
     "metadata": {},
     "output_type": "execute_result"
    }
   ],
   "source": [
    "all_data.LotFrontage.isnull().sum()"
   ]
  },
  {
   "cell_type": "code",
   "execution_count": 29,
   "metadata": {},
   "outputs": [
    {
     "data": {
      "text/plain": [
       "Index(['PoolQC', 'MiscFeature', 'Alley', 'Fence', 'FireplaceQu', 'LotFrontage',\n",
       "       'GarageCond', 'GarageQual', 'GarageYrBlt', 'GarageFinish', 'GarageType',\n",
       "       'BsmtCond', 'BsmtExposure', 'BsmtQual', 'BsmtFinType2', 'BsmtFinType1',\n",
       "       'MasVnrType', 'MasVnrArea', 'MSZoning', 'BsmtHalfBath', 'Utilities',\n",
       "       'Functional', 'BsmtFullBath', 'BsmtFinSF2', 'BsmtFinSF1', 'Exterior2nd',\n",
       "       'BsmtUnfSF', 'TotalBsmtSF', 'Exterior1st', 'SaleType', 'Electrical',\n",
       "       'KitchenQual', 'GarageArea', 'GarageCars', 'OverallQual', 'OverallCond',\n",
       "       'LotArea', 'Street', 'LotShape', 'LandContour', 'LotConfig',\n",
       "       'LandSlope', 'Neighborhood', 'Condition1', 'Condition2', 'BldgType',\n",
       "       'RoofMatl', 'HouseStyle', 'RoofStyle', 'YearRemodAdd', 'YearBuilt',\n",
       "       'SaleCondition', 'HeatingQC', 'ExterQual', 'ExterCond', 'YrSold',\n",
       "       'MoSold', 'MiscVal', 'PoolArea', 'ScreenPorch', '3SsnPorch',\n",
       "       'EnclosedPorch', 'OpenPorchSF', 'WoodDeckSF', 'PavedDrive',\n",
       "       'Fireplaces', 'TotRmsAbvGrd', 'KitchenAbvGr', 'BedroomAbvGr',\n",
       "       'HalfBath', 'FullBath', 'GrLivArea', 'LowQualFinSF', '2ndFlrSF',\n",
       "       '1stFlrSF', 'CentralAir', 'Heating', 'Foundation', 'MSSubClass'],\n",
       "      dtype='object')"
      ]
     },
     "execution_count": 29,
     "metadata": {},
     "output_type": "execute_result"
    }
   ],
   "source": [
    "## 对于Garage*的缺失,需要使用空值来进行填补\n",
    "missing_data.index"
   ]
  },
  {
   "cell_type": "code",
   "execution_count": 30,
   "metadata": {},
   "outputs": [
    {
     "data": {
      "text/html": [
       "<div>\n",
       "<style scoped>\n",
       "    .dataframe tbody tr th:only-of-type {\n",
       "        vertical-align: middle;\n",
       "    }\n",
       "\n",
       "    .dataframe tbody tr th {\n",
       "        vertical-align: top;\n",
       "    }\n",
       "\n",
       "    .dataframe thead th {\n",
       "        text-align: right;\n",
       "    }\n",
       "</style>\n",
       "<table border=\"1\" class=\"dataframe\">\n",
       "  <thead>\n",
       "    <tr style=\"text-align: right;\">\n",
       "      <th></th>\n",
       "      <th>Total</th>\n",
       "      <th>Percent</th>\n",
       "    </tr>\n",
       "  </thead>\n",
       "  <tbody>\n",
       "    <tr>\n",
       "      <th>GarageCond</th>\n",
       "      <td>159</td>\n",
       "      <td>5.450806</td>\n",
       "    </tr>\n",
       "    <tr>\n",
       "      <th>GarageQual</th>\n",
       "      <td>159</td>\n",
       "      <td>5.450806</td>\n",
       "    </tr>\n",
       "    <tr>\n",
       "      <th>GarageYrBlt</th>\n",
       "      <td>159</td>\n",
       "      <td>5.450806</td>\n",
       "    </tr>\n",
       "    <tr>\n",
       "      <th>GarageFinish</th>\n",
       "      <td>159</td>\n",
       "      <td>5.450806</td>\n",
       "    </tr>\n",
       "    <tr>\n",
       "      <th>GarageType</th>\n",
       "      <td>157</td>\n",
       "      <td>5.382242</td>\n",
       "    </tr>\n",
       "    <tr>\n",
       "      <th>...</th>\n",
       "      <td>...</td>\n",
       "      <td>...</td>\n",
       "    </tr>\n",
       "    <tr>\n",
       "      <th>LowQualFinSF</th>\n",
       "      <td>0</td>\n",
       "      <td>0.000000</td>\n",
       "    </tr>\n",
       "    <tr>\n",
       "      <th>2ndFlrSF</th>\n",
       "      <td>0</td>\n",
       "      <td>0.000000</td>\n",
       "    </tr>\n",
       "    <tr>\n",
       "      <th>1stFlrSF</th>\n",
       "      <td>0</td>\n",
       "      <td>0.000000</td>\n",
       "    </tr>\n",
       "    <tr>\n",
       "      <th>CentralAir</th>\n",
       "      <td>0</td>\n",
       "      <td>0.000000</td>\n",
       "    </tr>\n",
       "    <tr>\n",
       "      <th>MSSubClass</th>\n",
       "      <td>0</td>\n",
       "      <td>0.000000</td>\n",
       "    </tr>\n",
       "  </tbody>\n",
       "</table>\n",
       "<p>79 rows × 2 columns</p>\n",
       "</div>"
      ],
      "text/plain": [
       "              Total   Percent\n",
       "GarageCond      159  5.450806\n",
       "GarageQual      159  5.450806\n",
       "GarageYrBlt     159  5.450806\n",
       "GarageFinish    159  5.450806\n",
       "GarageType      157  5.382242\n",
       "...             ...       ...\n",
       "LowQualFinSF      0  0.000000\n",
       "2ndFlrSF          0  0.000000\n",
       "1stFlrSF          0  0.000000\n",
       "CentralAir        0  0.000000\n",
       "MSSubClass        0  0.000000\n",
       "\n",
       "[79 rows x 2 columns]"
      ]
     },
     "execution_count": 30,
     "metadata": {},
     "output_type": "execute_result"
    }
   ],
   "source": [
    "Total = all_data.isnull().sum().sort_values(ascending=False)\n",
    "Percent = (all_data.isnull().sum()/all_data.isnull().count()).sort_values(ascending=False)*100\n",
    "missing_data = pd.concat([Total, Percent], axis=1, keys=[\"Total\", \"Percent\"])\n",
    "missing_data"
   ]
  },
  {
   "cell_type": "markdown",
   "metadata": {},
   "source": [
    "#### 车库特征填补（离散：None 连续：０）"
   ]
  },
  {
   "cell_type": "code",
   "execution_count": 31,
   "metadata": {},
   "outputs": [
    {
     "data": {
      "text/plain": [
       "array(['TA', 'Fa', 'Gd', nan, 'Ex', 'Po'], dtype=object)"
      ]
     },
     "execution_count": 31,
     "metadata": {},
     "output_type": "execute_result"
    }
   ],
   "source": [
    "all_data.GarageQual.unique()"
   ]
  },
  {
   "cell_type": "code",
   "execution_count": 32,
   "metadata": {},
   "outputs": [],
   "source": [
    "for col in ('GarageType', 'GarageFinish', 'GarageQual', 'GarageCond'):\n",
    "    all_data[col] = all_data[col].fillna('None')"
   ]
  },
  {
   "cell_type": "code",
   "execution_count": 33,
   "metadata": {},
   "outputs": [],
   "source": [
    "for col in ('GarageYrBlt', 'GarageArea', 'GarageCars'):\n",
    "    all_data[col] = all_data[col].fillna(0)"
   ]
  },
  {
   "cell_type": "markdown",
   "metadata": {},
   "source": [
    "#### 地下室特征填补（离散：None 连续：０）"
   ]
  },
  {
   "cell_type": "code",
   "execution_count": 34,
   "metadata": {},
   "outputs": [],
   "source": [
    "for col in ('BsmtFinSF1', 'BsmtFinSF2', 'BsmtUnfSF','TotalBsmtSF', 'BsmtFullBath', 'BsmtHalfBath'):\n",
    "    all_data[col] = all_data[col].fillna(0)"
   ]
  },
  {
   "cell_type": "code",
   "execution_count": 35,
   "metadata": {},
   "outputs": [],
   "source": [
    "for col in ('BsmtQual', 'BsmtCond', 'BsmtExposure', 'BsmtFinType1', 'BsmtFinType2'):\n",
    "    all_data[col] = all_data[col].fillna('None')"
   ]
  },
  {
   "cell_type": "markdown",
   "metadata": {},
   "source": [
    "#### 其他特征填补"
   ]
  },
  {
   "cell_type": "code",
   "execution_count": 36,
   "metadata": {},
   "outputs": [
    {
     "data": {
      "text/html": [
       "<div>\n",
       "<style scoped>\n",
       "    .dataframe tbody tr th:only-of-type {\n",
       "        vertical-align: middle;\n",
       "    }\n",
       "\n",
       "    .dataframe tbody tr th {\n",
       "        vertical-align: top;\n",
       "    }\n",
       "\n",
       "    .dataframe thead th {\n",
       "        text-align: right;\n",
       "    }\n",
       "</style>\n",
       "<table border=\"1\" class=\"dataframe\">\n",
       "  <thead>\n",
       "    <tr style=\"text-align: right;\">\n",
       "      <th></th>\n",
       "      <th>Total</th>\n",
       "      <th>Percent</th>\n",
       "    </tr>\n",
       "  </thead>\n",
       "  <tbody>\n",
       "    <tr>\n",
       "      <th>MasVnrType</th>\n",
       "      <td>24</td>\n",
       "      <td>0.822763</td>\n",
       "    </tr>\n",
       "    <tr>\n",
       "      <th>MasVnrArea</th>\n",
       "      <td>23</td>\n",
       "      <td>0.788481</td>\n",
       "    </tr>\n",
       "    <tr>\n",
       "      <th>MSZoning</th>\n",
       "      <td>4</td>\n",
       "      <td>0.137127</td>\n",
       "    </tr>\n",
       "    <tr>\n",
       "      <th>Functional</th>\n",
       "      <td>2</td>\n",
       "      <td>0.068564</td>\n",
       "    </tr>\n",
       "    <tr>\n",
       "      <th>Utilities</th>\n",
       "      <td>2</td>\n",
       "      <td>0.068564</td>\n",
       "    </tr>\n",
       "    <tr>\n",
       "      <th>...</th>\n",
       "      <td>...</td>\n",
       "      <td>...</td>\n",
       "    </tr>\n",
       "    <tr>\n",
       "      <th>TotRmsAbvGrd</th>\n",
       "      <td>0</td>\n",
       "      <td>0.000000</td>\n",
       "    </tr>\n",
       "    <tr>\n",
       "      <th>Fireplaces</th>\n",
       "      <td>0</td>\n",
       "      <td>0.000000</td>\n",
       "    </tr>\n",
       "    <tr>\n",
       "      <th>FireplaceQu</th>\n",
       "      <td>0</td>\n",
       "      <td>0.000000</td>\n",
       "    </tr>\n",
       "    <tr>\n",
       "      <th>GarageType</th>\n",
       "      <td>0</td>\n",
       "      <td>0.000000</td>\n",
       "    </tr>\n",
       "    <tr>\n",
       "      <th>MSSubClass</th>\n",
       "      <td>0</td>\n",
       "      <td>0.000000</td>\n",
       "    </tr>\n",
       "  </tbody>\n",
       "</table>\n",
       "<p>79 rows × 2 columns</p>\n",
       "</div>"
      ],
      "text/plain": [
       "              Total   Percent\n",
       "MasVnrType       24  0.822763\n",
       "MasVnrArea       23  0.788481\n",
       "MSZoning          4  0.137127\n",
       "Functional        2  0.068564\n",
       "Utilities         2  0.068564\n",
       "...             ...       ...\n",
       "TotRmsAbvGrd      0  0.000000\n",
       "Fireplaces        0  0.000000\n",
       "FireplaceQu       0  0.000000\n",
       "GarageType        0  0.000000\n",
       "MSSubClass        0  0.000000\n",
       "\n",
       "[79 rows x 2 columns]"
      ]
     },
     "execution_count": 36,
     "metadata": {},
     "output_type": "execute_result"
    }
   ],
   "source": [
    "Total = all_data.isnull().sum().sort_values(ascending=False)\n",
    "Percent = (all_data.isnull().sum()/all_data.isnull().count()).sort_values(ascending=False)*100\n",
    "missing_data = pd.concat([Total, Percent], axis=1, keys=[\"Total\", \"Percent\"])\n",
    "missing_data"
   ]
  },
  {
   "cell_type": "code",
   "execution_count": 37,
   "metadata": {},
   "outputs": [],
   "source": [
    "all_data[\"MasVnrType\"] = all_data[\"MasVnrType\"].fillna(\"None\")\n",
    "all_data[\"MasVnrArea\"] = all_data[\"MasVnrArea\"].fillna(0)"
   ]
  },
  {
   "cell_type": "code",
   "execution_count": 38,
   "metadata": {},
   "outputs": [
    {
     "data": {
      "text/plain": [
       "array(['RL', 'RM', 'C (all)', 'FV', 'RH', nan], dtype=object)"
      ]
     },
     "execution_count": 38,
     "metadata": {},
     "output_type": "execute_result"
    }
   ],
   "source": [
    "all_data.MSZoning.unique()"
   ]
  },
  {
   "cell_type": "code",
   "execution_count": 39,
   "metadata": {},
   "outputs": [],
   "source": [
    "all_data['MSZoning'] = all_data['MSZoning'].fillna(all_data['MSZoning'].mode()[0])"
   ]
  },
  {
   "cell_type": "code",
   "execution_count": 40,
   "metadata": {},
   "outputs": [],
   "source": [
    "all_data = all_data.drop(['Utilities'], axis=1)"
   ]
  },
  {
   "cell_type": "code",
   "execution_count": 41,
   "metadata": {},
   "outputs": [],
   "source": [
    "all_data[\"Functional\"] = all_data[\"Functional\"].fillna(\"Typ\")"
   ]
  },
  {
   "cell_type": "code",
   "execution_count": 42,
   "metadata": {},
   "outputs": [],
   "source": [
    "all_data['Electrical'] = all_data['Electrical'].fillna(all_data['Electrical'].mode()[0])"
   ]
  },
  {
   "cell_type": "code",
   "execution_count": 43,
   "metadata": {},
   "outputs": [],
   "source": [
    "all_data['KitchenQual'] = all_data['KitchenQual'].fillna(all_data['KitchenQual'].mode()[0])"
   ]
  },
  {
   "cell_type": "code",
   "execution_count": 44,
   "metadata": {},
   "outputs": [],
   "source": [
    "all_data['Exterior1st'] = all_data['Exterior1st'].fillna(all_data['Exterior1st'].mode()[0])\n",
    "all_data['Exterior2nd'] = all_data['Exterior2nd'].fillna(all_data['Exterior2nd'].mode()[0])"
   ]
  },
  {
   "cell_type": "code",
   "execution_count": 45,
   "metadata": {},
   "outputs": [],
   "source": [
    "all_data['SaleType'] = all_data['SaleType'].fillna(all_data['SaleType'].mode()[0])"
   ]
  },
  {
   "cell_type": "code",
   "execution_count": 46,
   "metadata": {},
   "outputs": [],
   "source": [
    "all_data['MSSubClass'] = all_data['MSSubClass'].fillna(\"None\")"
   ]
  },
  {
   "cell_type": "code",
   "execution_count": 47,
   "metadata": {},
   "outputs": [
    {
     "data": {
      "text/html": [
       "<div>\n",
       "<style scoped>\n",
       "    .dataframe tbody tr th:only-of-type {\n",
       "        vertical-align: middle;\n",
       "    }\n",
       "\n",
       "    .dataframe tbody tr th {\n",
       "        vertical-align: top;\n",
       "    }\n",
       "\n",
       "    .dataframe thead th {\n",
       "        text-align: right;\n",
       "    }\n",
       "</style>\n",
       "<table border=\"1\" class=\"dataframe\">\n",
       "  <thead>\n",
       "    <tr style=\"text-align: right;\">\n",
       "      <th></th>\n",
       "      <th>Total</th>\n",
       "      <th>Percent</th>\n",
       "    </tr>\n",
       "  </thead>\n",
       "  <tbody>\n",
       "    <tr>\n",
       "      <th>SaleCondition</th>\n",
       "      <td>0</td>\n",
       "      <td>0.0</td>\n",
       "    </tr>\n",
       "    <tr>\n",
       "      <th>BsmtQual</th>\n",
       "      <td>0</td>\n",
       "      <td>0.0</td>\n",
       "    </tr>\n",
       "    <tr>\n",
       "      <th>Exterior1st</th>\n",
       "      <td>0</td>\n",
       "      <td>0.0</td>\n",
       "    </tr>\n",
       "    <tr>\n",
       "      <th>Exterior2nd</th>\n",
       "      <td>0</td>\n",
       "      <td>0.0</td>\n",
       "    </tr>\n",
       "    <tr>\n",
       "      <th>MasVnrType</th>\n",
       "      <td>0</td>\n",
       "      <td>0.0</td>\n",
       "    </tr>\n",
       "    <tr>\n",
       "      <th>...</th>\n",
       "      <td>...</td>\n",
       "      <td>...</td>\n",
       "    </tr>\n",
       "    <tr>\n",
       "      <th>TotRmsAbvGrd</th>\n",
       "      <td>0</td>\n",
       "      <td>0.0</td>\n",
       "    </tr>\n",
       "    <tr>\n",
       "      <th>Functional</th>\n",
       "      <td>0</td>\n",
       "      <td>0.0</td>\n",
       "    </tr>\n",
       "    <tr>\n",
       "      <th>Fireplaces</th>\n",
       "      <td>0</td>\n",
       "      <td>0.0</td>\n",
       "    </tr>\n",
       "    <tr>\n",
       "      <th>FireplaceQu</th>\n",
       "      <td>0</td>\n",
       "      <td>0.0</td>\n",
       "    </tr>\n",
       "    <tr>\n",
       "      <th>MSSubClass</th>\n",
       "      <td>0</td>\n",
       "      <td>0.0</td>\n",
       "    </tr>\n",
       "  </tbody>\n",
       "</table>\n",
       "<p>78 rows × 2 columns</p>\n",
       "</div>"
      ],
      "text/plain": [
       "               Total  Percent\n",
       "SaleCondition      0      0.0\n",
       "BsmtQual           0      0.0\n",
       "Exterior1st        0      0.0\n",
       "Exterior2nd        0      0.0\n",
       "MasVnrType         0      0.0\n",
       "...              ...      ...\n",
       "TotRmsAbvGrd       0      0.0\n",
       "Functional         0      0.0\n",
       "Fireplaces         0      0.0\n",
       "FireplaceQu        0      0.0\n",
       "MSSubClass         0      0.0\n",
       "\n",
       "[78 rows x 2 columns]"
      ]
     },
     "execution_count": 47,
     "metadata": {},
     "output_type": "execute_result"
    }
   ],
   "source": [
    "# 检查缺失值是否填补完成\n",
    "\n",
    "Total = all_data.isnull().sum().sort_values(ascending=False)\n",
    "Percent = (all_data.isnull().sum()/all_data.isnull().count()).sort_values(ascending=False)*100\n",
    "missing_data = pd.concat([Total, Percent], axis=1, keys=[\"Total\", \"Percent\"])\n",
    "missing_data"
   ]
  },
  {
   "cell_type": "markdown",
   "metadata": {},
   "source": [
    "### 转换数据类型"
   ]
  },
  {
   "cell_type": "markdown",
   "metadata": {},
   "source": [
    "#### 连续性分类转变为object"
   ]
  },
  {
   "cell_type": "code",
   "execution_count": 48,
   "metadata": {},
   "outputs": [
    {
     "data": {
      "text/plain": [
       "count    2917.000000\n",
       "mean       57.135756\n",
       "std        42.532140\n",
       "min        20.000000\n",
       "25%        20.000000\n",
       "50%        50.000000\n",
       "75%        70.000000\n",
       "max       190.000000\n",
       "Name: MSSubClass, dtype: float64"
      ]
     },
     "execution_count": 48,
     "metadata": {},
     "output_type": "execute_result"
    }
   ],
   "source": [
    "all_data.MSSubClass.describe()"
   ]
  },
  {
   "cell_type": "code",
   "execution_count": 49,
   "metadata": {},
   "outputs": [
    {
     "data": {
      "text/plain": [
       "array([ 60,  20,  70,  50, 190,  45,  90, 120,  30,  85,  80, 160,  75,\n",
       "       180,  40, 150])"
      ]
     },
     "execution_count": 49,
     "metadata": {},
     "output_type": "execute_result"
    }
   ],
   "source": [
    "# 装换数字型变量为分类型变量\n",
    "all_data.MSSubClass.unique()"
   ]
  },
  {
   "cell_type": "code",
   "execution_count": 50,
   "metadata": {},
   "outputs": [],
   "source": [
    "all_data[\"MSSubClass\"] = all_data[\"MSSubClass\"].apply(str)"
   ]
  },
  {
   "cell_type": "code",
   "execution_count": 51,
   "metadata": {},
   "outputs": [
    {
     "data": {
      "text/plain": [
       "array(['60', '20', '70', '50', '190', '45', '90', '120', '30', '85', '80',\n",
       "       '160', '75', '180', '40', '150'], dtype=object)"
      ]
     },
     "execution_count": 51,
     "metadata": {},
     "output_type": "execute_result"
    }
   ],
   "source": [
    "all_data.MSSubClass.unique()"
   ]
  },
  {
   "cell_type": "code",
   "execution_count": 52,
   "metadata": {},
   "outputs": [],
   "source": [
    "## 总体状态额定值\n",
    "all_data[\"OverallCond\"] = all_data[\"OverallCond\"].astype(str)"
   ]
  },
  {
   "cell_type": "code",
   "execution_count": 53,
   "metadata": {},
   "outputs": [
    {
     "data": {
      "text/plain": [
       "array(['5', '8', '6', '7', '4', '2', '3', '9', '1'], dtype=object)"
      ]
     },
     "execution_count": 53,
     "metadata": {},
     "output_type": "execute_result"
    }
   ],
   "source": [
    "all_data.OverallCond.unique()"
   ]
  },
  {
   "cell_type": "code",
   "execution_count": 54,
   "metadata": {},
   "outputs": [],
   "source": [
    "## 修建年月\n",
    "all_data.YrSold = all_data.YrSold.astype(str)\n",
    "all_data.MoSold = all_data.MoSold.astype(str)"
   ]
  },
  {
   "cell_type": "code",
   "execution_count": 55,
   "metadata": {},
   "outputs": [
    {
     "data": {
      "text/plain": [
       "(array(['2', '5', '9', '12', '10', '8', '11', '4', '1', '7', '3', '6'],\n",
       "       dtype=object),\n",
       " array(['2008', '2007', '2006', '2009', '2010'], dtype=object))"
      ]
     },
     "execution_count": 55,
     "metadata": {},
     "output_type": "execute_result"
    }
   ],
   "source": [
    "all_data.MoSold.unique(), all_data.YrSold.unique()"
   ]
  },
  {
   "cell_type": "code",
   "execution_count": 56,
   "metadata": {},
   "outputs": [
    {
     "data": {
      "text/plain": [
       "Index(['MSSubClass', 'MSZoning', 'Street', 'Alley', 'LotShape', 'LandContour',\n",
       "       'LotConfig', 'LandSlope', 'Neighborhood', 'Condition1', 'Condition2',\n",
       "       'BldgType', 'HouseStyle', 'OverallCond', 'RoofStyle', 'RoofMatl',\n",
       "       'Exterior1st', 'Exterior2nd', 'MasVnrType', 'ExterQual', 'ExterCond',\n",
       "       'Foundation', 'BsmtQual', 'BsmtCond', 'BsmtExposure', 'BsmtFinType1',\n",
       "       'BsmtFinType2', 'Heating', 'HeatingQC', 'CentralAir', 'Electrical',\n",
       "       'KitchenQual', 'Functional', 'FireplaceQu', 'GarageType',\n",
       "       'GarageFinish', 'GarageQual', 'GarageCond', 'PavedDrive', 'PoolQC',\n",
       "       'Fence', 'MiscFeature', 'MoSold', 'YrSold', 'SaleType',\n",
       "       'SaleCondition'],\n",
       "      dtype='object')"
      ]
     },
     "execution_count": 56,
     "metadata": {},
     "output_type": "execute_result"
    }
   ],
   "source": [
    "all_data.select_dtypes(\"object\").columns"
   ]
  },
  {
   "cell_type": "markdown",
   "metadata": {},
   "source": [
    "#### 数据编码"
   ]
  },
  {
   "cell_type": "code",
   "execution_count": 57,
   "metadata": {},
   "outputs": [],
   "source": [
    "from sklearn.preprocessing import LabelEncoder\n",
    "\n",
    "cols = ('FireplaceQu', 'BsmtQual', 'BsmtCond', 'GarageQual', 'GarageCond', \n",
    "        'ExterQual', 'ExterCond','HeatingQC', 'PoolQC', 'KitchenQual', 'BsmtFinType1', \n",
    "        'BsmtFinType2', 'Functional', 'Fence', 'BsmtExposure', 'GarageFinish', 'LandSlope',\n",
    "        'LotShape', 'PavedDrive', 'Street', 'Alley', 'CentralAir', 'MSSubClass', 'OverallCond', \n",
    "        'YrSold', 'MoSold')\n",
    "\n",
    "for col in cols:\n",
    "    lbl = LabelEncoder()\n",
    "    lbl = lbl.fit(all_data[col])\n",
    "    all_data[col] = lbl.transform(all_data[col])"
   ]
  },
  {
   "cell_type": "code",
   "execution_count": 58,
   "metadata": {},
   "outputs": [],
   "source": [
    "# Adding total sqfootage feature \n",
    "all_data['TotalSF'] = all_data['TotalBsmtSF'] + all_data['1stFlrSF'] + all_data['2ndFlrSF']"
   ]
  },
  {
   "cell_type": "code",
   "execution_count": 59,
   "metadata": {},
   "outputs": [
    {
     "data": {
      "text/html": [
       "<div>\n",
       "<style scoped>\n",
       "    .dataframe tbody tr th:only-of-type {\n",
       "        vertical-align: middle;\n",
       "    }\n",
       "\n",
       "    .dataframe tbody tr th {\n",
       "        vertical-align: top;\n",
       "    }\n",
       "\n",
       "    .dataframe thead th {\n",
       "        text-align: right;\n",
       "    }\n",
       "</style>\n",
       "<table border=\"1\" class=\"dataframe\">\n",
       "  <thead>\n",
       "    <tr style=\"text-align: right;\">\n",
       "      <th></th>\n",
       "      <th>MSSubClass</th>\n",
       "      <th>MSZoning</th>\n",
       "      <th>LotFrontage</th>\n",
       "      <th>LotArea</th>\n",
       "      <th>Street</th>\n",
       "      <th>Alley</th>\n",
       "      <th>LotShape</th>\n",
       "      <th>LandContour</th>\n",
       "      <th>LotConfig</th>\n",
       "      <th>LandSlope</th>\n",
       "      <th>...</th>\n",
       "      <th>PoolArea</th>\n",
       "      <th>PoolQC</th>\n",
       "      <th>Fence</th>\n",
       "      <th>MiscFeature</th>\n",
       "      <th>MiscVal</th>\n",
       "      <th>MoSold</th>\n",
       "      <th>YrSold</th>\n",
       "      <th>SaleType</th>\n",
       "      <th>SaleCondition</th>\n",
       "      <th>TotalSF</th>\n",
       "    </tr>\n",
       "  </thead>\n",
       "  <tbody>\n",
       "    <tr>\n",
       "      <th>0</th>\n",
       "      <td>10</td>\n",
       "      <td>RL</td>\n",
       "      <td>65.0</td>\n",
       "      <td>8450</td>\n",
       "      <td>1</td>\n",
       "      <td>1</td>\n",
       "      <td>3</td>\n",
       "      <td>Lvl</td>\n",
       "      <td>Inside</td>\n",
       "      <td>0</td>\n",
       "      <td>...</td>\n",
       "      <td>0</td>\n",
       "      <td>3</td>\n",
       "      <td>4</td>\n",
       "      <td>None</td>\n",
       "      <td>0</td>\n",
       "      <td>4</td>\n",
       "      <td>2</td>\n",
       "      <td>WD</td>\n",
       "      <td>Normal</td>\n",
       "      <td>2566.0</td>\n",
       "    </tr>\n",
       "    <tr>\n",
       "      <th>1</th>\n",
       "      <td>5</td>\n",
       "      <td>RL</td>\n",
       "      <td>80.0</td>\n",
       "      <td>9600</td>\n",
       "      <td>1</td>\n",
       "      <td>1</td>\n",
       "      <td>3</td>\n",
       "      <td>Lvl</td>\n",
       "      <td>FR2</td>\n",
       "      <td>0</td>\n",
       "      <td>...</td>\n",
       "      <td>0</td>\n",
       "      <td>3</td>\n",
       "      <td>4</td>\n",
       "      <td>None</td>\n",
       "      <td>0</td>\n",
       "      <td>7</td>\n",
       "      <td>1</td>\n",
       "      <td>WD</td>\n",
       "      <td>Normal</td>\n",
       "      <td>2524.0</td>\n",
       "    </tr>\n",
       "    <tr>\n",
       "      <th>2</th>\n",
       "      <td>10</td>\n",
       "      <td>RL</td>\n",
       "      <td>68.0</td>\n",
       "      <td>11250</td>\n",
       "      <td>1</td>\n",
       "      <td>1</td>\n",
       "      <td>0</td>\n",
       "      <td>Lvl</td>\n",
       "      <td>Inside</td>\n",
       "      <td>0</td>\n",
       "      <td>...</td>\n",
       "      <td>0</td>\n",
       "      <td>3</td>\n",
       "      <td>4</td>\n",
       "      <td>None</td>\n",
       "      <td>0</td>\n",
       "      <td>11</td>\n",
       "      <td>2</td>\n",
       "      <td>WD</td>\n",
       "      <td>Normal</td>\n",
       "      <td>2706.0</td>\n",
       "    </tr>\n",
       "    <tr>\n",
       "      <th>3</th>\n",
       "      <td>11</td>\n",
       "      <td>RL</td>\n",
       "      <td>60.0</td>\n",
       "      <td>9550</td>\n",
       "      <td>1</td>\n",
       "      <td>1</td>\n",
       "      <td>0</td>\n",
       "      <td>Lvl</td>\n",
       "      <td>Corner</td>\n",
       "      <td>0</td>\n",
       "      <td>...</td>\n",
       "      <td>0</td>\n",
       "      <td>3</td>\n",
       "      <td>4</td>\n",
       "      <td>None</td>\n",
       "      <td>0</td>\n",
       "      <td>4</td>\n",
       "      <td>0</td>\n",
       "      <td>WD</td>\n",
       "      <td>Abnorml</td>\n",
       "      <td>2473.0</td>\n",
       "    </tr>\n",
       "    <tr>\n",
       "      <th>4</th>\n",
       "      <td>10</td>\n",
       "      <td>RL</td>\n",
       "      <td>84.0</td>\n",
       "      <td>14260</td>\n",
       "      <td>1</td>\n",
       "      <td>1</td>\n",
       "      <td>0</td>\n",
       "      <td>Lvl</td>\n",
       "      <td>FR2</td>\n",
       "      <td>0</td>\n",
       "      <td>...</td>\n",
       "      <td>0</td>\n",
       "      <td>3</td>\n",
       "      <td>4</td>\n",
       "      <td>None</td>\n",
       "      <td>0</td>\n",
       "      <td>3</td>\n",
       "      <td>2</td>\n",
       "      <td>WD</td>\n",
       "      <td>Normal</td>\n",
       "      <td>3343.0</td>\n",
       "    </tr>\n",
       "  </tbody>\n",
       "</table>\n",
       "<p>5 rows × 79 columns</p>\n",
       "</div>"
      ],
      "text/plain": [
       "   MSSubClass MSZoning  LotFrontage  LotArea  Street  Alley  LotShape  \\\n",
       "0          10       RL         65.0     8450       1      1         3   \n",
       "1           5       RL         80.0     9600       1      1         3   \n",
       "2          10       RL         68.0    11250       1      1         0   \n",
       "3          11       RL         60.0     9550       1      1         0   \n",
       "4          10       RL         84.0    14260       1      1         0   \n",
       "\n",
       "  LandContour LotConfig  LandSlope  ... PoolArea PoolQC Fence MiscFeature  \\\n",
       "0         Lvl    Inside          0  ...        0      3     4        None   \n",
       "1         Lvl       FR2          0  ...        0      3     4        None   \n",
       "2         Lvl    Inside          0  ...        0      3     4        None   \n",
       "3         Lvl    Corner          0  ...        0      3     4        None   \n",
       "4         Lvl       FR2          0  ...        0      3     4        None   \n",
       "\n",
       "  MiscVal  MoSold  YrSold  SaleType  SaleCondition TotalSF  \n",
       "0       0       4       2        WD         Normal  2566.0  \n",
       "1       0       7       1        WD         Normal  2524.0  \n",
       "2       0      11       2        WD         Normal  2706.0  \n",
       "3       0       4       0        WD        Abnorml  2473.0  \n",
       "4       0       3       2        WD         Normal  3343.0  \n",
       "\n",
       "[5 rows x 79 columns]"
      ]
     },
     "execution_count": 59,
     "metadata": {},
     "output_type": "execute_result"
    }
   ],
   "source": [
    "all_data.head()"
   ]
  },
  {
   "cell_type": "code",
   "execution_count": 60,
   "metadata": {},
   "outputs": [
    {
     "data": {
      "text/plain": [
       "Index(['MSSubClass', 'LotFrontage', 'LotArea', 'Street', 'Alley', 'LotShape',\n",
       "       'LandSlope', 'OverallQual', 'OverallCond', 'YearBuilt', 'YearRemodAdd',\n",
       "       'MasVnrArea', 'ExterQual', 'ExterCond', 'BsmtQual', 'BsmtCond',\n",
       "       'BsmtExposure', 'BsmtFinType1', 'BsmtFinSF1', 'BsmtFinType2',\n",
       "       'BsmtFinSF2', 'BsmtUnfSF', 'TotalBsmtSF', 'HeatingQC', 'CentralAir',\n",
       "       '1stFlrSF', '2ndFlrSF', 'LowQualFinSF', 'GrLivArea', 'BsmtFullBath',\n",
       "       'BsmtHalfBath', 'FullBath', 'HalfBath', 'BedroomAbvGr', 'KitchenAbvGr',\n",
       "       'KitchenQual', 'TotRmsAbvGrd', 'Functional', 'Fireplaces',\n",
       "       'FireplaceQu', 'GarageYrBlt', 'GarageFinish', 'GarageCars',\n",
       "       'GarageArea', 'GarageQual', 'GarageCond', 'PavedDrive', 'WoodDeckSF',\n",
       "       'OpenPorchSF', 'EnclosedPorch', '3SsnPorch', 'ScreenPorch', 'PoolArea',\n",
       "       'PoolQC', 'Fence', 'MiscVal', 'MoSold', 'YrSold', 'TotalSF'],\n",
       "      dtype='object')"
      ]
     },
     "execution_count": 60,
     "metadata": {},
     "output_type": "execute_result"
    }
   ],
   "source": [
    "## 数值性特征的偏度\n",
    "numeric_feats = all_data.dtypes[all_data.dtypes != \"object\"].index\n",
    "numeric_feats"
   ]
  },
  {
   "cell_type": "code",
   "execution_count": 61,
   "metadata": {},
   "outputs": [],
   "source": [
    "## 检查数据的偏度\n",
    "skew_fea = pd.DataFrame(all_data[numeric_feats].apply(lambda x:skew(x.dropna()\n",
    "                                                        )).sort_values(ascending=False))"
   ]
  },
  {
   "cell_type": "code",
   "execution_count": 62,
   "metadata": {},
   "outputs": [],
   "source": [
    "skew_fea.rename(columns={0:\"Skew\"}, inplace=True)"
   ]
  },
  {
   "cell_type": "code",
   "execution_count": 63,
   "metadata": {},
   "outputs": [
    {
     "data": {
      "text/html": [
       "<div>\n",
       "<style scoped>\n",
       "    .dataframe tbody tr th:only-of-type {\n",
       "        vertical-align: middle;\n",
       "    }\n",
       "\n",
       "    .dataframe tbody tr th {\n",
       "        vertical-align: top;\n",
       "    }\n",
       "\n",
       "    .dataframe thead th {\n",
       "        text-align: right;\n",
       "    }\n",
       "</style>\n",
       "<table border=\"1\" class=\"dataframe\">\n",
       "  <thead>\n",
       "    <tr style=\"text-align: right;\">\n",
       "      <th></th>\n",
       "      <th>Skew</th>\n",
       "    </tr>\n",
       "  </thead>\n",
       "  <tbody>\n",
       "    <tr>\n",
       "      <th>MiscVal</th>\n",
       "      <td>21.939672</td>\n",
       "    </tr>\n",
       "    <tr>\n",
       "      <th>PoolArea</th>\n",
       "      <td>17.688664</td>\n",
       "    </tr>\n",
       "    <tr>\n",
       "      <th>LotArea</th>\n",
       "      <td>13.109495</td>\n",
       "    </tr>\n",
       "    <tr>\n",
       "      <th>LowQualFinSF</th>\n",
       "      <td>12.084539</td>\n",
       "    </tr>\n",
       "    <tr>\n",
       "      <th>3SsnPorch</th>\n",
       "      <td>11.372080</td>\n",
       "    </tr>\n",
       "    <tr>\n",
       "      <th>LandSlope</th>\n",
       "      <td>4.973254</td>\n",
       "    </tr>\n",
       "    <tr>\n",
       "      <th>KitchenAbvGr</th>\n",
       "      <td>4.300550</td>\n",
       "    </tr>\n",
       "    <tr>\n",
       "      <th>BsmtFinSF2</th>\n",
       "      <td>4.144503</td>\n",
       "    </tr>\n",
       "    <tr>\n",
       "      <th>EnclosedPorch</th>\n",
       "      <td>4.002344</td>\n",
       "    </tr>\n",
       "    <tr>\n",
       "      <th>ScreenPorch</th>\n",
       "      <td>3.945101</td>\n",
       "    </tr>\n",
       "    <tr>\n",
       "      <th>BsmtHalfBath</th>\n",
       "      <td>3.929996</td>\n",
       "    </tr>\n",
       "    <tr>\n",
       "      <th>MasVnrArea</th>\n",
       "      <td>2.621719</td>\n",
       "    </tr>\n",
       "    <tr>\n",
       "      <th>OpenPorchSF</th>\n",
       "      <td>2.529358</td>\n",
       "    </tr>\n",
       "    <tr>\n",
       "      <th>WoodDeckSF</th>\n",
       "      <td>1.844792</td>\n",
       "    </tr>\n",
       "    <tr>\n",
       "      <th>1stFlrSF</th>\n",
       "      <td>1.257286</td>\n",
       "    </tr>\n",
       "    <tr>\n",
       "      <th>LotFrontage</th>\n",
       "      <td>1.103039</td>\n",
       "    </tr>\n",
       "    <tr>\n",
       "      <th>GrLivArea</th>\n",
       "      <td>1.068750</td>\n",
       "    </tr>\n",
       "    <tr>\n",
       "      <th>TotalSF</th>\n",
       "      <td>1.009157</td>\n",
       "    </tr>\n",
       "    <tr>\n",
       "      <th>BsmtFinSF1</th>\n",
       "      <td>0.980645</td>\n",
       "    </tr>\n",
       "    <tr>\n",
       "      <th>BsmtUnfSF</th>\n",
       "      <td>0.919688</td>\n",
       "    </tr>\n",
       "    <tr>\n",
       "      <th>2ndFlrSF</th>\n",
       "      <td>0.861556</td>\n",
       "    </tr>\n",
       "    <tr>\n",
       "      <th>TotRmsAbvGrd</th>\n",
       "      <td>0.749232</td>\n",
       "    </tr>\n",
       "    <tr>\n",
       "      <th>Fireplaces</th>\n",
       "      <td>0.725278</td>\n",
       "    </tr>\n",
       "    <tr>\n",
       "      <th>HalfBath</th>\n",
       "      <td>0.696666</td>\n",
       "    </tr>\n",
       "    <tr>\n",
       "      <th>TotalBsmtSF</th>\n",
       "      <td>0.671751</td>\n",
       "    </tr>\n",
       "    <tr>\n",
       "      <th>BsmtFullBath</th>\n",
       "      <td>0.622415</td>\n",
       "    </tr>\n",
       "    <tr>\n",
       "      <th>OverallCond</th>\n",
       "      <td>0.569314</td>\n",
       "    </tr>\n",
       "    <tr>\n",
       "      <th>HeatingQC</th>\n",
       "      <td>0.485534</td>\n",
       "    </tr>\n",
       "    <tr>\n",
       "      <th>FireplaceQu</th>\n",
       "      <td>0.332611</td>\n",
       "    </tr>\n",
       "    <tr>\n",
       "      <th>BedroomAbvGr</th>\n",
       "      <td>0.326568</td>\n",
       "    </tr>\n",
       "    <tr>\n",
       "      <th>GarageArea</th>\n",
       "      <td>0.216857</td>\n",
       "    </tr>\n",
       "    <tr>\n",
       "      <th>OverallQual</th>\n",
       "      <td>0.189591</td>\n",
       "    </tr>\n",
       "    <tr>\n",
       "      <th>FullBath</th>\n",
       "      <td>0.165514</td>\n",
       "    </tr>\n",
       "    <tr>\n",
       "      <th>MSSubClass</th>\n",
       "      <td>0.139709</td>\n",
       "    </tr>\n",
       "    <tr>\n",
       "      <th>YrSold</th>\n",
       "      <td>0.131996</td>\n",
       "    </tr>\n",
       "    <tr>\n",
       "      <th>BsmtFinType1</th>\n",
       "      <td>0.083641</td>\n",
       "    </tr>\n",
       "    <tr>\n",
       "      <th>GarageCars</th>\n",
       "      <td>-0.219297</td>\n",
       "    </tr>\n",
       "    <tr>\n",
       "      <th>YearRemodAdd</th>\n",
       "      <td>-0.450134</td>\n",
       "    </tr>\n",
       "    <tr>\n",
       "      <th>BsmtQual</th>\n",
       "      <td>-0.488362</td>\n",
       "    </tr>\n",
       "    <tr>\n",
       "      <th>YearBuilt</th>\n",
       "      <td>-0.599194</td>\n",
       "    </tr>\n",
       "    <tr>\n",
       "      <th>GarageFinish</th>\n",
       "      <td>-0.609953</td>\n",
       "    </tr>\n",
       "    <tr>\n",
       "      <th>LotShape</th>\n",
       "      <td>-0.618564</td>\n",
       "    </tr>\n",
       "    <tr>\n",
       "      <th>MoSold</th>\n",
       "      <td>-0.646173</td>\n",
       "    </tr>\n",
       "    <tr>\n",
       "      <th>Alley</th>\n",
       "      <td>-0.651705</td>\n",
       "    </tr>\n",
       "    <tr>\n",
       "      <th>BsmtExposure</th>\n",
       "      <td>-1.117321</td>\n",
       "    </tr>\n",
       "    <tr>\n",
       "      <th>KitchenQual</th>\n",
       "      <td>-1.449814</td>\n",
       "    </tr>\n",
       "    <tr>\n",
       "      <th>ExterQual</th>\n",
       "      <td>-1.800062</td>\n",
       "    </tr>\n",
       "    <tr>\n",
       "      <th>Fence</th>\n",
       "      <td>-1.992649</td>\n",
       "    </tr>\n",
       "    <tr>\n",
       "      <th>ExterCond</th>\n",
       "      <td>-2.496489</td>\n",
       "    </tr>\n",
       "    <tr>\n",
       "      <th>BsmtCond</th>\n",
       "      <td>-2.861271</td>\n",
       "    </tr>\n",
       "    <tr>\n",
       "      <th>PavedDrive</th>\n",
       "      <td>-2.977741</td>\n",
       "    </tr>\n",
       "    <tr>\n",
       "      <th>BsmtFinType2</th>\n",
       "      <td>-3.042979</td>\n",
       "    </tr>\n",
       "    <tr>\n",
       "      <th>GarageQual</th>\n",
       "      <td>-3.072788</td>\n",
       "    </tr>\n",
       "    <tr>\n",
       "      <th>CentralAir</th>\n",
       "      <td>-3.457555</td>\n",
       "    </tr>\n",
       "    <tr>\n",
       "      <th>GarageCond</th>\n",
       "      <td>-3.594290</td>\n",
       "    </tr>\n",
       "    <tr>\n",
       "      <th>GarageYrBlt</th>\n",
       "      <td>-3.904632</td>\n",
       "    </tr>\n",
       "    <tr>\n",
       "      <th>Functional</th>\n",
       "      <td>-4.054126</td>\n",
       "    </tr>\n",
       "    <tr>\n",
       "      <th>Street</th>\n",
       "      <td>-15.494756</td>\n",
       "    </tr>\n",
       "    <tr>\n",
       "      <th>PoolQC</th>\n",
       "      <td>-21.217600</td>\n",
       "    </tr>\n",
       "  </tbody>\n",
       "</table>\n",
       "</div>"
      ],
      "text/plain": [
       "                    Skew\n",
       "MiscVal        21.939672\n",
       "PoolArea       17.688664\n",
       "LotArea        13.109495\n",
       "LowQualFinSF   12.084539\n",
       "3SsnPorch      11.372080\n",
       "LandSlope       4.973254\n",
       "KitchenAbvGr    4.300550\n",
       "BsmtFinSF2      4.144503\n",
       "EnclosedPorch   4.002344\n",
       "ScreenPorch     3.945101\n",
       "BsmtHalfBath    3.929996\n",
       "MasVnrArea      2.621719\n",
       "OpenPorchSF     2.529358\n",
       "WoodDeckSF      1.844792\n",
       "1stFlrSF        1.257286\n",
       "LotFrontage     1.103039\n",
       "GrLivArea       1.068750\n",
       "TotalSF         1.009157\n",
       "BsmtFinSF1      0.980645\n",
       "BsmtUnfSF       0.919688\n",
       "2ndFlrSF        0.861556\n",
       "TotRmsAbvGrd    0.749232\n",
       "Fireplaces      0.725278\n",
       "HalfBath        0.696666\n",
       "TotalBsmtSF     0.671751\n",
       "BsmtFullBath    0.622415\n",
       "OverallCond     0.569314\n",
       "HeatingQC       0.485534\n",
       "FireplaceQu     0.332611\n",
       "BedroomAbvGr    0.326568\n",
       "GarageArea      0.216857\n",
       "OverallQual     0.189591\n",
       "FullBath        0.165514\n",
       "MSSubClass      0.139709\n",
       "YrSold          0.131996\n",
       "BsmtFinType1    0.083641\n",
       "GarageCars     -0.219297\n",
       "YearRemodAdd   -0.450134\n",
       "BsmtQual       -0.488362\n",
       "YearBuilt      -0.599194\n",
       "GarageFinish   -0.609953\n",
       "LotShape       -0.618564\n",
       "MoSold         -0.646173\n",
       "Alley          -0.651705\n",
       "BsmtExposure   -1.117321\n",
       "KitchenQual    -1.449814\n",
       "ExterQual      -1.800062\n",
       "Fence          -1.992649\n",
       "ExterCond      -2.496489\n",
       "BsmtCond       -2.861271\n",
       "PavedDrive     -2.977741\n",
       "BsmtFinType2   -3.042979\n",
       "GarageQual     -3.072788\n",
       "CentralAir     -3.457555\n",
       "GarageCond     -3.594290\n",
       "GarageYrBlt    -3.904632\n",
       "Functional     -4.054126\n",
       "Street        -15.494756\n",
       "PoolQC        -21.217600"
      ]
     },
     "execution_count": 63,
     "metadata": {},
     "output_type": "execute_result"
    }
   ],
   "source": [
    "skew_fea"
   ]
  },
  {
   "cell_type": "markdown",
   "metadata": {},
   "source": [
    "boxcox目的:  \n",
    "1. boxcox是将数据分布正态化，使其更加符合后续对数据分布的假设。\n",
    "2. boxcox可以降低skewness值，达到接近正态分布的目标。"
   ]
  },
  {
   "cell_type": "code",
   "execution_count": 64,
   "metadata": {},
   "outputs": [
    {
     "data": {
      "text/plain": [
       "Index(['MiscVal', 'PoolArea', 'LotArea', 'LowQualFinSF', '3SsnPorch',\n",
       "       'LandSlope', 'KitchenAbvGr', 'BsmtFinSF2', 'EnclosedPorch',\n",
       "       'ScreenPorch', 'BsmtHalfBath', 'MasVnrArea', 'OpenPorchSF',\n",
       "       'WoodDeckSF', '1stFlrSF', 'LotFrontage', 'GrLivArea', 'TotalSF',\n",
       "       'BsmtFinSF1', 'BsmtUnfSF', '2ndFlrSF', 'TotRmsAbvGrd', 'Fireplaces',\n",
       "       'HalfBath', 'TotalBsmtSF', 'BsmtFullBath', 'OverallCond', 'HeatingQC',\n",
       "       'FireplaceQu', 'BedroomAbvGr', 'GarageArea', 'OverallQual', 'FullBath',\n",
       "       'MSSubClass', 'YrSold', 'BsmtFinType1', 'GarageCars', 'YearRemodAdd',\n",
       "       'BsmtQual', 'YearBuilt', 'GarageFinish', 'LotShape', 'MoSold', 'Alley',\n",
       "       'BsmtExposure', 'KitchenQual', 'ExterQual', 'Fence', 'ExterCond',\n",
       "       'BsmtCond', 'PavedDrive', 'BsmtFinType2', 'GarageQual', 'CentralAir',\n",
       "       'GarageCond', 'GarageYrBlt', 'Functional', 'Street', 'PoolQC'],\n",
       "      dtype='object')"
      ]
     },
     "execution_count": 64,
     "metadata": {},
     "output_type": "execute_result"
    }
   ],
   "source": [
    "skewness = skew_fea[abs(skew_fea) > 0.75]\n",
    "from scipy.special import boxcox1p\n",
    "skewed_features = skewness.index\n",
    "skewed_features"
   ]
  },
  {
   "cell_type": "code",
   "execution_count": 65,
   "metadata": {},
   "outputs": [],
   "source": [
    "lam = 0.15\n",
    "for feat in skewed_features:\n",
    "    all_data[feat] = boxcox1p(all_data[feat], lam)"
   ]
  },
  {
   "cell_type": "code",
   "execution_count": 66,
   "metadata": {},
   "outputs": [],
   "source": [
    "## 装换数据为哑变量\n",
    "all_data = pd.get_dummies(all_data)"
   ]
  },
  {
   "cell_type": "code",
   "execution_count": 4,
   "metadata": {},
   "outputs": [],
   "source": [
    "train = all_data[:len(train)]\n",
    "test = all_data[len(train):]\n",
    "train.to_csv(\"data/pre_train.csv\")\n",
    "test.to_csv(\"data/pre_test.csv\")\n",
    "pd.DataFrame(y_train).to_csv(\"data/y_train.csv\")"
   ]
  },
  {
   "cell_type": "markdown",
   "metadata": {},
   "source": [
    "## 建模"
   ]
  },
  {
   "cell_type": "code",
   "execution_count": 7,
   "metadata": {},
   "outputs": [],
   "source": [
    "from sklearn.linear_model import LinearRegression\n",
    "from sklearn.linear_model import Lasso\n",
    "from sklearn.linear_model import LassoCV\n",
    "from sklearn.linear_model import Ridge\n",
    "from sklearn.linear_model import RidgeCV\n",
    "from sklearn.tree import DecisionTreeRegressor\n",
    "from sklearn.svm import SVR\n",
    "from sklearn.ensemble import RandomForestRegressor as RF\n",
    "from sklearn.model_selection import GridSearchCV\n",
    "from sklearn.model_selection import cross_val_score\n",
    "from sklearn.model_selection import KFold\n",
    "import lightgbm as lgb\n",
    "from sklearn.model_selection import train_test_split\n",
    "import xgboost as xgb\n",
    "from time import time\n",
    "import datetime"
   ]
  },
  {
   "cell_type": "markdown",
   "metadata": {},
   "source": [
    "### 读取处理好数据"
   ]
  },
  {
   "cell_type": "code",
   "execution_count": 6,
   "metadata": {},
   "outputs": [],
   "source": [
    "train = pd.read_csv(\"./data/pre_train.csv\", index_col=0)\n",
    "test = pd.read_csv(\"./data/pre_test.csv\", index_col=0)\n",
    "y_train = pd.read_csv('./data/y_train.csv',index_col=0)\n",
    "y_train = y_train.values.ravel()  # 预测标签为一维数值"
   ]
  },
  {
   "cell_type": "markdown",
   "metadata": {},
   "source": [
    "### 自定义均方根误差"
   ]
  },
  {
   "cell_type": "code",
   "execution_count": 70,
   "metadata": {},
   "outputs": [],
   "source": [
    "def rmse(model, x, y):\n",
    "    \"\"\"定义均方根误差\"\"\"\n",
    "    \n",
    "    rmse = np.sqrt(-cross_val_score(model, x\n",
    "                                    , y\n",
    "                                    , scoring=\"neg_mean_squared_error\"\n",
    "                                    , cv=5))\n",
    "    return rmse"
   ]
  },
  {
   "cell_type": "code",
   "execution_count": 71,
   "metadata": {},
   "outputs": [
    {
     "name": "stdout",
     "output_type": "stream",
     "text": [
      "LR: mean: 139173342.470643, std: 154743936.8679\n",
      "Lasso: mean: 0.119083, std: 0.0101\n",
      "Ridge: mean: 0.399471, std: 0.0158\n",
      "SVR: mean: 0.143315, std: 0.0057\n",
      "RF: mean: 0.138800, std: 0.0029\n",
      "DtreeR: mean: 0.201168, std: 0.0141\n"
     ]
    }
   ],
   "source": [
    "LR = LinearRegression()\n",
    "ridge = Ridge()\n",
    "lasso = Lasso()\n",
    "svr = SVR()\n",
    "rf = RF()\n",
    "dtr = DecisionTreeRegressor()\n",
    "models = [LR, ridge, lasso, svr, rf, dtr]\n",
    "names = [\"LR\", \"Lasso\", \"Ridge\", \"SVR\", \"RF\", \"DtreeR\"]\n",
    "for name, model in zip(names, models):\n",
    "    score = rmse(model, train, y_train)\n",
    "    print(\"{}: mean: {:.6f}, std: {:.4f}\".format(name\n",
    "                      , score.mean()\n",
    "                      , score.std()\n",
    "                     ))"
   ]
  },
  {
   "cell_type": "markdown",
   "metadata": {},
   "source": [
    "### 网格搜索进行调参"
   ]
  },
  {
   "cell_type": "code",
   "execution_count": 72,
   "metadata": {},
   "outputs": [],
   "source": [
    "class GridSearch:\n",
    "    \"\"\"回归模型网格搜索\"\"\"\n",
    "    \n",
    "    def __init__(self, model):\n",
    "        self.model = model\n",
    "    \n",
    "    def grid_get(self, X, y, param_grid):\n",
    "        \"\"\"参数搜索\"\"\"\n",
    "        grid_search = GridSearchCV(self.model\n",
    "                                   , param_grid =param_grid, scoring=\"neg_mean_squared_error\"\n",
    "                                   ,cv=5\n",
    "                                  )\n",
    "        grid_search.fit(X, y)\n",
    "        print(grid_search.best_params_, np.sqrt(-grid_search.best_score_))\n",
    "        print(pd.DataFrame(grid_search.cv_results_)[[\"params\", \"mean_test_score\", \"std_test_score\"]])"
   ]
  },
  {
   "cell_type": "markdown",
   "metadata": {},
   "source": [
    "### 岭回归模型"
   ]
  },
  {
   "cell_type": "markdown",
   "metadata": {},
   "source": [
    "#### 网格搜素"
   ]
  },
  {
   "cell_type": "code",
   "execution_count": 73,
   "metadata": {},
   "outputs": [
    {
     "name": "stdout",
     "output_type": "stream",
     "text": [
      "{'alpha': 9} 0.11596369356531004\n",
      "          params  mean_test_score  std_test_score\n",
      "0   {'alpha': 1}        -0.014283        0.002476\n",
      "1   {'alpha': 2}        -0.013906        0.002303\n",
      "2   {'alpha': 3}        -0.013708        0.002187\n",
      "3   {'alpha': 4}        -0.013593        0.002102\n",
      "4   {'alpha': 5}        -0.013523        0.002036\n",
      "5   {'alpha': 6}        -0.013481        0.001983\n",
      "6   {'alpha': 7}        -0.013458        0.001938\n",
      "7   {'alpha': 8}        -0.013448        0.001900\n",
      "8   {'alpha': 9}        -0.013448        0.001866\n",
      "9  {'alpha': 10}        -0.013455        0.001837\n",
      "处理时间： 00:00:649041\n"
     ]
    }
   ],
   "source": [
    "ridge = Ridge()\n",
    "param_gird = {\"alpha\":np.arange(1, 11, 1)}\n",
    "t0 = time()\n",
    "GridSearch(ridge).grid_get(train, y_train, param_gird)\n",
    "print(\"处理时间：\",datetime.datetime.fromtimestamp(time()-t0).strftime(\"%M:%S:%f\"))"
   ]
  },
  {
   "cell_type": "code",
   "execution_count": 74,
   "metadata": {},
   "outputs": [
    {
     "data": {
      "text/plain": [
       "Ridge(alpha=9)"
      ]
     },
     "execution_count": 74,
     "metadata": {},
     "output_type": "execute_result"
    }
   ],
   "source": [
    "ridge = Ridge(alpha=9)\n",
    "ridge.fit(train, y_train)"
   ]
  },
  {
   "cell_type": "markdown",
   "metadata": {},
   "source": [
    "#### RidgeCV "
   ]
  },
  {
   "cell_type": "code",
   "execution_count": 75,
   "metadata": {},
   "outputs": [
    {
     "data": {
      "text/plain": [
       "10"
      ]
     },
     "execution_count": 75,
     "metadata": {},
     "output_type": "execute_result"
    }
   ],
   "source": [
    "ridgcv = RidgeCV(alphas=(1, 10, 1), scoring=\"neg_mean_squared_error\", store_cv_values=False)\n",
    "ridgcv.fit(train, y_train)\n",
    "ridgcv.alpha_"
   ]
  },
  {
   "cell_type": "code",
   "execution_count": 76,
   "metadata": {},
   "outputs": [
    {
     "data": {
      "text/plain": [
       "0.9365675800246268"
      ]
     },
     "execution_count": 76,
     "metadata": {},
     "output_type": "execute_result"
    }
   ],
   "source": [
    "ridgcv.score(train, y_train)"
   ]
  },
  {
   "cell_type": "code",
   "execution_count": 77,
   "metadata": {},
   "outputs": [],
   "source": [
    "predict = ridgcv.predict(test)"
   ]
  },
  {
   "cell_type": "markdown",
   "metadata": {},
   "source": [
    "### Lasso模型\n",
    "lasso无法解决精确相关性"
   ]
  },
  {
   "cell_type": "markdown",
   "metadata": {},
   "source": [
    "#### 网格搜索"
   ]
  },
  {
   "cell_type": "code",
   "execution_count": 78,
   "metadata": {},
   "outputs": [
    {
     "name": "stdout",
     "output_type": "stream",
     "text": [
      "{'alpha': 0.00043} 0.11356475521449062\n",
      "                              params  mean_test_score  std_test_score\n",
      "0                 {'alpha': 0.00043}        -0.012897        0.001809\n",
      "1                 {'alpha': 0.00044}        -0.012898        0.001806\n",
      "2  {'alpha': 0.00045000000000000004}        -0.012900        0.001803\n",
      "3  {'alpha': 0.00046000000000000007}        -0.012904        0.001800\n",
      "4   {'alpha': 0.0004700000000000001}        -0.012909        0.001798\n",
      "5   {'alpha': 0.0004800000000000001}        -0.012914        0.001795\n",
      "6   {'alpha': 0.0004900000000000002}        -0.012919        0.001793\n",
      "7   {'alpha': 0.0005000000000000002}        -0.012924        0.001790\n",
      "处理时间： 00:02:327913\n"
     ]
    }
   ],
   "source": [
    "lasso = Lasso()\n",
    "param_gird = {\"alpha\":np.arange(0.00043, 0.0005, 0.00001)}\n",
    "t0 = time()\n",
    "GridSearch(lasso).grid_get(train, y_train, param_gird)\n",
    "print(\"处理时间：\",datetime.datetime.fromtimestamp(time()-t0).strftime(\"%M:%S:%f\"))"
   ]
  },
  {
   "cell_type": "markdown",
   "metadata": {},
   "source": [
    "#### lassoCV"
   ]
  },
  {
   "cell_type": "code",
   "execution_count": 79,
   "metadata": {},
   "outputs": [
    {
     "data": {
      "text/plain": [
       "0.00011631854612913174"
      ]
     },
     "execution_count": 79,
     "metadata": {},
     "output_type": "execute_result"
    }
   ],
   "source": [
    "lassocv = LassoCV(eps=0.0001, n_alphas=200, normalize=True)\n",
    "lassocv.fit(train,y_train)\n",
    "lassocv.alpha_"
   ]
  },
  {
   "cell_type": "code",
   "execution_count": 80,
   "metadata": {},
   "outputs": [
    {
     "data": {
      "text/plain": [
       "0.9329812862590999"
      ]
     },
     "execution_count": 80,
     "metadata": {},
     "output_type": "execute_result"
    }
   ],
   "source": [
    "lassocv.score(train, y_train)"
   ]
  },
  {
   "cell_type": "code",
   "execution_count": 81,
   "metadata": {},
   "outputs": [],
   "source": [
    "predict = lassocv.predict(test)"
   ]
  },
  {
   "cell_type": "markdown",
   "metadata": {},
   "source": [
    "### SVR模型"
   ]
  },
  {
   "cell_type": "code",
   "execution_count": 82,
   "metadata": {},
   "outputs": [
    {
     "name": "stdout",
     "output_type": "stream",
     "text": [
      "{'kernel': 'linear'} 0.1259393744897887\n",
      "                  params  mean_test_score  std_test_score\n",
      "0   {'kernel': 'linear'}        -0.015861        0.002488\n",
      "1     {'kernel': 'poly'}        -0.018048        0.001575\n",
      "2      {'kernel': 'rbf'}        -0.020572        0.001644\n",
      "3  {'kernel': 'sigmoid'}        -0.213117        0.030916\n",
      "处理时间： 00:50:899414\n"
     ]
    }
   ],
   "source": [
    "svr = SVR()\n",
    "param_gird = {\"kernel\":[\"linear\", \"poly\", \"rbf\", \"sigmoid\"]}\n",
    "t0 = time()\n",
    "GridSearch(svr).grid_get(train, y_train, param_gird)\n",
    "print(\"处理时间：\",datetime.datetime.fromtimestamp(time()-t0).strftime(\"%M:%S:%f\"))"
   ]
  },
  {
   "cell_type": "code",
   "execution_count": 83,
   "metadata": {},
   "outputs": [
    {
     "name": "stdout",
     "output_type": "stream",
     "text": [
      "{'kernel': 'linear'} 0.1259393744897887\n",
      "                 params  mean_test_score  std_test_score\n",
      "0  {'kernel': 'linear'}        -0.015861        0.002488\n",
      "处理时间： 00:45:910471\n"
     ]
    }
   ],
   "source": [
    "svr = SVR()\n",
    "param_gird = {\"kernel\":[\"linear\"]}\n",
    "t0 = time()\n",
    "GridSearch(svr).grid_get(train, y_train, param_gird)\n",
    "print(\"处理时间：\",datetime.datetime.fromtimestamp(time()-t0).strftime(\"%M:%S:%f\"))"
   ]
  },
  {
   "cell_type": "markdown",
   "metadata": {},
   "source": [
    "### 随机森林回归"
   ]
  },
  {
   "cell_type": "code",
   "execution_count": 86,
   "metadata": {},
   "outputs": [
    {
     "name": "stdout",
     "output_type": "stream",
     "text": [
      "{'n_estimators': 400} 0.13763290226318367\n",
      "                  params  mean_test_score  std_test_score\n",
      "0  {'n_estimators': 400}        -0.018943        0.000944\n",
      "处理时间： 09:16:000502\n"
     ]
    }
   ],
   "source": [
    "rf = RF()\n",
    "param_gird = {\"n_estimators\":[400]}\n",
    "GridSearch(rf).grid_get(train, y_train, param_gird)\n",
    "print(\"处理时间：\",datetime.datetime.fromtimestamp(time()-t0).strftime(\"%M:%S:%f\"))"
   ]
  },
  {
   "cell_type": "markdown",
   "metadata": {},
   "source": [
    "### 决策树的回归"
   ]
  },
  {
   "cell_type": "code",
   "execution_count": 87,
   "metadata": {},
   "outputs": [
    {
     "name": "stdout",
     "output_type": "stream",
     "text": [
      "{'max_depth': 5} 0.1884811302346338\n",
      "             params  mean_test_score  std_test_score\n",
      "0  {'max_depth': 5}        -0.035525        0.003352\n",
      "处理时间： 09:16:126058\n"
     ]
    }
   ],
   "source": [
    "dtr = DecisionTreeRegressor()\n",
    "param_gird = {\"max_depth\":[5]}\n",
    "GridSearch(dtr).grid_get(train, y_train, param_gird)\n",
    "print(\"处理时间：\",datetime.datetime.fromtimestamp(time()-t0).strftime(\"%M:%S:%f\"))"
   ]
  },
  {
   "cell_type": "markdown",
   "metadata": {},
   "source": [
    "### XGboost模型\n",
    "0. 确定模型的目标：分类、回归、排序\n",
    "- obj  \n",
    "- “reg:linear” —— 线性回归。  \n",
    "- “reg:logistic”—— 逻辑回归。  \n",
    "- “binary:logistic”—— 二分类的逻辑回归问题，输出为概率。  \n",
    "- “binary:logitraw”—— 二分类的逻辑回归问题，输出的结果为wTx。  \n",
    "- “count:poisson”—— 计数问题的poisson回归，输出结果为poisson分布。在poisson回归中，max_delta_step的缺省值为0.7。(used to safeguard optimization)\n",
    "- “multi:softmax” –让XGBoost采用softmax目标函数处理多分类问题，同时需要设置参数num_class（类别个数）  \n",
    "- “multi:softprob” –和softmax一样，但是输出的是ndata * nclass的向量，可以将该向量reshape成ndata行nclass列的矩阵。没行数据表示样本所属于每个类别的概率。  \n",
    "- “rank:pairwise” –set XGBoost to do ranking task by minimizing the pairwise loss  \n",
    "1. 首先调节eta和num_round来控制收敛速度和最大建树,两者之间相互制约，需要同时调整参数，故使用网格搜索进行调整。\n",
    "- eta: xgboost在进行完一次迭代后，会将叶子节点的权重乘上该系数，主要是为了削弱每棵树的影响，让后面有更大的学习空间。实际应用中，一般把eta设置得小一点，然后迭代次数设置得大一点\n",
    "- num_round: 建立弱分类器数量（也即迭代次数），其数量越大，模型的学习能力就会越强。但是，较大num_round会造成过拟合，且增加到一定程度之后，模型达到上限，不会在增加准确率。\n",
    "2. gamma或者max_depth控制子树的复杂程度，减低模型复杂度（减少过拟合）\n",
    "- max_depth: 默认值为６，通过控制输的深度从而控制树模型的复杂程度，来减少过拟合分风险。\n",
    "- gamma: 树结点分裂的最低要求，能够减低过拟合\n",
    "3. 调节横向或纵向的数据抽样比例\n",
    "- subsample: boostrap抽样，让模型变的轻量，有放回抽样，可以减少过拟合。\n",
    "- colsample_bytree:控制每棵树的特征抽取比例，减少过拟合的风险。\n",
    "4. 正则化系数：L1: alpha L2: lambda"
   ]
  },
  {
   "cell_type": "markdown",
   "metadata": {},
   "source": [
    "#### xgboost自带"
   ]
  },
  {
   "cell_type": "code",
   "execution_count": 98,
   "metadata": {},
   "outputs": [],
   "source": [
    "dfull = xgb.DMatrix(train, y_train)"
   ]
  },
  {
   "cell_type": "code",
   "execution_count": 99,
   "metadata": {},
   "outputs": [],
   "source": [
    "## 交差验证（分类性的特征）\n",
    "# 初始的调参结果(全部使用默认值)\n",
    "param1 = {'verbosity':0 #并非默认\n",
    "        ,'obj':'reg:linear' #并非默认\n",
    "          \n",
    "#         ,\"eta\":0.01\n",
    "          \n",
    "#         ,\"gamma\":0\n",
    "#         ,\"max_depth\":6\n",
    "\n",
    "#         ,\"subsample\":1  # 横向抽样\n",
    "#         ,\"colsample_bytree\":1  # 纵向抽样\n",
    "#         ,\"colsample_bylevel\":1\n",
    "#         ,\"colsample_bynode\":1\n",
    "\n",
    "#         ,\"lambda\":1  # L2\n",
    "#         ,\"alpha\":0  # L1\n",
    "         }\n",
    "num_round = 300"
   ]
  },
  {
   "cell_type": "code",
   "execution_count": 100,
   "metadata": {},
   "outputs": [
    {
     "name": "stdout",
     "output_type": "stream",
     "text": [
      "The time of param１:\n",
      "00:01:831500\n",
      "The time of param2:\n",
      "00:01:437454\n",
      "The time of param3:\n",
      "00:01:457000\n"
     ]
    }
   ],
   "source": [
    "print(\"The time of param１:\")\n",
    "t0 = time()\n",
    "cvresult = xgb.cv(params=param1, dtrain=dfull, num_boost_round=num_round)\n",
    "print(datetime.datetime.fromtimestamp(time()-t0).strftime(\"%M:%S:%f\"))\n",
    "\n",
    "# 上一次的调参结果\n",
    "param2 = {'verbosity':0\n",
    "        ,'obj':'reg:linear' #并非默认\n",
    "          \n",
    "        ,\"eta\":0.1\n",
    "          \n",
    "#         ,\"gamma\":0.1\n",
    "        ,\"max_depth\":2\n",
    "\n",
    "#         ,\"subsample\":1  # 横向抽样\n",
    "#         ,\"colsample_bytree\":0.5  # 纵向抽样:在建立树时对特征随机采样的比例。\n",
    "#         ,\"colsample_bylevel\":1\n",
    "#         ,\"colsample_bynode\":1\n",
    "\n",
    "        ,\"lambda\":12  # L2\n",
    "#         ,\"alpha\":0  # L1\n",
    "         }\n",
    "\n",
    "# 现在的调参结果\n",
    "param3 = {'verbosity':0\n",
    "        ,'obj':'reg:linear' #并非默认\n",
    "          \n",
    "        ,\"eta\":0.1\n",
    "          \n",
    "#         ,\"gamma\":0\n",
    "        ,\"max_depth\":2\n",
    "\n",
    "#         ,\"subsample\":1  # 横向抽样\n",
    "#         ,\"colsample_bytree\":1  # 纵向抽样\n",
    "#         ,\"colsample_bylevel\":1\n",
    "#         ,\"colsample_bynode\":1\n",
    "\n",
    "        ,\"lambda\":12  # L2\n",
    "#         ,\"alpha\":0  # L1\n",
    "         }\n",
    "\n",
    "t0 = time()\n",
    "print(\"The time of param2:\")\n",
    "cvresult2 = xgb.cv(params=param2, dtrain=dfull, num_boost_round=num_round)\n",
    "print(datetime.datetime.fromtimestamp(time()-t0).strftime(\"%M:%S:%f\"))\n",
    "\n",
    "print(\"The time of param3:\")\n",
    "t0 = time()\n",
    "cvresult3 = xgb.cv(params=param3, dtrain=dfull, num_boost_round=num_round)\n",
    "print(datetime.datetime.fromtimestamp(time()-t0).strftime(\"%M:%S:%f\"))"
   ]
  },
  {
   "cell_type": "code",
   "execution_count": 101,
   "metadata": {},
   "outputs": [
    {
     "data": {
      "image/png": "[encoded data removed]",
      "text/plain": [
       "<Figure size 1080x576 with 1 Axes>"
      ]
     },
     "metadata": {
      "needs_background": "light"
     },
     "output_type": "display_data"
    }
   ],
   "source": [
    "#　调整参数后的效果\n",
    "fig, ax = plt.subplots(1, figsize=(15, 8))\n",
    "ax.grid()\n",
    "end = num_round + 1\n",
    "\n",
    "ax.plot(range(1, end), cvresult.iloc[:, 0], c=\"red\", label=\"test_origin\")\n",
    "ax.plot(range(1, end), cvresult.iloc[:, 2], c=\"green\", label=\"train_origin\")\n",
    "\n",
    "ax.plot(range(1, end), cvresult2.iloc[:, 0], c=\"pink\", label=\"test_last\")\n",
    "ax.plot(range(1, end), cvresult2.iloc[:, 2], c=\"yellow\", label=\"train_last\")\n",
    "\n",
    "ax.plot(range(1, end), cvresult3.iloc[:, 0], c=\"black\", label=\"test_this\")\n",
    "ax.plot(range(1, end), cvresult3.iloc[:, 2], c=\"blue\", label=\"train_this\")\n",
    "\n",
    "ax.legend(fontsize = \"xx-large\")\n",
    "ax.set_ylim(bottom=-0.1, top=0.5)\n",
    "plt.ylabel(\"mse\")\n",
    "plt.xlabel(\"num_round\")\n",
    "plt.savefig(\"./imgs/cv.png\")\n",
    "plt.show()"
   ]
  },
  {
   "cell_type": "code",
   "execution_count": 102,
   "metadata": {},
   "outputs": [],
   "source": [
    "xgb_model = xgb.train(param3, dtrain=dfull, num_boost_round=40)"
   ]
  },
  {
   "cell_type": "code",
   "execution_count": 103,
   "metadata": {},
   "outputs": [],
   "source": [
    "dtest = xgb.DMatrix(test)\n",
    "predict = xgb_model.predict(dtest)"
   ]
  },
  {
   "cell_type": "code",
   "execution_count": 104,
   "metadata": {},
   "outputs": [
    {
     "data": {
      "text/plain": [
       "array([11.52827 , 11.756016, 11.832375, ..., 11.62933 , 11.596333,\n",
       "       12.119371], dtype=float32)"
      ]
     },
     "execution_count": 104,
     "metadata": {},
     "output_type": "execute_result"
    }
   ],
   "source": [
    "predict"
   ]
  },
  {
   "cell_type": "markdown",
   "metadata": {},
   "source": [
    "#### sklearn接口(网格搜索)"
   ]
  },
  {
   "cell_type": "code",
   "execution_count": 105,
   "metadata": {},
   "outputs": [
    {
     "name": "stdout",
     "output_type": "stream",
     "text": [
      "{} 0.11786483994066725\n",
      "  params  mean_test_score  std_test_score\n",
      "0     {}        -0.013892        0.001433\n",
      "处理时间： 00:02:920879\n"
     ]
    }
   ],
   "source": [
    "# param\n",
    "xgb_model = xgb.XGBRegressor(learning_rate=0.06\n",
    "                             , n_estimators=340\n",
    "                             , max_depth=4\n",
    "                             , subsample=0.6\n",
    "                             , colsample_tree=0.5\n",
    "                             , random_state = 100\n",
    "                            )\n",
    "param_gird = {}\n",
    "t0 = time()\n",
    "GridSearch(xgb_model).grid_get(train, y_train, param_gird)\n",
    "print(\"处理时间：\",datetime.datetime.fromtimestamp(time()-t0).strftime(\"%M:%S:%f\"))"
   ]
  },
  {
   "cell_type": "code",
   "execution_count": 106,
   "metadata": {},
   "outputs": [],
   "source": [
    "xgb_model = xgb_model.fit(train, y_train)\n",
    "predict = xgb_model.predict(test)"
   ]
  },
  {
   "cell_type": "markdown",
   "metadata": {},
   "source": [
    "#### 2.1 自己调参数"
   ]
  },
  {
   "cell_type": "markdown",
   "metadata": {},
   "source": [
    "#### 2.1.1 同时调整num_round和learning_rate"
   ]
  },
  {
   "cell_type": "code",
   "execution_count": 107,
   "metadata": {},
   "outputs": [
    {
     "name": "stdout",
     "output_type": "stream",
     "text": [
      "{'learning_rate': 0.060000000000000005, 'n_estimators': 380} 0.11924131325152587\n",
      "                                              params  mean_test_score  \\\n",
      "0       {'learning_rate': 0.05, 'n_estimators': 380}        -0.014882   \n",
      "1       {'learning_rate': 0.05, 'n_estimators': 400}        -0.014883   \n",
      "2  {'learning_rate': 0.060000000000000005, 'n_est...        -0.014218   \n",
      "3  {'learning_rate': 0.060000000000000005, 'n_est...        -0.014224   \n",
      "4       {'learning_rate': 0.07, 'n_estimators': 380}        -0.014852   \n",
      "5       {'learning_rate': 0.07, 'n_estimators': 400}        -0.014846   \n",
      "6  {'learning_rate': 0.08000000000000002, 'n_esti...        -0.014923   \n",
      "7  {'learning_rate': 0.08000000000000002, 'n_esti...        -0.014923   \n",
      "8  {'learning_rate': 0.09000000000000001, 'n_esti...        -0.014803   \n",
      "9  {'learning_rate': 0.09000000000000001, 'n_esti...        -0.014795   \n",
      "\n",
      "   std_test_score  \n",
      "0        0.001780  \n",
      "1        0.001775  \n",
      "2        0.001578  \n",
      "3        0.001584  \n",
      "4        0.001721  \n",
      "5        0.001709  \n",
      "6        0.001848  \n",
      "7        0.001845  \n",
      "8        0.001050  \n",
      "9        0.001048  \n",
      "处理时间： 00:34:122512\n"
     ]
    }
   ],
   "source": [
    "# param\n",
    "xgb_model = xgb.XGBRegressor(\n",
    "                            )\n",
    "param_gird = {\"learning_rate\": np.arange(0.05, 0.1, 0.01)\n",
    "              , \"n_estimators\": np.arange(380, 410, 20)\n",
    "             }\n",
    "t0 = time()\n",
    "GridSearch(xgb_model).grid_get(train, y_train, param_gird)\n",
    "print(\"处理时间：\",datetime.datetime.fromtimestamp(time()-t0).strftime(\"%M:%S:%f\"))"
   ]
  },
  {
   "cell_type": "markdown",
   "metadata": {},
   "source": [
    "#### 2.1.2 调整不同的参数值"
   ]
  },
  {
   "cell_type": "code",
   "execution_count": 108,
   "metadata": {},
   "outputs": [
    {
     "name": "stdout",
     "output_type": "stream",
     "text": [
      "最佳参数： 1 \n",
      "损失值： 0.11488895632255516\n"
     ]
    },
    {
     "data": {
      "image/png": "[encoded data removed]",
      "text/plain": [
       "<Figure size 864x432 with 1 Axes>"
      ]
     },
     "metadata": {
      "needs_background": "light"
     },
     "output_type": "display_data"
    }
   ],
   "source": [
    "## 调结num_round\n",
    "axisx = np.arange(1, 10, 1)\n",
    "\n",
    "rs =  []\n",
    "for i in axisx:\n",
    "    xgb_reg = xgb.XGBRegressor(n_estimators=380\n",
    "                               , learning_rate=0.06\n",
    "                               , max_depth=3\n",
    "                               \n",
    "                               , subsample = 0.6\n",
    "                               , colsample_bytree = 0.7\n",
    "                               , reg_lambda = i\n",
    "                               \n",
    "                               , random_state=100\n",
    "                              )\n",
    "    \n",
    "    value = cross_val_score(xgb_reg\n",
    "                    , train\n",
    "                    , y_train\n",
    "                    , cv=5\n",
    "                    , scoring=\"neg_mean_squared_error\").mean()\n",
    "    \n",
    "    rs.append(np.sqrt(-value))\n",
    "    \n",
    "print(\"最佳参数：\",axisx[rs.index(min(rs))], \"\\n损失值：\", min(rs))\n",
    "plt.figure(figsize=(12, 6))\n",
    "plt.plot(axisx, rs, c=\"red\")\n",
    "plt.ylabel(\"RMSE\")\n",
    "plt.title(\"The different rmse of param\")\n",
    "plt.savefig(\"./imgs/param.png\")\n",
    "plt.show()"
   ]
  },
  {
   "cell_type": "code",
   "execution_count": 109,
   "metadata": {},
   "outputs": [],
   "source": [
    "xgb_reg = xgb.XGBRegressor(n_estimators=380\n",
    "                           , learning_rate=0.06\n",
    "                           , max_depth=3\n",
    "\n",
    "                           , subsample = 0.6\n",
    "                           , colsample_bytree = 0.7\n",
    "                           , reg_lambda = 1\n",
    "\n",
    "                           , random_state=100\n",
    "                          )\n",
    "predict = xgb_reg.fit(train, y_train).predict(test)"
   ]
  },
  {
   "cell_type": "markdown",
   "metadata": {},
   "source": [
    "#### 保存模型"
   ]
  },
  {
   "cell_type": "code",
   "execution_count": 110,
   "metadata": {},
   "outputs": [
    {
     "data": {
      "text/plain": [
       "['model/xgb_reg.dat']"
      ]
     },
     "execution_count": 110,
     "metadata": {},
     "output_type": "execute_result"
    }
   ],
   "source": [
    "joblib.dump(xgb_reg, \"model/xgb_reg.dat\")"
   ]
  },
  {
   "cell_type": "code",
   "execution_count": 111,
   "metadata": {},
   "outputs": [
    {
     "data": {
      "text/plain": [
       "XGBRegressor(base_score=0.5, booster='gbtree', colsample_bylevel=1,\n",
       "             colsample_bynode=1, colsample_bytree=0.7, gamma=0, gpu_id=-1,\n",
       "             importance_type='gain', interaction_constraints='',\n",
       "             learning_rate=0.06, max_delta_step=0, max_depth=3,\n",
       "             min_child_weight=1, missing=nan, monotone_constraints='()',\n",
       "             n_estimators=380, n_jobs=0, num_parallel_tree=1, random_state=100,\n",
       "             reg_alpha=0, reg_lambda=1, scale_pos_weight=1, subsample=0.6,\n",
       "             tree_method='exact', validate_parameters=1, verbosity=None)"
      ]
     },
     "execution_count": 111,
     "metadata": {},
     "output_type": "execute_result"
    }
   ],
   "source": [
    "joblib.load(\"model/xgb_reg.dat\")"
   ]
  },
  {
   "cell_type": "markdown",
   "metadata": {},
   "source": [
    "#### 调参数方向"
   ]
  },
  {
   "cell_type": "markdown",
   "metadata": {},
   "source": [
    "[当GridSearch遇上XGBoost 一段代码解决调参问题](https://juejin.im/post/5b7669c4f265da281c1fbf96)  \n",
    "[xgboost参数和调参技巧](https://sthsf.github.io/wiki/Algorithm/EnsembleMethod/EnsembleLearning/xgboost%E5%8F%82%E6%95%B0%E5%92%8C%E8%B0%83%E5%8F%82%E6%8A%80%E5%B7%A7.html)"
   ]
  },
  {
   "cell_type": "markdown",
   "metadata": {},
   "source": [
    "### LightGBM"
   ]
  },
  {
   "cell_type": "code",
   "execution_count": 8,
   "metadata": {},
   "outputs": [],
   "source": [
    "X_train,X_val, Y_train, Y_val = train_test_split(train, y_train\n",
    "                                                 , test_size=0.2\n",
    "                                                 , random_state=0\n",
    "                                                )"
   ]
  },
  {
   "cell_type": "code",
   "execution_count": 9,
   "metadata": {},
   "outputs": [],
   "source": [
    "train = lgb.Dataset(X_train, Y_train)\n",
    "val = lgb.Dataset(X_val, Y_val)"
   ]
  },
  {
   "cell_type": "markdown",
   "metadata": {},
   "source": [
    "#### 初始化状态(未调参)"
   ]
  },
  {
   "cell_type": "code",
   "execution_count": 10,
   "metadata": {},
   "outputs": [],
   "source": [
    "# 参数设定为默认状态\n",
    "params1 = {\n",
    "      \"boosting_type\": \"gbdt\"\n",
    "    , \"objective\": \"regression\" # 二分类任务\n",
    "    , \"metric\": {\"rmse\"}\n",
    "    \n",
    "    , \"nthread\": 4\n",
    "    , \"device\": \"gpu\"\n",
    "    , \"gpu_device_id\": 1\n",
    "    , \"verbose\": 1\n",
    "\n",
    "    , \"learning_rate\": 0.1\n",
    "    \n",
    "    , \"max_depth\": 5\n",
    "    , \"num_leaves\": 31  # 由于lightGBM是leaves_wise生长，官方说法是要小于2^max_depth\n",
    "    , \"subsample\": 1.0  # 数据采样\n",
    "    , \"colsample_bytree\": 1.0  # 特征采样\n",
    "    \n",
    "    , 'reg_alpha': 0.0  # L1\n",
    "    , 'reg_lambda': 0.0  # L2\n",
    "}"
   ]
  },
  {
   "cell_type": "code",
   "execution_count": 57,
   "metadata": {},
   "outputs": [
    {
     "name": "stdout",
     "output_type": "stream",
     "text": [
      "处理时间： 00:01:532604\n"
     ]
    }
   ],
   "source": [
    "t0 = time()\n",
    "cv_result1 = lgb.cv(params=params1, train_set=train\n",
    "       , nfold=5\n",
    "       , stratified=False  # 回归任务不支持分层抽样\n",
    "       , shuffle=True\n",
    "       , seed=0\n",
    "      )\n",
    "print(\"处理时间：\",datetime.datetime.fromtimestamp(time()-t0).strftime(\"%M:%S:%f\"))"
   ]
  },
  {
   "cell_type": "markdown",
   "metadata": {},
   "source": [
    "#### 调整好的参数状态"
   ]
  },
  {
   "cell_type": "code",
   "execution_count": 44,
   "metadata": {},
   "outputs": [],
   "source": [
    "num_boost_round = 1000\n",
    "params2 = {\n",
    "      \"boosting_type\": \"gbdt\"\n",
    "    , \"objective\": \"regression\" # 回归任务\n",
    "    , \"metric\": {\"rmse\"}\n",
    "    \n",
    "    , \"nthread\": 4\n",
    "    , \"device\": \"gpu\"\n",
    "    , \"gpu_device_id\": 1\n",
    "    , \"verbose\": 1\n",
    "\n",
    "    , \"learning_rate\": 0.01\n",
    "    \n",
    "    , \"max_depth\": 5\n",
    "    , \"num_leaves\": 31  # 由于lightGBM是leaves_wise生长，官方说法是要小于2^max_depth\n",
    "    , \"subsample\": 1.0  # 数据采样\n",
    "    , \"colsample_bytree\": 1.0  # 特征采样\n",
    "    \n",
    "    , 'reg_alpha': 0.0  # L1\n",
    "    , 'reg_lambda': 0.0  # L2\n",
    "}"
   ]
  },
  {
   "cell_type": "code",
   "execution_count": 45,
   "metadata": {},
   "outputs": [
    {
     "name": "stdout",
     "output_type": "stream",
     "text": [
      "参数处理时间： 00:08:320164\n"
     ]
    }
   ],
   "source": [
    "t0 = time()\n",
    "cv_result2 = lgb.cv(params=params2, train_set=train\n",
    "       , num_boost_round=num_boost_round\n",
    "       , nfold=5\n",
    "       , stratified=False\n",
    "       , shuffle=True\n",
    "       , seed=0\n",
    "      )\n",
    "print(\"参数处理时间：\",datetime.datetime.fromtimestamp(time()-t0).strftime(\"%M:%S:%f\"))"
   ]
  },
  {
   "cell_type": "code",
   "execution_count": 46,
   "metadata": {},
   "outputs": [
    {
     "name": "stdout",
     "output_type": "stream",
     "text": [
      "Best_n_estimators: 1000\n",
      "Best_cv_score: 0.1328\n"
     ]
    }
   ],
   "source": [
    "#  选择最佳的estimators\n",
    "print(\"Best_n_estimators: %d\\nBest_cv_score: %.4f\" \n",
    "      % (np.array(list(cv_result2.values())).shape[1],\n",
    "         min(np.array(list(cv_result2.values()))[0]))\n",
    "     ) "
   ]
  },
  {
   "cell_type": "markdown",
   "metadata": {},
   "source": [
    "#### 正在调参的状态"
   ]
  },
  {
   "cell_type": "code",
   "execution_count": 51,
   "metadata": {},
   "outputs": [],
   "source": [
    "params3 = {\n",
    "      \"boosting_type\": \"gbdt\"\n",
    "    , \"objective\": \"regression\" # 回归任务\n",
    "    , \"metric\": {\"rmse\"}\n",
    "    \n",
    "    , \"nthread\": 4\n",
    "    , \"device\": \"gpu\"\n",
    "    , \"gpu_device_id\": 1\n",
    "    , \"verbose\": 1\n",
    "\n",
    "    , \"learning_rate\": 0.01\n",
    "    \n",
    "    , \"max_depth\": 3\n",
    "    , \"num_leaves\": 7  # 由于lightGBM是leaves_wise生长，官方说法是要小于2^max_depth\n",
    "    , \"subsample\": 1.0  # 数据采样\n",
    "    , \"colsample_bytree\": 1.0  # 特征采样\n",
    "    \n",
    "    , 'reg_alpha': 0.0  # L1\n",
    "    , 'reg_lambda': 0.0  # L2\n",
    "}"
   ]
  },
  {
   "cell_type": "code",
   "execution_count": 54,
   "metadata": {},
   "outputs": [
    {
     "name": "stdout",
     "output_type": "stream",
     "text": [
      "处理时间： 00:08:277423\n"
     ]
    }
   ],
   "source": [
    "t0 = time()\n",
    "cv_result3 = lgb.cv(params=params3, train_set=train\n",
    "       , num_boost_round=2000\n",
    "       , nfold=5\n",
    "       , stratified=False\n",
    "       , shuffle=True\n",
    "       , seed=0\n",
    "      )\n",
    "print(\"处理时间：\",datetime.datetime.fromtimestamp(time()-t0).strftime(\"%M:%S:%f\"))"
   ]
  },
  {
   "cell_type": "markdown",
   "metadata": {},
   "source": [
    "#### 可视化指标"
   ]
  },
  {
   "cell_type": "markdown",
   "metadata": {},
   "source": [
    "#### rmse"
   ]
  },
  {
   "cell_type": "code",
   "execution_count": 55,
   "metadata": {},
   "outputs": [
    {
     "data": {
      "image/png": "[encoded data removed]",
      "text/plain": [
       "<Figure size 1008x360 with 2 Axes>"
      ]
     },
     "metadata": {
      "needs_background": "light"
     },
     "output_type": "display_data"
    }
   ],
   "source": [
    "fig, ax = plt.subplots(1, 2, figsize = (14,5))\n",
    "\n",
    "length1 = np.array(list(cv_result1.values())).shape[1]\n",
    "length2 = np.array(list(cv_result2.values())).shape[1]\n",
    "length3 = np.array(list(cv_result3.values())).shape[1]\n",
    "\n",
    "ax[0].plot(range(length1), cv_result1[list(cv_result1.keys())[0]], label=\"param1\", c=\"red\")\n",
    "ax[1].plot(range(length1), cv_result1[list(cv_result1.keys())[1]], label=\"param1\", c=\"green\")\n",
    "\n",
    "ax[0].plot(range(length2), cv_result2[list(cv_result2.keys())[0]], label=\"param2\", c=\"magenta\")\n",
    "ax[1].plot(range(length2), cv_result2[list(cv_result2.keys())[1]], label=\"param2\", c=\"blue\")\n",
    "\n",
    "ax[0].plot(range(length3), cv_result3[list(cv_result3.keys())[0]], label=\"param3\", c=\"yellow\")\n",
    "ax[1].plot(range(length3), cv_result3[list(cv_result3.keys())[1]], label=\"param3\", c=\"c\")\n",
    "\n",
    "ax[0].set_xlabel(\"num_round\", fontsize=12)\n",
    "ax[1].set_xlabel(\"num_round\", fontsize=12)\n",
    "ax[0].set_ylabel(list(cv_result1.keys())[0], fontsize=12)\n",
    "ax[1].set_ylabel(list(cv_result1.keys())[1], fontsize=12)\n",
    "ax[0].set_ylim((0.1, 0.15))\n",
    "ax[1].set_ylim((0.010, 0.015))\n",
    "ax[1].grid()\n",
    "ax[0].grid()\n",
    "ax[0].legend()\n",
    "ax[1].legend()\n",
    "plt.show()"
   ]
  },
  {
   "cell_type": "code",
   "execution_count": 56,
   "metadata": {},
   "outputs": [],
   "source": [
    "## 预测\n",
    "# lgbr = lgb.train(param3, train, num_boost_round=3000)"
   ]
  },
  {
   "cell_type": "code",
   "execution_count": 264,
   "metadata": {},
   "outputs": [],
   "source": [
    "predict = lgbr.predict(test)"
   ]
  },
  {
   "cell_type": "markdown",
   "metadata": {},
   "source": [
    "#### sklearn接口"
   ]
  },
  {
   "cell_type": "code",
   "execution_count": 272,
   "metadata": {},
   "outputs": [
    {
     "name": "stdout",
     "output_type": "stream",
     "text": [
      "{'learning_rate': 0.01, 'n_estimators': 1000} 0.13362794795792926\n",
      "                                          params  mean_test_score  \\\n",
      "0  {'learning_rate': 0.01, 'n_estimators': 1000}        -0.017856   \n",
      "1  {'learning_rate': 0.01, 'n_estimators': 1100}        -0.017874   \n",
      "2  {'learning_rate': 0.01, 'n_estimators': 1200}        -0.017918   \n",
      "3  {'learning_rate': 0.01, 'n_estimators': 1300}        -0.017939   \n",
      "4  {'learning_rate': 0.01, 'n_estimators': 1400}        -0.017955   \n",
      "\n",
      "   std_test_score  \n",
      "0        0.004321  \n",
      "1        0.004297  \n",
      "2        0.004322  \n",
      "3        0.004345  \n",
      "4        0.004333  \n",
      "处理时间： 01:53:695281\n"
     ]
    }
   ],
   "source": [
    "LGBR = lgb.LGBMRegressor(device=\"gpu\", )\n",
    "param_grid={\"learning_rate\":[0.01],\"n_estimators\":np.arange(1000, 1500, 100)}\n",
    "t0 = time()\n",
    "GridSearch(LGBR).grid_get(X_train, Y_train, param_grid)\n",
    "print(\"处理时间：\",datetime.datetime.fromtimestamp(time()-t0).strftime(\"%M:%S:%f\"))"
   ]
  },
  {
   "cell_type": "markdown",
   "metadata": {},
   "source": [
    "### 模型融合(Stacking)"
   ]
  },
  {
   "cell_type": "markdown",
   "metadata": {},
   "source": [
    "#### 划分数据集"
   ]
  },
  {
   "cell_type": "code",
   "execution_count": null,
   "metadata": {},
   "outputs": [],
   "source": [
    "# Some useful parameters which will come in handy later on\n",
    "ntrain = train.shape[0]\n",
    "ntest = test.shape[0]\n",
    "SEED = 0 #for reproducibility\n",
    "NFOLDS = 5 # set folds for out-of-fold prediction\n",
    "kf = KFold(n_splits = NFOLDS,shuffle=False)"
   ]
  },
  {
   "cell_type": "code",
   "execution_count": null,
   "metadata": {},
   "outputs": [],
   "source": [
    "def get_out_fold(clf, x_train, y_train, x_test):\n",
    "    oof_train = np.zeros((ntrain, ))\n",
    "    oof_test = np.zeros((ntest, ))\n",
    "    # 存放K折结果\n",
    "    oof_test_skf = np.empty((NFOLDS, ntest))\n",
    "    \n",
    "    for i, (train_index, test_index) in enumerate(kf.split(x_train)):\n",
    "        x_tr = x_train[train_index]\n",
    "        y_tr = y_train[train_index]\n",
    "        x_te = x_train[test_index]\n",
    "        \n",
    "        clf.fit(x_tr, y_tr)\n",
    "        \n",
    "        # 填充所有的测试结果的值\n",
    "        oof_train[test_index] = clf.predict(x_te)\n",
    "        oof_test_skf[i, :] = clf.predict(x_test)\n",
    "    \n",
    "    # k折平均\n",
    "    oof_test[:] = oof_test_skf.mean(axis=0)\n",
    "    return oof_train.reshape(-1,1), oof_test.reshape(-1,1)"
   ]
  },
  {
   "cell_type": "markdown",
   "metadata": {},
   "source": [
    "#### 基学习器"
   ]
  },
  {
   "cell_type": "code",
   "execution_count": null,
   "metadata": {},
   "outputs": [],
   "source": [
    "ridge = Ridge(alpha=9)\n",
    "lasso = Lasso(alpha=0.00043)\n",
    "rf = RF(n_estimators=400)\n",
    "dtr = DecisionTreeRegressor(max_depth=5)\n",
    "svr = SVR(kernel=\"linear\")"
   ]
  },
  {
   "cell_type": "code",
   "execution_count": null,
   "metadata": {},
   "outputs": [],
   "source": [
    "x_train = train.values\n",
    "x_test = test.values"
   ]
  },
  {
   "cell_type": "code",
   "execution_count": null,
   "metadata": {},
   "outputs": [],
   "source": [
    "ridge_oof_train, ride_oof_test = get_out_fold(ridge, x_train, y_train, x_test)\n",
    "lasso_oof_train, lasso_oof_test = get_out_fold(lasso, x_train, y_train, x_test)\n",
    "rf_oof_train, rf_oof_test = get_out_fold(lasso, x_train, y_train, x_test)\n",
    "dtr_oof_train, dtr_oof_test = get_out_fold(dtr, x_train, y_train, x_test)\n",
    "svr_oof_train, svr_oof_test = get_out_fold(svr, x_train, y_train, x_test)"
   ]
  },
  {
   "cell_type": "code",
   "execution_count": null,
   "metadata": {},
   "outputs": [],
   "source": [
    "model_train = np.concatenate((ridge_oof_train, lasso_oof_train, rf_oof_train, dtr_oof_train, svr_oof_train), axis=1)\n",
    "model_test = np.concatenate((ride_oof_test, lasso_oof_test, rf_oof_test, dtr_oof_test, svr_oof_test), axis=1)"
   ]
  },
  {
   "cell_type": "code",
   "execution_count": null,
   "metadata": {},
   "outputs": [],
   "source": [
    "model_train.shape, model_test.shape"
   ]
  },
  {
   "cell_type": "markdown",
   "metadata": {},
   "source": [
    "#### 次学习器"
   ]
  },
  {
   "cell_type": "code",
   "execution_count": null,
   "metadata": {},
   "outputs": [],
   "source": [
    "xgb_train = xgb.DMatrix(model_train, y_train)\n",
    "xgb_test = xgb.DMatrix(model_test)"
   ]
  },
  {
   "cell_type": "code",
   "execution_count": null,
   "metadata": {},
   "outputs": [],
   "source": [
    "## 交差验证（分类性的特征）\n",
    "# 初始的调参结果(全部使用默认值)\n",
    "param1 = {'silent':False #并非默认\n",
    "        ,'obj':'reg:linear' #并非默认\n",
    "          \n",
    "#         ,\"eta\":0.01\n",
    "          \n",
    "#         ,\"gamma\":0\n",
    "#         ,\"max_depth\":6\n",
    "\n",
    "#         ,\"subsample\":1  # 横向抽样\n",
    "#         ,\"colsample_bytree\":1  # 纵向抽样\n",
    "#         ,\"colsample_bylevel\":1\n",
    "#         ,\"colsample_bynode\":1\n",
    "\n",
    "#         ,\"lambda\":1  # L2\n",
    "#         ,\"alpha\":0  # L1\n",
    "         }\n",
    "num_round = 400"
   ]
  },
  {
   "cell_type": "code",
   "execution_count": null,
   "metadata": {},
   "outputs": [],
   "source": [
    "print(\"The time of param１:\")\n",
    "t0 = time()\n",
    "cvresult = xgb.cv(params=param1, dtrain=xgb_train, num_boost_round=num_round)\n",
    "print(datetime.datetime.fromtimestamp(time()-t0).strftime(\"%M:%S:%f\"))\n",
    "\n",
    "# 上一次的调参结果\n",
    "param2 = {'silent':False\n",
    "        ,'obj':'reg:linear' #并非默认\n",
    "          \n",
    "        ,\"eta\":0.05\n",
    "          \n",
    "#         ,\"gamma\":0.1\n",
    "        ,\"max_depth\":2\n",
    "          \n",
    "#         ,\"subsample\":1  # 横向抽样\n",
    "#         ,\"colsample_bytree\":0.5  # 纵向抽样:在建立树时对特征随机采样的比例。\n",
    "#         ,\"colsample_bylevel\":1\n",
    "#         ,\"colsample_bynode\":1\n",
    "\n",
    "#         ,\"lambda\":12  # L2\n",
    "#         ,\"alpha\":0  # L1\n",
    "         }\n",
    "\n",
    "# 现在的调参结果\n",
    "param3 = {'silent':False\n",
    "        ,'obj':'reg:linear' #并非默认\n",
    "          \n",
    "        ,\"eta\":0.05\n",
    "          \n",
    "#         ,\"gamma\":0\n",
    "        ,\"max_depth\":2\n",
    "\n",
    "#         ,\"subsample\":1  # 横向抽样\n",
    "#         ,\"colsample_bytree\":1  # 纵向抽样\n",
    "#         ,\"colsample_bylevel\":1\n",
    "#         ,\"colsample_bynode\":1\n",
    "\n",
    "#         ,\"lambda\":12  # L2\n",
    "#         ,\"alpha\":0  # L1\n",
    "         }\n",
    "\n",
    "t0 = time()\n",
    "print(\"The time of param2:\")\n",
    "cvresult2 = xgb.cv(params=param2, dtrain=xgb_train, num_boost_round=num_round)\n",
    "print(datetime.datetime.fromtimestamp(time()-t0).strftime(\"%M:%S:%f\"))\n",
    "\n",
    "print(\"The time of param3:\")\n",
    "t0 = time()\n",
    "cvresult3 = xgb.cv(params=param3, dtrain=xgb_train, num_boost_round=num_round)\n",
    "print(datetime.datetime.fromtimestamp(time()-t0).strftime(\"%M:%S:%f\"))"
   ]
  },
  {
   "cell_type": "code",
   "execution_count": null,
   "metadata": {},
   "outputs": [],
   "source": [
    "#　调整参数后的效果\n",
    "fig, ax = plt.subplots(1, figsize=(15, 8))\n",
    "ax.grid()\n",
    "end = num_round + 1\n",
    "ax.plot(range(1, end), cvresult.iloc[:, 0], c=\"red\", label=\"test_origin\")\n",
    "ax.plot(range(1, end), cvresult.iloc[:, 2], c=\"green\", label=\"train_origin\")\n",
    "\n",
    "ax.plot(range(1, end), cvresult2.iloc[:, 0], c=\"pink\", label=\"test_last\")\n",
    "ax.plot(range(1, end), cvresult2.iloc[:, 2], c=\"yellow\", label=\"train_last\")\n",
    "\n",
    "ax.plot(range(1, end), cvresult3.iloc[:, 0], c=\"black\", label=\"test_this\")\n",
    "ax.plot(range(1, end), cvresult3.iloc[:, 2], c=\"blue\", label=\"train_this\")\n",
    "ax.legend(fontsize = \"xx-large\")\n",
    "ax.set_ylim(bottom=-0.1, top=0.5)\n",
    "plt.savefig(\"./imgs/cv.svg\")\n",
    "plt.show()"
   ]
  },
  {
   "cell_type": "code",
   "execution_count": null,
   "metadata": {},
   "outputs": [],
   "source": [
    "xgb_model = xgb.train(params=param3, dtrain=xgb_train, num_boost_round=400)\n",
    "predict = xgb_model.predict(xgb_test)"
   ]
  },
  {
   "cell_type": "markdown",
   "metadata": {},
   "source": [
    "#### 模型保存"
   ]
  },
  {
   "cell_type": "code",
   "execution_count": null,
   "metadata": {},
   "outputs": [],
   "source": [
    "joblib.dump(xgb_model, \"model/stacking.dat\")"
   ]
  },
  {
   "cell_type": "markdown",
   "metadata": {},
   "source": [
    "## 模型的可解释性\n",
    "目的：通过对模型的的预测结果进行追本溯源，从而解释模型“为什么？”"
   ]
  },
  {
   "cell_type": "code",
   "execution_count": null,
   "metadata": {},
   "outputs": [],
   "source": [
    "import shap\n",
    "\n",
    "shap.initjs()\n",
    "model = joblib.load(\"model/xgb_reg.dat\")"
   ]
  },
  {
   "cell_type": "code",
   "execution_count": null,
   "metadata": {},
   "outputs": [],
   "source": [
    "# 构建解释器\n",
    "explainer = shap.TreeExplainer(model)\n",
    "shap_values = explainer.shap_values(train)\n",
    "pd.DataFrame(shap_values, columns=train.columns)"
   ]
  },
  {
   "cell_type": "code",
   "execution_count": null,
   "metadata": {},
   "outputs": [],
   "source": [
    "# 检查模型有关预测结果的重要特征\n",
    "# shap特征重要性\n",
    "shap.summary_plot(shap_values, train, plot_type=\"bar\")"
   ]
  },
  {
   "cell_type": "markdown",
   "metadata": {},
   "source": [
    "结论：可以看出，对于房价的价格的波动起重要性的作用的特征为：总体房屋价格（组合特征），房屋的整体质量，房屋的重塑时间等，这几个特征的变化对最终的有重要作用。"
   ]
  },
  {
   "cell_type": "code",
   "execution_count": null,
   "metadata": {},
   "outputs": [],
   "source": [
    "feature_importance = pd.DataFrame([train.columns, model.feature_importances_]).T\n",
    "feature_importance.columns = [\"Feature\", \"Importance\"]\n",
    "feature_importance.sort_values(by=\"Importance\", ascending=False).head(10)"
   ]
  },
  {
   "cell_type": "code",
   "execution_count": null,
   "metadata": {},
   "outputs": [],
   "source": [
    "# Shap解释力图（单样本重要特征描述）\n",
    "# 样本1\n",
    "shap.force_plot(explainer.expected_value\n",
    "                , shap_values[1,:]\n",
    "                , train.iloc[1,:]\n",
    "                , matplotlib=True\n",
    "               )"
   ]
  },
  {
   "cell_type": "code",
   "execution_count": null,
   "metadata": {},
   "outputs": [],
   "source": [
    "shap.bar_plot(shap_values[1], train.iloc[1,:])"
   ]
  },
  {
   "cell_type": "code",
   "execution_count": null,
   "metadata": {},
   "outputs": [],
   "source": [
    "shap.waterfall_plot(explainer.expected_value, shap_values[1], feature_names=train.columns.tolist())"
   ]
  },
  {
   "cell_type": "code",
   "execution_count": null,
   "metadata": {},
   "outputs": [],
   "source": [
    "# 样本2\n",
    "shap.force_plot(explainer.expected_value\n",
    "                , shap_values[2,:]\n",
    "                , train.iloc[2,:]\n",
    "                , matplotlib=True\n",
    "               )"
   ]
  },
  {
   "cell_type": "code",
   "execution_count": null,
   "metadata": {},
   "outputs": [],
   "source": [
    "shap.bar_plot(shap_values[2], train.iloc[2,:])"
   ]
  },
  {
   "cell_type": "code",
   "execution_count": null,
   "metadata": {},
   "outputs": [],
   "source": [
    "shap.waterfall_plot(explainer.expected_value\n",
    "                    , shap_values[2]\n",
    "                    , feature_names=train.columns.tolist()\n",
    "                   )"
   ]
  },
  {
   "cell_type": "markdown",
   "metadata": {},
   "source": [
    "结论：通过两个实例样本进行特征重要性的解释，样本的预测价格略低，是由于房屋的整体质量欠缺，而总体额定值较高使其价格增增高的原因。对于样本2的房屋价格高于样本1的原因卡源于房屋整体质量好、居住面积大。"
   ]
  },
  {
   "cell_type": "code",
   "execution_count": null,
   "metadata": {},
   "outputs": [],
   "source": [
    "# shap摘要图\n",
    "shap.summary_plot(shap_values, train)"
   ]
  },
  {
   "cell_type": "markdown",
   "metadata": {},
   "source": [
    "结论：从shao摘要图中可以看，越是最新建造的、整体质量高、面积越大房屋，对于最后的预测价格越有影响，这也符合实际情况。"
   ]
  },
  {
   "cell_type": "code",
   "execution_count": null,
   "metadata": {},
   "outputs": [],
   "source": [
    "shap.decision_plot(explainer.expected_value\n",
    "                   ,shap_values[2]\n",
    "                   , feature_names=train.columns.tolist())"
   ]
  },
  {
   "cell_type": "markdown",
   "metadata": {},
   "source": [
    "结论：暂时看不懂"
   ]
  },
  {
   "cell_type": "code",
   "execution_count": null,
   "metadata": {},
   "outputs": [],
   "source": [
    "shap.embedding_plot(ind=\"TotalSF\"\n",
    "                    , shap_values=shap_values\n",
    "                    , feature_names=train.columns.tolist()\n",
    "                   )"
   ]
  },
  {
   "cell_type": "code",
   "execution_count": null,
   "metadata": {},
   "outputs": [],
   "source": [
    "shap.save_html(\"./imgs/force_plot.html\", plot_html=shap.force_plot(explainer.expected_value\n",
    "                , shap_values[1,:]\n",
    "                , train.iloc[1,:]\n",
    "#                 , matplotlib=True\n",
    "               ))"
   ]
  },
  {
   "cell_type": "markdown",
   "metadata": {},
   "source": [
    "## Kaggle预测"
   ]
  },
  {
   "cell_type": "code",
   "execution_count": 265,
   "metadata": {},
   "outputs": [],
   "source": [
    "predict = np.expm1(predict)\n",
    "sub = pd.DataFrame()\n",
    "sub['Id'] = test_ID\n",
    "sub['SalePrice'] = predict\n",
    "sub.to_csv('submission.csv',index=False)"
   ]
  },
  {
   "cell_type": "markdown",
   "metadata": {},
   "source": [
    "## 参考\n",
    "[stats.boxcox()函数详解](https://blog.csdn.net/The_Time_Runner/article/details/99459905?utm_medium=distribute.pc_relevant.none-task-blog-baidujs-2)  \n",
    "[模型融合](https://zhuanlan.zhihu.com/p/34904202)  \n",
    "[峰度（Kurtosis）和偏度（Skewness）](https://blog.csdn.net/jmydream/article/details/8562089?utm_medium=distribute.pc_relevant.none-task-blog-BlogCommendFromMachineLearnPai2-2.nonecase&depth_1-utm_source=distribute.pc_relevant.none-task-blog-BlogCommendFromMachineLearnPai2-2.nonecase)　　\n"
   ]
  },
  {
   "cell_type": "code",
   "execution_count": null,
   "metadata": {},
   "outputs": [],
   "source": []
  }
 ],
 "metadata": {
  "kernelspec": {
   "display_name": "Python 3",
   "language": "python",
   "name": "python3"
  },
  "language_info": {
   "codemirror_mode": {
    "name": "ipython",
    "version": 3
   },
   "file_extension": ".py",
   "mimetype": "text/x-python",
   "name": "python",
   "nbconvert_exporter": "python",
   "pygments_lexer": "ipython3",
   "version": "3.8.5"
  },
  "toc-autonumbering": false,
  "toc-showmarkdowntxt": false
 },
 "nbformat": 4,
 "nbformat_minor": 4
}
