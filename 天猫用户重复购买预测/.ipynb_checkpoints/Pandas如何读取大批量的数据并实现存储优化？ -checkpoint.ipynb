{
 "cells": [
  {
   "cell_type": "markdown",
   "id": "dependent-friend",
   "metadata": {},
   "source": [
    "# Pandas如何读取大批量的数据并实现存储优化？"
   ]
  },
  {
   "cell_type": "markdown",
   "id": "august-watershed",
   "metadata": {},
   "source": [
    "## Pandas如何读取大批量的数据?"
   ]
  },
  {
   "cell_type": "code",
   "execution_count": null,
   "id": "featured-methodology",
   "metadata": {},
   "outputs": [],
   "source": [
    "# 问题：如何在pandas读取大批量的数据?\n",
    "# 数据量过大，采用迭代方法, 此时占用内存存储空间为大约3GB\n",
    "reader = pd.read_csv(\"./data/data_format1/user_log_format1.csv\"\n",
    "                     , iterator=True\n",
    "                    )\n",
    "                    \n",
    "loop = True\n",
    "chunkSize = 100000\n",
    "chunks = []\n",
    "\n",
    "while loop:\n",
    "    try:\n",
    "        chunk = reader.get_chunk(chunkSize)\n",
    "        chunks.append(chunk)\n",
    "    except StopIteration:\n",
    "        loop = False\n",
    "        print(\"Iteration is stopped.\")\n",
    "        \n",
    "df = pd.concat(chunks, ignore_index=True)\n",
    "df.info()"
   ]
  },
  {
   "cell_type": "markdown",
   "id": "applied-gross",
   "metadata": {},
   "source": [
    "``` python\n",
    "Iteration is stopped.\n",
    "<class 'pandas.core.frame.DataFrame'>\n",
    "RangeIndex: 54925330 entries, 0 to 54925329\n",
    "Data columns (total 7 columns):\n",
    " #   Column       Dtype  \n",
    "---  ------       -----  \n",
    " 0   user_id      int64  \n",
    " 1   item_id      int64  \n",
    " 2   cat_id       int64  \n",
    " 3   seller_id    int64  \n",
    " 4   brand_id     float64\n",
    " 5   time_stamp   int64  \n",
    " 6   action_type  int64  \n",
    "dtypes: float64(1), int64(6)\n",
    "memory usage: 2.9 GB\n",
    "```"
   ]
  },
  {
   "cell_type": "markdown",
   "id": "improving-miami",
   "metadata": {},
   "source": [
    "## 内存优化?\n",
    "通过优化存储类型，如int32-->int16"
   ]
  },
  {
   "cell_type": "code",
   "execution_count": 3,
   "id": "worthy-reproduction",
   "metadata": {},
   "outputs": [],
   "source": [
    "def reduce_mem(df):\n",
    "    \"\"\"\n",
    "    对于数值类型的数据进行内存节省\n",
    "    \"\"\"\n",
    "    \n",
    "    starttime = time.time()\n",
    "    numerics = ['int16', 'int32', 'int64', 'float16', 'float32', 'float64']\n",
    "    start_mem = df.memory_usage().sum() / 1024**2  # 统计内存使用情况\n",
    "    \n",
    "    for col in df.columns:\n",
    "        col_type = df[col].dtypes\n",
    "        if col_type in numerics:\n",
    "            c_min = df[col].min()\n",
    "            c_max = df[col].max()\n",
    "            if pd.isnull(c_min) or pd.isnull(c_max):\n",
    "                continue\n",
    "            if str(col_type)[:3] == 'int':\n",
    "                # 装换数据类型\n",
    "                if c_min > np.iinfo(np.int8).min and c_max < np.iinfo(np.int8).max:\n",
    "                    df[col] = df[col].astype(np.int8)\n",
    "                elif c_min > np.iinfo(np.int16).min and c_max < np.iinfo(np.int16).max:\n",
    "                    df[col] = df[col].astype(np.int16)\n",
    "                elif c_min > np.iinfo(np.int32).min and c_max < np.iinfo(np.int32).max:\n",
    "                    df[col] = df[col].astype(np.int32)\n",
    "                elif c_min > np.iinfo(np.int64).min and c_max < np.iinfo(np.int64).max:\n",
    "                    df[col] = df[col].astype(np.int64)\n",
    "            else:\n",
    "                if c_min > np.finfo(np.float16).min and c_max < np.finfo(np.float16).max:\n",
    "                    df[col] = df[col].astype(np.float16)\n",
    "                elif c_min > np.finfo(np.float32).min and c_max < np.finfo(np.float32).max:\n",
    "                    df[col] = df[col].astype(np.float32)\n",
    "                else:\n",
    "                    df[col] = df[col].astype(np.float64)\n",
    "                    \n",
    "    end_mem = df.memory_usage().sum() / 1024**2\n",
    "    \n",
    "    print('-- Mem. usage decreased to {:5.2f} Mb ({:.1f}% reduction),time spend:{:2.2f} min'.format(end_mem,\n",
    "                                                                                                           100*(start_mem-end_mem)/start_mem,\n",
    "                                                                                                           (time.time()-starttime)/60))\n",
    "    return df"
   ]
  },
  {
   "cell_type": "code",
   "execution_count": null,
   "id": "nominated-segment",
   "metadata": {},
   "outputs": [],
   "source": []
  },
  {
   "cell_type": "code",
   "execution_count": null,
   "id": "silent-guide",
   "metadata": {},
   "outputs": [],
   "source": []
  },
  {
   "cell_type": "code",
   "execution_count": null,
   "id": "eligible-florida",
   "metadata": {},
   "outputs": [],
   "source": []
  },
  {
   "cell_type": "code",
   "execution_count": null,
   "id": "consecutive-damage",
   "metadata": {},
   "outputs": [],
   "source": []
  }
 ],
 "metadata": {
  "kernelspec": {
   "display_name": "Python 3",
   "language": "python",
   "name": "python3"
  },
  "language_info": {
   "codemirror_mode": {
    "name": "ipython",
    "version": 3
   },
   "file_extension": ".py",
   "mimetype": "text/x-python",
   "name": "python",
   "nbconvert_exporter": "python",
   "pygments_lexer": "ipython3",
   "version": "3.8.5"
  }
 },
 "nbformat": 4,
 "nbformat_minor": 5
}
